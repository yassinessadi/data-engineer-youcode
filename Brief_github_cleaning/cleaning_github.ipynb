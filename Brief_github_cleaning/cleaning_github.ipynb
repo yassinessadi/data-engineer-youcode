{
 "cells": [
  {
   "attachments": {},
   "cell_type": "markdown",
   "metadata": {},
   "source": [
    "# <hr style='color:blue'/>\n",
    "# <h4 style='color:crimson;font-size:20px;text-align:center'>------------------imports------------------</h4>\n",
    "# <hr style='color:blue'/>"
   ]
  },
  {
   "cell_type": "code",
   "execution_count": 25,
   "metadata": {},
   "outputs": [],
   "source": [
    "import pandas as pd\n",
    "import seaborn as sb\n",
    "from googletrans import Translator\n",
    "import time"
   ]
  },
  {
   "attachments": {},
   "cell_type": "markdown",
   "metadata": {},
   "source": [
    "# <hr style='color:blue'/>\n",
    "# <h4 style='color:crimson;font-size:20px;text-align:center'>------------------red CSV file and drop first column------------------</h4>\n",
    "# <hr style='color:blue'/>"
   ]
  },
  {
   "cell_type": "code",
   "execution_count": 4,
   "metadata": {},
   "outputs": [],
   "source": [
    "df = pd.read_csv('C:\\\\csv-data-collect\\\\github-2023_2.csv',index_col=0)"
   ]
  },
  {
   "attachments": {},
   "cell_type": "markdown",
   "metadata": {},
   "source": [
    "# <hr />\n",
    "# <p style='color:crimson;text-align:center;font-size:20px'>Scheme to describe a process</p>\n",
    "# <hr />"
   ]
  },
  {
   "attachments": {},
   "cell_type": "markdown",
   "metadata": {},
   "source": [
    "# <img src='https://cdn.discordapp.com/attachments/922505547096408077/1121716104461557850/Road-map.png' />\n",
    "#"
   ]
  },
  {
   "attachments": {},
   "cell_type": "markdown",
   "metadata": {},
   "source": [
    "# <hr style='color:blue'/>\n",
    "# <h4 style='color:crimson;font-size:20px;text-align:center'>------------------duplicates------------------</h4>\n",
    "# <hr style='color:blue'/>"
   ]
  },
  {
   "cell_type": "code",
   "execution_count": 5,
   "metadata": {},
   "outputs": [
    {
     "name": "stdout",
     "output_type": "stream",
     "text": [
      "\u001b[31m\"Duplicate shape:(683, 16):\"\u001b[0m\n"
     ]
    }
   ],
   "source": [
    "dup_shape = df[df.duplicated()].shape\n",
    "print(f'\\x1b[31m\\\"Duplicate shape:{dup_shape}:\\\"\\x1b[0m')"
   ]
  },
  {
   "cell_type": "code",
   "execution_count": 23,
   "metadata": {},
   "outputs": [
    {
     "name": "stdout",
     "output_type": "stream",
     "text": [
      "\u001b[31m\"Duplicate shape:None:\"\u001b[0m\n"
     ]
    }
   ],
   "source": [
    "dup_shape = df.drop_duplicates(inplace=True)\n",
    "print(f'\\x1b[31m\\\"Duplicate shape:{dup_shape}:\\\"\\x1b[0m')"
   ]
  },
  {
   "attachments": {},
   "cell_type": "markdown",
   "metadata": {},
   "source": [
    "# <hr style='color:blue'/>\n",
    "# <h4 style='color:crimson;font-size:20px;text-align:center'>------------------Languages------------------</h4>\n",
    "# <hr style='color:blue'/>"
   ]
  },
  {
   "cell_type": "code",
   "execution_count": 22,
   "metadata": {},
   "outputs": [
    {
     "name": "stdout",
     "output_type": "stream",
     "text": [
      "\u001b[31m\"--------------------------------List of languages--------------------------------\"\u001b[0m\n"
     ]
    },
    {
     "data": {
      "text/plain": [
       "310"
      ]
     },
     "execution_count": 22,
     "metadata": {},
     "output_type": "execute_result"
    }
   ],
   "source": [
    "print('\\x1b[31m\\\"--------------------------------List of languages:--------------------------------\\\"\\x1b[0m')\n",
    "len(df['language'].unique().tolist())"
   ]
  },
  {
   "cell_type": "code",
   "execution_count": 8,
   "metadata": {},
   "outputs": [
    {
     "name": "stdout",
     "output_type": "stream",
     "text": [
      "\u001b[31m\"Language with value of Null:(18585, 16):\"\u001b[0m\n"
     ]
    }
   ],
   "source": [
    "Null_language = df.loc[df['language'].isna()].shape\n",
    "print(f'\\x1b[31m\\\"Language with value of Null:{Null_language}:\\\"\\x1b[0m')"
   ]
  },
  {
   "cell_type": "code",
   "execution_count": 9,
   "metadata": {},
   "outputs": [
    {
     "name": "stdout",
     "output_type": "stream",
     "text": [
      "\u001b[31m\"Language with value of Null:None:\"\u001b[0m\n"
     ]
    }
   ],
   "source": [
    "Null_language = df.loc[df['language'].isna()].index\n",
    "Null_language = df.drop(Null_language,inplace=True)\n",
    "print(f'\\x1b[31m\\\"Language with value of Null:{Null_language}:\\\"\\x1b[0m')"
   ]
  },
  {
   "attachments": {},
   "cell_type": "markdown",
   "metadata": {},
   "source": [
    "# <hr style='color:blue'/>\n",
    "# <h4 style='color:crimson;font-size:20px;text-align:center'>------------------Check for Outliers------------------</h4>\n",
    "# <hr style='color:blue'/>"
   ]
  },
  {
   "cell_type": "code",
   "execution_count": 10,
   "metadata": {},
   "outputs": [
    {
     "name": "stdout",
     "output_type": "stream",
     "text": [
      "\u001b[31m\"Display Outliers using boxplot:\"\u001b[0m\n"
     ]
    },
    {
     "data": {
      "text/plain": [
       "<Axes: >"
      ]
     },
     "execution_count": 10,
     "metadata": {},
     "output_type": "execute_result"
    },
    {
     "data": {
      "image/png": "[encoded data removed]",
      "text/plain": [
       "<Figure size 640x480 with 1 Axes>"
      ]
     },
     "metadata": {},
     "output_type": "display_data"
    }
   ],
   "source": [
    "print(f'\\x1b[31m\\\"Display Outliers using boxplot:\\\"\\x1b[0m')\n",
    "sb.boxplot(df[['stargazers_count','forks','open_issues_count']])"
   ]
  },
  {
   "cell_type": "code",
   "execution_count": 11,
   "metadata": {},
   "outputs": [
    {
     "name": "stdout",
     "output_type": "stream",
     "text": [
      "\u001b[31m\"Implementation For Stars:\"\u001b[0m\n",
      "\u001b[31m\"Lower Whisker:-5.0:\"\u001b[0m\n",
      "\u001b[31m\"Lower Whisker:19.0:\"\u001b[0m\n"
     ]
    },
    {
     "data": {
      "text/plain": [
       "(17608, 16)"
      ]
     },
     "execution_count": 11,
     "metadata": {},
     "output_type": "execute_result"
    }
   ],
   "source": [
    "print(f'\\x1b[31m\\\"Implementation For Stars:\\\"\\x1b[0m')\n",
    "Q1 = df['stargazers_count'].quantile(0.25)\n",
    "Q3 = df['stargazers_count'].quantile(0.75)\n",
    "IQR = Q3 - Q1\n",
    "\n",
    "\n",
    "Lower_Whisker = Q1 - (1.5 * IQR)\n",
    "Upper_Whisker = Q3 + (1.5 * IQR)\n",
    "\n",
    "print(f'\\x1b[31m\\\"Lower Whisker:{Lower_Whisker}:\\\"\\x1b[0m')\n",
    "print(f'\\x1b[31m\\\"Lower Whisker:{Upper_Whisker}:\\\"\\x1b[0m')\n",
    "\n",
    "df.loc[(df['stargazers_count'] < Lower_Whisker)|(df['stargazers_count'] > Upper_Whisker)].shape\n"
   ]
  },
  {
   "cell_type": "code",
   "execution_count": 12,
   "metadata": {},
   "outputs": [
    {
     "name": "stdout",
     "output_type": "stream",
     "text": [
      "\u001b[31m\"Implementation For Forks:\"\u001b[0m\n",
      "\u001b[31m\"Lower Whisker:-3.0:\"\u001b[0m\n",
      "\u001b[31m\"Upper Whisker:5.0:\"\u001b[0m\n"
     ]
    },
    {
     "data": {
      "text/plain": [
       "(12654, 16)"
      ]
     },
     "execution_count": 12,
     "metadata": {},
     "output_type": "execute_result"
    }
   ],
   "source": [
    "print(f'\\x1b[31m\\\"Implementation For Forks:\\\"\\x1b[0m')\n",
    "Q1 = df['forks'].quantile(0.25)\n",
    "Q3 = df['forks'].quantile(0.75)\n",
    "IQR = Q3 - Q1\n",
    "\n",
    "\n",
    "Lower_Whisker = Q1 - (1.5 * IQR)\n",
    "Upper_Whisker = Q3 + (1.5 * IQR)\n",
    "\n",
    "print(f'\\x1b[31m\\\"Lower Whisker:{Lower_Whisker}:\\\"\\x1b[0m')\n",
    "print(f'\\x1b[31m\\\"Upper Whisker:{Upper_Whisker}:\\\"\\x1b[0m')\n",
    "\n",
    "df.loc[(df['forks'] < Lower_Whisker)|(df['forks'] > Upper_Whisker)].shape\n"
   ]
  },
  {
   "cell_type": "code",
   "execution_count": 13,
   "metadata": {},
   "outputs": [
    {
     "name": "stdout",
     "output_type": "stream",
     "text": [
      "\u001b[31m\"Implementation For Open Issues:\"\u001b[0m\n",
      "\u001b[31m\"Lower Whisker:-1.5:\"\u001b[0m\n",
      "\u001b[31m\"Upper Whisker:2.5:\"\u001b[0m\n"
     ]
    },
    {
     "data": {
      "text/plain": [
       "(13582, 16)"
      ]
     },
     "execution_count": 13,
     "metadata": {},
     "output_type": "execute_result"
    }
   ],
   "source": [
    "print(f'\\x1b[31m\\\"Implementation For Open Issues:\\\"\\x1b[0m')\n",
    "Q1 = df['open_issues_count'].quantile(0.25)\n",
    "Q3 = df['open_issues_count'].quantile(0.75)\n",
    "IQR = Q3 - Q1\n",
    "\n",
    "\n",
    "Lower_Whisker = Q1 - (1.5 * IQR)\n",
    "Upper_Whisker = Q3 + (1.5 * IQR)\n",
    "\n",
    "print(f'\\x1b[31m\\\"Lower Whisker:{Lower_Whisker}:\\\"\\x1b[0m')\n",
    "print(f'\\x1b[31m\\\"Upper Whisker:{Upper_Whisker}:\\\"\\x1b[0m')\n",
    "\n",
    "df.loc[(df['open_issues_count'] < Lower_Whisker)|(df['open_issues_count'] > Upper_Whisker)].shape"
   ]
  },
  {
   "attachments": {},
   "cell_type": "markdown",
   "metadata": {},
   "source": [
    "# <hr style='color:blue'/>\n",
    "# <h4 style='color:crimson;font-size:20px;text-align:center'>------------------Standardize Formats------------------</h4>\n",
    "# <hr style='color:blue'/>"
   ]
  },
  {
   "cell_type": "code",
   "execution_count": 14,
   "metadata": {},
   "outputs": [
    {
     "name": "stdout",
     "output_type": "stream",
     "text": [
      "\u001b[31m\"--------------------------------created--------------------------------\"\u001b[0m\n",
      "0    2023-01-01\n",
      "2    2023-01-01\n",
      "Name: created_at, dtype: object\n",
      "\u001b[31m\"--------------------------------updated--------------------------------\"\u001b[0m\n",
      "0    2023-06-21\n",
      "2    2023-06-20\n",
      "Name: updated_at, dtype: object\n",
      "\u001b[31m\"--------------------------------pushed--------------------------------\"\u001b[0m\n",
      "0    2023-06-20\n",
      "2    2023-06-20\n",
      "Name: pushed_at, dtype: object\n"
     ]
    }
   ],
   "source": [
    "df['created_at'] = pd.to_datetime(df['created_at'])\n",
    "df['updated_at'] = pd.to_datetime(df['updated_at'])\n",
    "df['pushed_at'] = pd.to_datetime(df['pushed_at'])\n",
    "print('\\x1b[31m\\\"--------------------------------created--------------------------------\\\"\\x1b[0m')\n",
    "print(df['created_at'].dt.date.head(2))\n",
    "print('\\x1b[31m\\\"--------------------------------updated--------------------------------\\\"\\x1b[0m')\n",
    "print(df['updated_at'].dt.date.head(2))\n",
    "print('\\x1b[31m\\\"--------------------------------pushed--------------------------------\\\"\\x1b[0m')\n",
    "print(df['pushed_at'].dt.date.head(2))"
   ]
  },
  {
   "cell_type": "code",
   "execution_count": 29,
   "metadata": {},
   "outputs": [
    {
     "name": "stdout",
     "output_type": "stream",
     "text": [
      "\u001b[31m\"--------------------------------Translate--------------------------------\"\u001b[0m\n"
     ]
    },
    {
     "data": {
      "text/plain": [
       "'اسدي'"
      ]
     },
     "execution_count": 29,
     "metadata": {},
     "output_type": "execute_result"
    }
   ],
   "source": [
    "print('\\x1b[31m\\\"--------------------------------Translate--------------------------------\\\"\\x1b[0m')\n",
    "\n",
    "translator = Translator()\n",
    "\n",
    "def translate_desc(text):\n",
    "    if text == 'No Description' or translator.detect(text=text).lang =='en':\n",
    "        return text\n",
    "    else:\n",
    "        time.sleep(1)\n",
    "        return translator.translate(text=text,dest='ar').text\n",
    "\n",
    "df['description'] = df['description'].apply(translate_desc)"
   ]
  },
  {
   "attachments": {},
   "cell_type": "markdown",
   "metadata": {},
   "source": [
    "# <hr style='color:blue'/>\n",
    "# <h4 style='color:crimson;font-size:20px;text-align:center'>------------------Correct Errors------------------</h4>\n",
    "# <hr style='color:blue'/>"
   ]
  },
  {
   "cell_type": "code",
   "execution_count": 16,
   "metadata": {},
   "outputs": [
    {
     "name": "stdout",
     "output_type": "stream",
     "text": [
      "\u001b[31m\"--------------------------------remove special charachters and emojis--------------------------------\"\u001b[0m\n"
     ]
    },
    {
     "data": {
      "text/html": [
       "<div>\n",
       "<style scoped>\n",
       "    .dataframe tbody tr th:only-of-type {\n",
       "        vertical-align: middle;\n",
       "    }\n",
       "\n",
       "    .dataframe tbody tr th {\n",
       "        vertical-align: top;\n",
       "    }\n",
       "\n",
       "    .dataframe thead th {\n",
       "        text-align: right;\n",
       "    }\n",
       "</style>\n",
       "<table border=\"1\" class=\"dataframe\">\n",
       "  <thead>\n",
       "    <tr style=\"text-align: right;\">\n",
       "      <th></th>\n",
       "      <th>id</th>\n",
       "      <th>full_name</th>\n",
       "      <th>url</th>\n",
       "      <th>clone_url</th>\n",
       "      <th>stargazers_count</th>\n",
       "      <th>language</th>\n",
       "      <th>forks</th>\n",
       "      <th>created_at</th>\n",
       "      <th>updated_at</th>\n",
       "      <th>pushed_at</th>\n",
       "      <th>description</th>\n",
       "      <th>languages_url</th>\n",
       "      <th>open_issues_count</th>\n",
       "      <th>topics</th>\n",
       "      <th>license</th>\n",
       "      <th>owner</th>\n",
       "    </tr>\n",
       "  </thead>\n",
       "  <tbody>\n",
       "    <tr>\n",
       "      <th>388</th>\n",
       "      <td>584214954</td>\n",
       "      <td>SyedAhkam/swim</td>\n",
       "      <td>https://github.com/SyedAhkam/swim</td>\n",
       "      <td>https://github.com/SyedAhkam/swim.git</td>\n",
       "      <td>5</td>\n",
       "      <td>Rust</td>\n",
       "      <td>0</td>\n",
       "      <td>2023-01-01 21:31:32+00:00</td>\n",
       "      <td>2023-02-09 11:08:34+00:00</td>\n",
       "      <td>2023-02-14 19:47:39+00:00</td>\n",
       "      <td>A batteries included rust web framework</td>\n",
       "      <td>https://api.github.com/repos/SyedAhkam/swim/la...</td>\n",
       "      <td>1</td>\n",
       "      <td>['async', 'rust', 'web', 'web-framework']</td>\n",
       "      <td>MIT License</td>\n",
       "      <td>User</td>\n",
       "    </tr>\n",
       "  </tbody>\n",
       "</table>\n",
       "</div>"
      ],
      "text/plain": [
       "            id       full_name                                url   \n",
       "388  584214954  SyedAhkam/swim  https://github.com/SyedAhkam/swim  \\\n",
       "\n",
       "                                 clone_url  stargazers_count language  forks   \n",
       "388  https://github.com/SyedAhkam/swim.git                 5     Rust      0  \\\n",
       "\n",
       "                   created_at                updated_at   \n",
       "388 2023-01-01 21:31:32+00:00 2023-02-09 11:08:34+00:00  \\\n",
       "\n",
       "                    pushed_at                                 description   \n",
       "388 2023-02-14 19:47:39+00:00  A batteries included rust web framework     \\\n",
       "\n",
       "                                         languages_url  open_issues_count   \n",
       "388  https://api.github.com/repos/SyedAhkam/swim/la...                  1  \\\n",
       "\n",
       "                                        topics      license owner  \n",
       "388  ['async', 'rust', 'web', 'web-framework']  MIT License  User  "
      ]
     },
     "execution_count": 16,
     "metadata": {},
     "output_type": "execute_result"
    }
   ],
   "source": [
    "import re\n",
    "print('\\x1b[31m\\\"--------------------------------remove special charachters and emojis--------------------------------\\\"\\x1b[0m')\n",
    "\n",
    "def clean_description(description):\n",
    "    if isinstance(description, str):\n",
    "        return re.sub(r'[\\U0001F000-\\U0001FFFF]|[\\U00010000-\\U0010FFFF]|[\\u2600-\\u26FF]|\\uD83C[\\uDF00-\\uDFFF]|\\uD83D[\\uDC00-\\uDE4F]|\\uD83D[\\uDE80-\\uDEFF]|\\uD7C9[\\uDC00-\\uDDFF]|\\u2728', '', description)\n",
    "    else:\n",
    "        return description\n",
    "df['description'] = df['description'].apply(clean_description)\n",
    "df[df['full_name'] =='SyedAhkam/swim']"
   ]
  },
  {
   "attachments": {},
   "cell_type": "markdown",
   "metadata": {},
   "source": [
    "# <hr style='color:blue'/>\n",
    "# <h4 style='color:crimson;font-size:20px;text-align:center'>------------------Handle missing values------------------</h4>\n",
    "# <hr style='color:blue'/>"
   ]
  },
  {
   "cell_type": "code",
   "execution_count": 17,
   "metadata": {},
   "outputs": [
    {
     "name": "stdout",
     "output_type": "stream",
     "text": [
      "\u001b[31m\"--------------------------------Description: Replace \"null\" value with \"No Description\" value--------------------------------\"\u001b[0m\n"
     ]
    },
    {
     "data": {
      "text/html": [
       "<div>\n",
       "<style scoped>\n",
       "    .dataframe tbody tr th:only-of-type {\n",
       "        vertical-align: middle;\n",
       "    }\n",
       "\n",
       "    .dataframe tbody tr th {\n",
       "        vertical-align: top;\n",
       "    }\n",
       "\n",
       "    .dataframe thead th {\n",
       "        text-align: right;\n",
       "    }\n",
       "</style>\n",
       "<table border=\"1\" class=\"dataframe\">\n",
       "  <thead>\n",
       "    <tr style=\"text-align: right;\">\n",
       "      <th></th>\n",
       "      <th>id</th>\n",
       "      <th>full_name</th>\n",
       "      <th>url</th>\n",
       "      <th>clone_url</th>\n",
       "      <th>stargazers_count</th>\n",
       "      <th>language</th>\n",
       "      <th>forks</th>\n",
       "      <th>created_at</th>\n",
       "      <th>updated_at</th>\n",
       "      <th>pushed_at</th>\n",
       "      <th>description</th>\n",
       "      <th>languages_url</th>\n",
       "      <th>open_issues_count</th>\n",
       "      <th>topics</th>\n",
       "      <th>license</th>\n",
       "      <th>owner</th>\n",
       "    </tr>\n",
       "  </thead>\n",
       "  <tbody>\n",
       "    <tr>\n",
       "      <th>21</th>\n",
       "      <td>584200680</td>\n",
       "      <td>xabblll/DoomInUnityInspector</td>\n",
       "      <td>https://github.com/xabblll/DoomInUnityInspector</td>\n",
       "      <td>https://github.com/xabblll/DoomInUnityInspecto...</td>\n",
       "      <td>87</td>\n",
       "      <td>C#</td>\n",
       "      <td>7</td>\n",
       "      <td>2023-01-01 20:02:11+00:00</td>\n",
       "      <td>2023-05-31 01:52:07+00:00</td>\n",
       "      <td>2023-01-06 22:42:51+00:00</td>\n",
       "      <td>No Description</td>\n",
       "      <td>https://api.github.com/repos/xabblll/DoomInUni...</td>\n",
       "      <td>0</td>\n",
       "      <td>[]</td>\n",
       "      <td>NaN</td>\n",
       "      <td>User</td>\n",
       "    </tr>\n",
       "  </tbody>\n",
       "</table>\n",
       "</div>"
      ],
      "text/plain": [
       "           id                     full_name   \n",
       "21  584200680  xabblll/DoomInUnityInspector  \\\n",
       "\n",
       "                                                url   \n",
       "21  https://github.com/xabblll/DoomInUnityInspector  \\\n",
       "\n",
       "                                            clone_url  stargazers_count   \n",
       "21  https://github.com/xabblll/DoomInUnityInspecto...                87  \\\n",
       "\n",
       "   language  forks                created_at                updated_at   \n",
       "21       C#      7 2023-01-01 20:02:11+00:00 2023-05-31 01:52:07+00:00  \\\n",
       "\n",
       "                   pushed_at     description   \n",
       "21 2023-01-06 22:42:51+00:00  No Description  \\\n",
       "\n",
       "                                        languages_url  open_issues_count   \n",
       "21  https://api.github.com/repos/xabblll/DoomInUni...                  0  \\\n",
       "\n",
       "   topics license owner  \n",
       "21     []     NaN  User  "
      ]
     },
     "execution_count": 17,
     "metadata": {},
     "output_type": "execute_result"
    }
   ],
   "source": [
    "print('\\x1b[31m\\\"--------------------------------Description: Replace \\\"null\\\" value with \\\"No Description\\\" value--------------------------------\\\"\\x1b[0m')\n",
    "df['description'].fillna('No Description',inplace=True)\n",
    "df[df['description'] == \"No Description\"].head(1)"
   ]
  },
  {
   "cell_type": "code",
   "execution_count": 18,
   "metadata": {},
   "outputs": [
    {
     "name": "stdout",
     "output_type": "stream",
     "text": [
      "\u001b[31m\"--------------------------------license: Replace \"null\" value with \"Not included\" value--------------------------------\"\u001b[0m\n"
     ]
    },
    {
     "data": {
      "text/html": [
       "<div>\n",
       "<style scoped>\n",
       "    .dataframe tbody tr th:only-of-type {\n",
       "        vertical-align: middle;\n",
       "    }\n",
       "\n",
       "    .dataframe tbody tr th {\n",
       "        vertical-align: top;\n",
       "    }\n",
       "\n",
       "    .dataframe thead th {\n",
       "        text-align: right;\n",
       "    }\n",
       "</style>\n",
       "<table border=\"1\" class=\"dataframe\">\n",
       "  <thead>\n",
       "    <tr style=\"text-align: right;\">\n",
       "      <th></th>\n",
       "      <th>id</th>\n",
       "      <th>full_name</th>\n",
       "      <th>url</th>\n",
       "      <th>clone_url</th>\n",
       "      <th>stargazers_count</th>\n",
       "      <th>language</th>\n",
       "      <th>forks</th>\n",
       "      <th>created_at</th>\n",
       "      <th>updated_at</th>\n",
       "      <th>pushed_at</th>\n",
       "      <th>description</th>\n",
       "      <th>languages_url</th>\n",
       "      <th>open_issues_count</th>\n",
       "      <th>topics</th>\n",
       "      <th>license</th>\n",
       "      <th>owner</th>\n",
       "    </tr>\n",
       "  </thead>\n",
       "  <tbody>\n",
       "    <tr>\n",
       "      <th>5</th>\n",
       "      <td>584219588</td>\n",
       "      <td>702573N/Obsidian-Tasks-Timeline</td>\n",
       "      <td>https://github.com/702573N/Obsidian-Tasks-Time...</td>\n",
       "      <td>https://github.com/702573N/Obsidian-Tasks-Time...</td>\n",
       "      <td>165</td>\n",
       "      <td>JavaScript</td>\n",
       "      <td>13</td>\n",
       "      <td>2023-01-01 22:02:50+00:00</td>\n",
       "      <td>2023-06-18 17:54:28+00:00</td>\n",
       "      <td>2023-06-02 07:24:32+00:00</td>\n",
       "      <td>A custom view build with Obsidian-Dataview to ...</td>\n",
       "      <td>https://api.github.com/repos/702573N/Obsidian-...</td>\n",
       "      <td>18</td>\n",
       "      <td>['dataview', 'obsidian-md', 'obsidian-plugin',...</td>\n",
       "      <td>Not included</td>\n",
       "      <td>User</td>\n",
       "    </tr>\n",
       "  </tbody>\n",
       "</table>\n",
       "</div>"
      ],
      "text/plain": [
       "          id                        full_name   \n",
       "5  584219588  702573N/Obsidian-Tasks-Timeline  \\\n",
       "\n",
       "                                                 url   \n",
       "5  https://github.com/702573N/Obsidian-Tasks-Time...  \\\n",
       "\n",
       "                                           clone_url  stargazers_count   \n",
       "5  https://github.com/702573N/Obsidian-Tasks-Time...               165  \\\n",
       "\n",
       "     language  forks                created_at                updated_at   \n",
       "5  JavaScript     13 2023-01-01 22:02:50+00:00 2023-06-18 17:54:28+00:00  \\\n",
       "\n",
       "                  pushed_at   \n",
       "5 2023-06-02 07:24:32+00:00  \\\n",
       "\n",
       "                                         description   \n",
       "5  A custom view build with Obsidian-Dataview to ...  \\\n",
       "\n",
       "                                       languages_url  open_issues_count   \n",
       "5  https://api.github.com/repos/702573N/Obsidian-...                 18  \\\n",
       "\n",
       "                                              topics       license owner  \n",
       "5  ['dataview', 'obsidian-md', 'obsidian-plugin',...  Not included  User  "
      ]
     },
     "execution_count": 18,
     "metadata": {},
     "output_type": "execute_result"
    }
   ],
   "source": [
    "print('\\x1b[31m\\\"--------------------------------license: Replace \\\"null\\\" value with \\\"Not included\\\" value--------------------------------\\\"\\x1b[0m')\n",
    "df['license'].fillna('Not included',inplace=True)\n",
    "df[df['license'] == \"Not included\"].head(1)"
   ]
  },
  {
   "cell_type": "code",
   "execution_count": 19,
   "metadata": {},
   "outputs": [
    {
     "name": "stdout",
     "output_type": "stream",
     "text": [
      "\u001b[31m\"--------------------------------topics: Replace \"null\" value with \"Not included\" value--------------------------------\"\u001b[0m\n"
     ]
    },
    {
     "data": {
      "text/html": [
       "<div>\n",
       "<style scoped>\n",
       "    .dataframe tbody tr th:only-of-type {\n",
       "        vertical-align: middle;\n",
       "    }\n",
       "\n",
       "    .dataframe tbody tr th {\n",
       "        vertical-align: top;\n",
       "    }\n",
       "\n",
       "    .dataframe thead th {\n",
       "        text-align: right;\n",
       "    }\n",
       "</style>\n",
       "<table border=\"1\" class=\"dataframe\">\n",
       "  <thead>\n",
       "    <tr style=\"text-align: right;\">\n",
       "      <th></th>\n",
       "      <th>id</th>\n",
       "      <th>full_name</th>\n",
       "      <th>url</th>\n",
       "      <th>clone_url</th>\n",
       "      <th>stargazers_count</th>\n",
       "      <th>language</th>\n",
       "      <th>forks</th>\n",
       "      <th>created_at</th>\n",
       "      <th>updated_at</th>\n",
       "      <th>pushed_at</th>\n",
       "      <th>description</th>\n",
       "      <th>languages_url</th>\n",
       "      <th>open_issues_count</th>\n",
       "      <th>topics</th>\n",
       "      <th>license</th>\n",
       "      <th>owner</th>\n",
       "    </tr>\n",
       "  </thead>\n",
       "  <tbody>\n",
       "    <tr>\n",
       "      <th>6</th>\n",
       "      <td>584022883</td>\n",
       "      <td>yacineMTB/scribepod</td>\n",
       "      <td>https://github.com/yacineMTB/scribepod</td>\n",
       "      <td>https://github.com/yacineMTB/scribepod.git</td>\n",
       "      <td>147</td>\n",
       "      <td>Jupyter Notebook</td>\n",
       "      <td>14</td>\n",
       "      <td>2023-01-01 00:34:43+00:00</td>\n",
       "      <td>2023-06-17 20:16:17+00:00</td>\n",
       "      <td>2023-03-04 22:08:55+00:00</td>\n",
       "      <td>Some of the scripts I use for scribepod @ http...</td>\n",
       "      <td>https://api.github.com/repos/yacineMTB/scribep...</td>\n",
       "      <td>0</td>\n",
       "      <td>[No topics]</td>\n",
       "      <td>Not included</td>\n",
       "      <td>User</td>\n",
       "    </tr>\n",
       "  </tbody>\n",
       "</table>\n",
       "</div>"
      ],
      "text/plain": [
       "          id            full_name                                     url   \n",
       "6  584022883  yacineMTB/scribepod  https://github.com/yacineMTB/scribepod  \\\n",
       "\n",
       "                                    clone_url  stargazers_count   \n",
       "6  https://github.com/yacineMTB/scribepod.git               147  \\\n",
       "\n",
       "           language  forks                created_at   \n",
       "6  Jupyter Notebook     14 2023-01-01 00:34:43+00:00  \\\n",
       "\n",
       "                 updated_at                 pushed_at   \n",
       "6 2023-06-17 20:16:17+00:00 2023-03-04 22:08:55+00:00  \\\n",
       "\n",
       "                                         description   \n",
       "6  Some of the scripts I use for scribepod @ http...  \\\n",
       "\n",
       "                                       languages_url  open_issues_count   \n",
       "6  https://api.github.com/repos/yacineMTB/scribep...                  0  \\\n",
       "\n",
       "        topics       license owner  \n",
       "6  [No topics]  Not included  User  "
      ]
     },
     "execution_count": 19,
     "metadata": {},
     "output_type": "execute_result"
    }
   ],
   "source": [
    "print('\\x1b[31m\\\"--------------------------------topics: Replace \\\"null\\\" value with \\\"Not included\\\" value--------------------------------\\\"\\x1b[0m')\n",
    "\n",
    "df['topics'] = df['topics'].replace(\"[]\", '[No topics]')\n",
    "df.loc[df['topics'] == '[No topics]'].head(1)"
   ]
  }
 ],
 "metadata": {
  "kernelspec": {
   "display_name": "Python 3",
   "language": "python",
   "name": "python3"
  },
  "language_info": {
   "codemirror_mode": {
    "name": "ipython",
    "version": 3
   },
   "file_extension": ".py",
   "mimetype": "text/x-python",
   "name": "python",
   "nbconvert_exporter": "python",
   "pygments_lexer": "ipython3",
   "version": "3.11.3"
  },
  "orig_nbformat": 4
 },
 "nbformat": 4,
 "nbformat_minor": 2
}
