{
 "cells": [
  {
   "attachments": {},
   "cell_type": "markdown",
   "metadata": {},
   "source": [
    "# <hr style='color:blue'/>\n",
    "# <h4 style='color:crimson;font-size:20px;text-align:center'>------------------imports------------------</h4>\n",
    "# <hr style='color:blue'/>"
   ]
  },
  {
   "cell_type": "code",
   "execution_count": 1,
   "metadata": {},
   "outputs": [],
   "source": [
    "import pandas as pd\n",
    "import seaborn as sb\n",
    "import time\n",
    "import re"
   ]
  },
  {
   "attachments": {},
   "cell_type": "markdown",
   "metadata": {},
   "source": [
    "# <hr style='color:blue'/>\n",
    "# <h4 style='color:crimson;font-size:20px;text-align:center'>------------------red CSV file and drop first column------------------</h4>\n",
    "# <hr style='color:blue'/>"
   ]
  },
  {
   "cell_type": "code",
   "execution_count": 2,
   "metadata": {},
   "outputs": [],
   "source": [
    "df = pd.read_csv('C:\\\\csv-data-collect\\\\github-2023_2.csv',index_col=0)\n",
    "df_contributors = pd.read_csv('C:\\\\csv-data-collect\\\\github-2023_06_31_contributors.csv')\n",
    "df_contributors_top_20 = pd.read_csv('C:\\\\csv-data-collect\\\\github-2023_06_31_contributors_top_20_stars.csv')\n",
    "df_repos = pd.read_csv('C:\\\\csv-data-collect\\\\github-2023_06_31.csv',index_col=0)"
   ]
  },
  {
   "cell_type": "code",
   "execution_count": null,
   "metadata": {},
   "outputs": [],
   "source": []
  },
  {
   "attachments": {},
   "cell_type": "markdown",
   "metadata": {},
   "source": [
    "# <hr />\n",
    "# <p style='color:crimson;text-align:center;font-size:20px'>Scheme to describe a process</p>\n",
    "# <hr />"
   ]
  },
  {
   "attachments": {},
   "cell_type": "markdown",
   "metadata": {},
   "source": [
    "# <img src='https://cdn.discordapp.com/attachments/922505547096408077/1121716104461557850/Road-map.png' />\n",
    "#"
   ]
  },
  {
   "attachments": {},
   "cell_type": "markdown",
   "metadata": {},
   "source": [
    "# <hr style='color:blue'/>\n",
    "# <h4 style='color:crimson;font-size:20px;text-align:center'>------------------duplicates------------------</h4>\n",
    "# <hr style='color:blue'/>"
   ]
  },
  {
   "cell_type": "code",
   "execution_count": 3,
   "metadata": {},
   "outputs": [
    {
     "name": "stdout",
     "output_type": "stream",
     "text": [
      "\u001b[31m\"Duplicate shape:(265, 18):\"\u001b[0m\n"
     ]
    }
   ],
   "source": [
    "dup_shape = df_repos[df_repos.duplicated()].shape\n",
    "print(f'\\x1b[31m\\\"Duplicate shape:{dup_shape}:\\\"\\x1b[0m')"
   ]
  },
  {
   "cell_type": "code",
   "execution_count": 4,
   "metadata": {},
   "outputs": [
    {
     "name": "stdout",
     "output_type": "stream",
     "text": [
      "\u001b[31m\"Duplicate shape:None:\"\u001b[0m\n"
     ]
    }
   ],
   "source": [
    "dup_shape = df_repos.drop_duplicates(inplace=True)\n",
    "print(f'\\x1b[31m\\\"Duplicate shape:{dup_shape}:\\\"\\x1b[0m')"
   ]
  },
  {
   "attachments": {},
   "cell_type": "markdown",
   "metadata": {},
   "source": [
    "# <hr style='color:blue'/>\n",
    "# <h4 style='color:crimson;font-size:20px;text-align:center'>------------------Languages------------------</h4>\n",
    "# <hr style='color:blue'/>"
   ]
  },
  {
   "cell_type": "code",
   "execution_count": 5,
   "metadata": {},
   "outputs": [
    {
     "name": "stdout",
     "output_type": "stream",
     "text": [
      "\u001b[31m\"--------------------------------List of languages:--------------------------------\"\u001b[0m\n"
     ]
    },
    {
     "data": {
      "text/plain": [
       "183"
      ]
     },
     "execution_count": 5,
     "metadata": {},
     "output_type": "execute_result"
    }
   ],
   "source": [
    "print('\\x1b[31m\\\"--------------------------------List of languages:--------------------------------\\\"\\x1b[0m')\n",
    "len(df_repos['language'].unique().tolist())"
   ]
  },
  {
   "cell_type": "code",
   "execution_count": 6,
   "metadata": {},
   "outputs": [
    {
     "name": "stdout",
     "output_type": "stream",
     "text": [
      "\u001b[31m\"Language with value of Null:(8472, 18):\"\u001b[0m\n"
     ]
    }
   ],
   "source": [
    "Null_language = df_repos.loc[df_repos['language'].isna()].shape\n",
    "print(f'\\x1b[31m\\\"Language with value of Null:{Null_language}:\\\"\\x1b[0m')"
   ]
  },
  {
   "cell_type": "code",
   "execution_count": 7,
   "metadata": {},
   "outputs": [
    {
     "name": "stdout",
     "output_type": "stream",
     "text": [
      "\u001b[31m\"Language with value of Null:None:\"\u001b[0m\n"
     ]
    }
   ],
   "source": [
    "Null_language = df_repos.loc[df_repos['language'].isna()].index\n",
    "Null_language = df_repos.drop(Null_language,inplace=True)\n",
    "print(f'\\x1b[31m\\\"Language with value of Null:{Null_language}:\\\"\\x1b[0m')"
   ]
  },
  {
   "attachments": {},
   "cell_type": "markdown",
   "metadata": {},
   "source": [
    "# <hr style='color:blue'/>\n",
    "# <h4 style='color:crimson;font-size:20px;text-align:center'>------------------Check for Outliers------------------</h4>\n",
    "# <hr style='color:blue'/>"
   ]
  },
  {
   "cell_type": "code",
   "execution_count": 8,
   "metadata": {},
   "outputs": [
    {
     "name": "stdout",
     "output_type": "stream",
     "text": [
      "\u001b[31m\"Display Outliers using boxplot:\"\u001b[0m\n"
     ]
    },
    {
     "data": {
      "text/plain": [
       "<Axes: >"
      ]
     },
     "execution_count": 8,
     "metadata": {},
     "output_type": "execute_result"
    },
    {
     "data": {
      "image/png": "[encoded data removed]",
      "text/plain": [
       "<Figure size 640x480 with 1 Axes>"
      ]
     },
     "metadata": {},
     "output_type": "display_data"
    }
   ],
   "source": [
    "print(f'\\x1b[31m\\\"Display Outliers using boxplot:\\\"\\x1b[0m')\n",
    "sb.boxplot(df_repos[['stargazers_count','forks','open_issues_count']])"
   ]
  },
  {
   "cell_type": "code",
   "execution_count": 9,
   "metadata": {},
   "outputs": [
    {
     "name": "stdout",
     "output_type": "stream",
     "text": [
      "\u001b[31m\"Implementation For Stars:\"\u001b[0m\n",
      "\u001b[31m\"Lower Whisker:-4.0:\"\u001b[0m\n",
      "\u001b[31m\"Lower Whisker:12.0:\"\u001b[0m\n"
     ]
    },
    {
     "data": {
      "text/plain": [
       "(2288, 18)"
      ]
     },
     "execution_count": 9,
     "metadata": {},
     "output_type": "execute_result"
    }
   ],
   "source": [
    "print(f'\\x1b[31m\\\"Implementation For Stars:\\\"\\x1b[0m')\n",
    "Q1 = df_repos['stargazers_count'].quantile(0.25)\n",
    "Q3 = df_repos['stargazers_count'].quantile(0.75)\n",
    "IQR = Q3 - Q1\n",
    "\n",
    "\n",
    "Lower_Whisker = Q1 - (1.5 * IQR)\n",
    "Upper_Whisker = Q3 + (1.5 * IQR)\n",
    "\n",
    "print(f'\\x1b[31m\\\"Lower Whisker:{Lower_Whisker}:\\\"\\x1b[0m')\n",
    "print(f'\\x1b[31m\\\"Lower Whisker:{Upper_Whisker}:\\\"\\x1b[0m')\n",
    "\n",
    "df_repos.loc[(df_repos['stargazers_count'] < Lower_Whisker)|(df_repos['stargazers_count'] > Upper_Whisker)].shape\n"
   ]
  },
  {
   "cell_type": "code",
   "execution_count": 10,
   "metadata": {},
   "outputs": [
    {
     "name": "stdout",
     "output_type": "stream",
     "text": [
      "\u001b[31m\"Implementation For Forks:\"\u001b[0m\n",
      "\u001b[31m\"Lower Whisker:-1.5:\"\u001b[0m\n",
      "\u001b[31m\"Upper Whisker:2.5:\"\u001b[0m\n"
     ]
    },
    {
     "data": {
      "text/plain": [
       "(2236, 18)"
      ]
     },
     "execution_count": 10,
     "metadata": {},
     "output_type": "execute_result"
    }
   ],
   "source": [
    "print(f'\\x1b[31m\\\"Implementation For Forks:\\\"\\x1b[0m')\n",
    "Q1 = df_repos['forks'].quantile(0.25)\n",
    "Q3 = df_repos['forks'].quantile(0.75)\n",
    "IQR = Q3 - Q1\n",
    "\n",
    "\n",
    "Lower_Whisker = Q1 - (1.5 * IQR)\n",
    "Upper_Whisker = Q3 + (1.5 * IQR)\n",
    "\n",
    "print(f'\\x1b[31m\\\"Lower Whisker:{Lower_Whisker}:\\\"\\x1b[0m')\n",
    "print(f'\\x1b[31m\\\"Upper Whisker:{Upper_Whisker}:\\\"\\x1b[0m')\n",
    "\n",
    "df_repos.loc[(df_repos['forks'] < Lower_Whisker)|(df_repos['forks'] > Upper_Whisker)].shape\n"
   ]
  },
  {
   "cell_type": "code",
   "execution_count": 11,
   "metadata": {},
   "outputs": [
    {
     "name": "stdout",
     "output_type": "stream",
     "text": [
      "\u001b[31m\"Implementation For Open Issues:\"\u001b[0m\n",
      "\u001b[31m\"Lower Whisker:0.0:\"\u001b[0m\n",
      "\u001b[31m\"Upper Whisker:0.0:\"\u001b[0m\n"
     ]
    },
    {
     "data": {
      "text/plain": [
       "(3349, 18)"
      ]
     },
     "execution_count": 11,
     "metadata": {},
     "output_type": "execute_result"
    }
   ],
   "source": [
    "print(f'\\x1b[31m\\\"Implementation For Open Issues:\\\"\\x1b[0m')\n",
    "Q1 = df_repos['open_issues_count'].quantile(0.25)\n",
    "Q3 = df_repos['open_issues_count'].quantile(0.75)\n",
    "IQR = Q3 - Q1\n",
    "\n",
    "\n",
    "Lower_Whisker = Q1 - (1.5 * IQR)\n",
    "Upper_Whisker = Q3 + (1.5 * IQR)\n",
    "\n",
    "print(f'\\x1b[31m\\\"Lower Whisker:{Lower_Whisker}:\\\"\\x1b[0m')\n",
    "print(f'\\x1b[31m\\\"Upper Whisker:{Upper_Whisker}:\\\"\\x1b[0m')\n",
    "\n",
    "df_repos.loc[(df_repos['open_issues_count'] < Lower_Whisker)|(df_repos['open_issues_count'] > Upper_Whisker)].shape"
   ]
  },
  {
   "attachments": {},
   "cell_type": "markdown",
   "metadata": {},
   "source": [
    "# <hr style='color:blue'/>\n",
    "# <h4 style='color:crimson;font-size:20px;text-align:center'>------------------Standardize Formats------------------</h4>\n",
    "# <hr style='color:blue'/>"
   ]
  },
  {
   "cell_type": "code",
   "execution_count": 12,
   "metadata": {},
   "outputs": [
    {
     "name": "stdout",
     "output_type": "stream",
     "text": [
      "\u001b[31m\"--------------------------------created--------------------------------\"\u001b[0m\n",
      "0    2023-06-01\n",
      "1    2023-06-01\n",
      "Name: created_at, dtype: object\n",
      "\u001b[31m\"--------------------------------updated--------------------------------\"\u001b[0m\n",
      "0    2023-07-06\n",
      "1    2023-07-06\n",
      "Name: updated_at, dtype: object\n",
      "\u001b[31m\"--------------------------------pushed--------------------------------\"\u001b[0m\n",
      "0    2023-07-06\n",
      "1    2023-06-18\n",
      "Name: pushed_at, dtype: object\n"
     ]
    }
   ],
   "source": [
    "df_repos['created_at'] = pd.to_datetime(df_repos['created_at']).dt.date\n",
    "df_repos['updated_at'] = pd.to_datetime(df_repos['updated_at']).dt.date\n",
    "df_repos['pushed_at'] = pd.to_datetime(df_repos['pushed_at']).dt.date\n",
    "print('\\x1b[31m\\\"--------------------------------created--------------------------------\\\"\\x1b[0m')\n",
    "print(df_repos['created_at'].head(2))\n",
    "print('\\x1b[31m\\\"--------------------------------updated--------------------------------\\\"\\x1b[0m')\n",
    "print(df_repos['updated_at'].head(2))\n",
    "print('\\x1b[31m\\\"--------------------------------pushed--------------------------------\\\"\\x1b[0m')\n",
    "print(df_repos['pushed_at'].head(2))"
   ]
  },
  {
   "cell_type": "code",
   "execution_count": 60,
   "metadata": {},
   "outputs": [
    {
     "data": {
      "text/plain": [
       "0                         Segment Anything in High Quality\n",
       "1                          Not Quite RARBG's main website.\n",
       "2        Official repo for VideoComposer: Compositional...\n",
       "3        AWQ: Activation-aware Weight Quantization for ...\n",
       "4                                                      NaN\n",
       "                               ...                        \n",
       "28985                             OpenAI Whisper Tutorials\n",
       "28990    First web application using Java OOP, HTML and...\n",
       "28991          Golds Gym Website created using Rapid API's\n",
       "28994    Shitty roblox exploit template from before byf...\n",
       "28995                                                  NaN\n",
       "Name: description, Length: 20259, dtype: object"
      ]
     },
     "execution_count": 60,
     "metadata": {},
     "output_type": "execute_result"
    }
   ],
   "source": [
    "df_repos['description']"
   ]
  },
  {
   "attachments": {},
   "cell_type": "markdown",
   "metadata": {},
   "source": [
    "# <hr style='color:blue'/>\n",
    "# <h4 style='color:crimson;font-size:20px;text-align:center'>------------------Correct Errors------------------</h4>\n",
    "# <hr style='color:blue'/>"
   ]
  },
  {
   "cell_type": "code",
   "execution_count": 64,
   "metadata": {},
   "outputs": [],
   "source": [
    "def remove_emoji(string):\n",
    "    emoji_pattern = re.compile(\"[\"\n",
    "                           u\"\\U0001F600-\\U0001F64F\"  # emoticons\n",
    "                           u\"\\U0001F300-\\U0001F5FF\"  # symbols & pictographs\n",
    "                           u\"\\U0001F680-\\U0001F6FF\"  # transport & map symbols\n",
    "                           u\"\\U0001F1E0-\\U0001F1FF\"  # flags (iOS)\n",
    "                           u\"\\U00002702-\\U000027B0\"\n",
    "                           u\"\\U000024C2-\\U0001F251\"\n",
    "                           u\"\\U0001fae5\"\n",
    "                           u\"\\U0001fae3\"\n",
    "                           u\"\\U0001fae2\"\n",
    "                           u\"\\U0001fae0\"\n",
    "                           u\"\\U0001fad9\"\n",
    "                           u\"\\U0001fabf\"\n",
    "                           u\"\\U0001fabc\"\n",
    "                           u\"\\U0001fab7\"\n",
    "                           u\"\\U0001faaa\"\n",
    "                           u\"\\U0001faa9\"\n",
    "                           u\"🫖\"\n",
    "                           u\"🫀\"\n",
    "                           u\"🫒\"\n",
    "                           u\"🫐\"\n",
    "                           u\"⏯\"\n",
    "                           u\"🪶\"\n",
    "                           u\"🪵\"\n",
    "                           u\"🪴\"\n",
    "                           u\"U+ff0c\"\n",
    "                           u\"⏺\"\n",
    "                           u\"⏳\"\n",
    "                           u\"⏱\"\n",
    "                           u\"⏰\"\n",
    "                           \"]+\", flags=re.UNICODE)\n",
    "    return emoji_pattern.sub(r'', string)\n",
    "df_repos['description'] = df_repos['description'].apply(remove_emoji)"
   ]
  },
  {
   "attachments": {},
   "cell_type": "markdown",
   "metadata": {},
   "source": [
    "# <hr style='color:blue'/>\n",
    "# <h4 style='color:crimson;font-size:20px;text-align:center'>------------------Handle missing values------------------</h4>\n",
    "# <hr style='color:blue'/>"
   ]
  },
  {
   "cell_type": "code",
   "execution_count": 13,
   "metadata": {},
   "outputs": [
    {
     "name": "stdout",
     "output_type": "stream",
     "text": [
      "\u001b[31m\"--------------------------------Description: Replace \"null\" value with \"No Description\" value--------------------------------\"\u001b[0m\n"
     ]
    },
    {
     "data": {
      "text/html": [
       "<div>\n",
       "<style scoped>\n",
       "    .dataframe tbody tr th:only-of-type {\n",
       "        vertical-align: middle;\n",
       "    }\n",
       "\n",
       "    .dataframe tbody tr th {\n",
       "        vertical-align: top;\n",
       "    }\n",
       "\n",
       "    .dataframe thead th {\n",
       "        text-align: right;\n",
       "    }\n",
       "</style>\n",
       "<table border=\"1\" class=\"dataframe\">\n",
       "  <thead>\n",
       "    <tr style=\"text-align: right;\">\n",
       "      <th></th>\n",
       "      <th>id</th>\n",
       "      <th>full_name</th>\n",
       "      <th>url</th>\n",
       "      <th>clone_url</th>\n",
       "      <th>stargazers_count</th>\n",
       "      <th>language</th>\n",
       "      <th>forks</th>\n",
       "      <th>created_at</th>\n",
       "      <th>updated_at</th>\n",
       "      <th>pushed_at</th>\n",
       "      <th>description</th>\n",
       "      <th>languages_url</th>\n",
       "      <th>open_issues_count</th>\n",
       "      <th>contributors_url</th>\n",
       "      <th>commits_url</th>\n",
       "      <th>topics</th>\n",
       "      <th>license</th>\n",
       "      <th>owner</th>\n",
       "    </tr>\n",
       "  </thead>\n",
       "  <tbody>\n",
       "    <tr>\n",
       "      <th>4</th>\n",
       "      <td>648156011</td>\n",
       "      <td>KasperskyLab/triangle_check</td>\n",
       "      <td>https://github.com/KasperskyLab/triangle_check</td>\n",
       "      <td>https://github.com/KasperskyLab/triangle_check...</td>\n",
       "      <td>314</td>\n",
       "      <td>Python</td>\n",
       "      <td>22</td>\n",
       "      <td>2023-06-01</td>\n",
       "      <td>2023-07-05</td>\n",
       "      <td>2023-06-26</td>\n",
       "      <td>No Description</td>\n",
       "      <td>https://api.github.com/repos/KasperskyLab/tria...</td>\n",
       "      <td>4</td>\n",
       "      <td>https://api.github.com/repos/KasperskyLab/tria...</td>\n",
       "      <td>https://api.github.com/repos/KasperskyLab/tria...</td>\n",
       "      <td>[]</td>\n",
       "      <td>MIT License</td>\n",
       "      <td>Organization</td>\n",
       "    </tr>\n",
       "  </tbody>\n",
       "</table>\n",
       "</div>"
      ],
      "text/plain": [
       "          id                    full_name   \n",
       "4  648156011  KasperskyLab/triangle_check  \\\n",
       "\n",
       "                                              url   \n",
       "4  https://github.com/KasperskyLab/triangle_check  \\\n",
       "\n",
       "                                           clone_url  stargazers_count   \n",
       "4  https://github.com/KasperskyLab/triangle_check...               314  \\\n",
       "\n",
       "  language  forks  created_at  updated_at   pushed_at     description   \n",
       "4   Python     22  2023-06-01  2023-07-05  2023-06-26  No Description  \\\n",
       "\n",
       "                                       languages_url  open_issues_count   \n",
       "4  https://api.github.com/repos/KasperskyLab/tria...                  4  \\\n",
       "\n",
       "                                    contributors_url   \n",
       "4  https://api.github.com/repos/KasperskyLab/tria...  \\\n",
       "\n",
       "                                         commits_url topics      license   \n",
       "4  https://api.github.com/repos/KasperskyLab/tria...     []  MIT License  \\\n",
       "\n",
       "          owner  \n",
       "4  Organization  "
      ]
     },
     "execution_count": 13,
     "metadata": {},
     "output_type": "execute_result"
    }
   ],
   "source": [
    "print('\\x1b[31m\\\"--------------------------------Description: Replace \\\"null\\\" value with \\\"No Description\\\" value--------------------------------\\\"\\x1b[0m')\n",
    "df_repos['description'].fillna('No Description',inplace=True)\n",
    "df_repos[df_repos['description'] == \"No Description\"].head(1)"
   ]
  },
  {
   "cell_type": "code",
   "execution_count": 16,
   "metadata": {},
   "outputs": [
    {
     "name": "stdout",
     "output_type": "stream",
     "text": [
      "\u001b[31m\"--------------------------------license: Replace \"null\" value with \"Not included\" value--------------------------------\"\u001b[0m\n"
     ]
    },
    {
     "data": {
      "text/html": [
       "<div>\n",
       "<style scoped>\n",
       "    .dataframe tbody tr th:only-of-type {\n",
       "        vertical-align: middle;\n",
       "    }\n",
       "\n",
       "    .dataframe tbody tr th {\n",
       "        vertical-align: top;\n",
       "    }\n",
       "\n",
       "    .dataframe thead th {\n",
       "        text-align: right;\n",
       "    }\n",
       "</style>\n",
       "<table border=\"1\" class=\"dataframe\">\n",
       "  <thead>\n",
       "    <tr style=\"text-align: right;\">\n",
       "      <th></th>\n",
       "      <th>id</th>\n",
       "      <th>full_name</th>\n",
       "      <th>url</th>\n",
       "      <th>clone_url</th>\n",
       "      <th>stargazers_count</th>\n",
       "      <th>language</th>\n",
       "      <th>forks</th>\n",
       "      <th>created_at</th>\n",
       "      <th>updated_at</th>\n",
       "      <th>pushed_at</th>\n",
       "      <th>description</th>\n",
       "      <th>languages_url</th>\n",
       "      <th>open_issues_count</th>\n",
       "      <th>contributors_url</th>\n",
       "      <th>commits_url</th>\n",
       "      <th>topics</th>\n",
       "      <th>license</th>\n",
       "      <th>owner</th>\n",
       "    </tr>\n",
       "  </thead>\n",
       "  <tbody>\n",
       "  </tbody>\n",
       "</table>\n",
       "</div>"
      ],
      "text/plain": [
       "Empty DataFrame\n",
       "Columns: [id, full_name, url, clone_url, stargazers_count, language, forks, created_at, updated_at, pushed_at, description, languages_url, open_issues_count, contributors_url, commits_url, topics, license, owner]\n",
       "Index: []"
      ]
     },
     "execution_count": 16,
     "metadata": {},
     "output_type": "execute_result"
    }
   ],
   "source": [
    "print('\\x1b[31m\\\"--------------------------------license: Replace \\\"null\\\" value with \\\"Not included\\\" value--------------------------------\\\"\\x1b[0m')\n",
    "df_repos['license'].fillna('Not included',inplace=True)\n",
    "df_repos[df_repos['license'] == \"Not included\"].head(1)"
   ]
  },
  {
   "cell_type": "code",
   "execution_count": 18,
   "metadata": {},
   "outputs": [
    {
     "name": "stdout",
     "output_type": "stream",
     "text": [
      "\u001b[31m\"--------------------------------topics: Replace \"null\" value with \"Not included\" value--------------------------------\"\u001b[0m\n"
     ]
    },
    {
     "data": {
      "text/html": [
       "<div>\n",
       "<style scoped>\n",
       "    .dataframe tbody tr th:only-of-type {\n",
       "        vertical-align: middle;\n",
       "    }\n",
       "\n",
       "    .dataframe tbody tr th {\n",
       "        vertical-align: top;\n",
       "    }\n",
       "\n",
       "    .dataframe thead th {\n",
       "        text-align: right;\n",
       "    }\n",
       "</style>\n",
       "<table border=\"1\" class=\"dataframe\">\n",
       "  <thead>\n",
       "    <tr style=\"text-align: right;\">\n",
       "      <th></th>\n",
       "      <th>id</th>\n",
       "      <th>full_name</th>\n",
       "      <th>url</th>\n",
       "      <th>clone_url</th>\n",
       "      <th>stargazers_count</th>\n",
       "      <th>language</th>\n",
       "      <th>forks</th>\n",
       "      <th>created_at</th>\n",
       "      <th>updated_at</th>\n",
       "      <th>pushed_at</th>\n",
       "      <th>description</th>\n",
       "      <th>languages_url</th>\n",
       "      <th>open_issues_count</th>\n",
       "      <th>contributors_url</th>\n",
       "      <th>commits_url</th>\n",
       "      <th>topics</th>\n",
       "      <th>license</th>\n",
       "      <th>owner</th>\n",
       "    </tr>\n",
       "  </thead>\n",
       "  <tbody>\n",
       "    <tr>\n",
       "      <th>3</th>\n",
       "      <td>647984858</td>\n",
       "      <td>mit-han-lab/llm-awq</td>\n",
       "      <td>https://github.com/mit-han-lab/llm-awq</td>\n",
       "      <td>https://github.com/mit-han-lab/llm-awq.git</td>\n",
       "      <td>401</td>\n",
       "      <td>Python</td>\n",
       "      <td>31</td>\n",
       "      <td>2023-06-01</td>\n",
       "      <td>2023-07-06</td>\n",
       "      <td>2023-07-06</td>\n",
       "      <td>AWQ: Activation-aware Weight Quantization for ...</td>\n",
       "      <td>https://api.github.com/repos/mit-han-lab/llm-a...</td>\n",
       "      <td>17</td>\n",
       "      <td>https://api.github.com/repos/mit-han-lab/llm-a...</td>\n",
       "      <td>https://api.github.com/repos/mit-han-lab/llm-a...</td>\n",
       "      <td>['No topics']</td>\n",
       "      <td>MIT License</td>\n",
       "      <td>Organization</td>\n",
       "    </tr>\n",
       "  </tbody>\n",
       "</table>\n",
       "</div>"
      ],
      "text/plain": [
       "          id            full_name                                     url   \n",
       "3  647984858  mit-han-lab/llm-awq  https://github.com/mit-han-lab/llm-awq  \\\n",
       "\n",
       "                                    clone_url  stargazers_count language   \n",
       "3  https://github.com/mit-han-lab/llm-awq.git               401   Python  \\\n",
       "\n",
       "   forks  created_at  updated_at   pushed_at   \n",
       "3     31  2023-06-01  2023-07-06  2023-07-06  \\\n",
       "\n",
       "                                         description   \n",
       "3  AWQ: Activation-aware Weight Quantization for ...  \\\n",
       "\n",
       "                                       languages_url  open_issues_count   \n",
       "3  https://api.github.com/repos/mit-han-lab/llm-a...                 17  \\\n",
       "\n",
       "                                    contributors_url   \n",
       "3  https://api.github.com/repos/mit-han-lab/llm-a...  \\\n",
       "\n",
       "                                         commits_url         topics   \n",
       "3  https://api.github.com/repos/mit-han-lab/llm-a...  ['No topics']  \\\n",
       "\n",
       "       license         owner  \n",
       "3  MIT License  Organization  "
      ]
     },
     "execution_count": 18,
     "metadata": {},
     "output_type": "execute_result"
    }
   ],
   "source": [
    "print('\\x1b[31m\\\"--------------------------------topics: Replace \\\"null\\\" value with \\\"Not included\\\" value--------------------------------\\\"\\x1b[0m')\n",
    "\n",
    "df_repos['topics'] = df_repos['topics'].replace(\"[]\", '[\\'No topics\\']')\n",
    "df_repos.loc[df_repos['topics'] == '[\\'No topics\\']'].head(1)"
   ]
  },
  {
   "cell_type": "code",
   "execution_count": 65,
   "metadata": {},
   "outputs": [],
   "source": [
    "df_repos.shape\n",
    "df_repos.to_csv('C:\\\\csv-data-collect\\\\github-2023_06_31_main.csv', index=False)"
   ]
  }
 ],
 "metadata": {
  "kernelspec": {
   "display_name": "Python 3",
   "language": "python",
   "name": "python3"
  },
  "language_info": {
   "codemirror_mode": {
    "name": "ipython",
    "version": 3
   },
   "file_extension": ".py",
   "mimetype": "text/x-python",
   "name": "python",
   "nbconvert_exporter": "python",
   "pygments_lexer": "ipython3",
   "version": "3.11.3"
  },
  "orig_nbformat": 4
 },
 "nbformat": 4,
 "nbformat_minor": 2
}
