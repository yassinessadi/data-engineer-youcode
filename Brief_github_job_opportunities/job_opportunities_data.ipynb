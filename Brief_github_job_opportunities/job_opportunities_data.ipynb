{
 "cells": [
  {
   "cell_type": "code",
   "execution_count": 175,
   "metadata": {},
   "outputs": [],
   "source": [
    "import pandas as pd\n",
    "import re\n",
    "import numpy as np\n",
    "import pycountry"
   ]
  },
  {
   "cell_type": "markdown",
   "metadata": {},
   "source": [
    "<hr style='color:white;'>\n",
    "<p style='color:orange;font-size:20px;text-align:center;'>Data Cleansing</p>\n",
    "<hr style='color:white;'>"
   ]
  },
  {
   "cell_type": "code",
   "execution_count": 176,
   "metadata": {},
   "outputs": [],
   "source": [
    "df = pd.read_csv('C:\\\\csv-data-collect\\\\job-data.csv',encoding='latin')"
   ]
  },
  {
   "cell_type": "markdown",
   "metadata": {},
   "source": [
    "<hr style='color:#BA704F;'>\n",
    "<p style='color:#6C3428;font-size:20px;text-align:center;'>DUPLICATES</p>\n",
    "<hr style='color:#BA704F;'>"
   ]
  },
  {
   "cell_type": "code",
   "execution_count": 177,
   "metadata": {},
   "outputs": [
    {
     "data": {
      "text/plain": [
       "202"
      ]
     },
     "execution_count": 177,
     "metadata": {},
     "output_type": "execute_result"
    }
   ],
   "source": [
    "df.duplicated().sum()"
   ]
  },
  {
   "cell_type": "code",
   "execution_count": 178,
   "metadata": {},
   "outputs": [],
   "source": [
    "df.drop_duplicates(inplace=True)"
   ]
  },
  {
   "cell_type": "markdown",
   "metadata": {},
   "source": [
    "<hr style='color:#BA704F;'>\n",
    "<p style='color:#6C3428;font-size:20px;text-align:center;'>Salary</p>\n",
    "<hr style='color:#BA704F;'>"
   ]
  },
  {
   "cell_type": "code",
   "execution_count": 179,
   "metadata": {},
   "outputs": [],
   "source": [
    "df['Salary'].replace(np.nan, \"0\",inplace=True)\n",
    "df.loc[df['Salary'] == \"0\"]\n",
    "\n",
    "def ConvertToIntger(string):\n",
    "    Money_pattern = re.compile(\"[\"\n",
    "                           u\"GBP\"\n",
    "                           u\"EUR\"\n",
    "                           u\"K\"\n",
    "                           u\"+\"\n",
    "                           u\"*\"\n",
    "                           \"]+\"\n",
    "                           , flags=re.UNICODE)\n",
    "    return int(Money_pattern.sub(r'', string)) * 1000\n",
    "\n",
    "df['Salary'] = df['Salary'].apply(ConvertToIntger)"
   ]
  },
  {
   "cell_type": "markdown",
   "metadata": {},
   "source": [
    "<hr style='color:#BA704F;'>\n",
    "<p style='color:#6C3428;font-size:20px;text-align:center;'>Company</p>\n",
    "<hr style='color:#BA704F;'>"
   ]
  },
  {
   "cell_type": "code",
   "execution_count": 199,
   "metadata": {},
   "outputs": [],
   "source": [
    "df.drop(df.loc[df['Company'].isna()].index,inplace=True)"
   ]
  },
  {
   "cell_type": "code",
   "execution_count": 197,
   "metadata": {},
   "outputs": [
    {
     "data": {
      "text/html": [
       "<div>\n",
       "<style scoped>\n",
       "    .dataframe tbody tr th:only-of-type {\n",
       "        vertical-align: middle;\n",
       "    }\n",
       "\n",
       "    .dataframe tbody tr th {\n",
       "        vertical-align: top;\n",
       "    }\n",
       "\n",
       "    .dataframe thead th {\n",
       "        text-align: right;\n",
       "    }\n",
       "</style>\n",
       "<table border=\"1\" class=\"dataframe\">\n",
       "  <thead>\n",
       "    <tr style=\"text-align: right;\">\n",
       "      <th></th>\n",
       "      <th>Company</th>\n",
       "      <th>Job Title</th>\n",
       "      <th>Location</th>\n",
       "      <th>Job Type</th>\n",
       "      <th>Experience level</th>\n",
       "      <th>Salary</th>\n",
       "      <th>Requirment of the company</th>\n",
       "      <th>Facilities</th>\n",
       "    </tr>\n",
       "  </thead>\n",
       "  <tbody>\n",
       "  </tbody>\n",
       "</table>\n",
       "</div>"
      ],
      "text/plain": [
       "Empty DataFrame\n",
       "Columns: [Company, Job Title, Location, Job Type, Experience level, Salary, Requirment of the company , Facilities]\n",
       "Index: []"
      ]
     },
     "execution_count": 197,
     "metadata": {},
     "output_type": "execute_result"
    }
   ],
   "source": [
    "df.loc[df['Company'].isna()]"
   ]
  },
  {
   "cell_type": "markdown",
   "metadata": {},
   "source": [
    "<hr style='color:#BA704F;'>\n",
    "<p style='color:#6C3428;font-size:20px;text-align:center;'>Experience level</p>\n",
    "<hr style='color:#BA704F;'>"
   ]
  },
  {
   "cell_type": "code",
   "execution_count": 194,
   "metadata": {},
   "outputs": [
    {
     "data": {
      "text/plain": [
       "227"
      ]
     },
     "execution_count": 194,
     "metadata": {},
     "output_type": "execute_result"
    }
   ],
   "source": [
    "df['Experience level'].isna().sum()"
   ]
  },
  {
   "cell_type": "code",
   "execution_count": 195,
   "metadata": {},
   "outputs": [],
   "source": [
    "df['Experience level'].fillna('Junior Developer',inplace=True)"
   ]
  },
  {
   "cell_type": "markdown",
   "metadata": {},
   "source": [
    "<hr style='color:#BA704F;'>\n",
    "<p style='color:#6C3428;font-size:20px;text-align:center;'>Experience level</p>\n",
    "<hr style='color:#BA704F;'>"
   ]
  },
  {
   "cell_type": "code",
   "execution_count": 203,
   "metadata": {},
   "outputs": [
    {
     "data": {
      "text/html": [
       "<div>\n",
       "<style scoped>\n",
       "    .dataframe tbody tr th:only-of-type {\n",
       "        vertical-align: middle;\n",
       "    }\n",
       "\n",
       "    .dataframe tbody tr th {\n",
       "        vertical-align: top;\n",
       "    }\n",
       "\n",
       "    .dataframe thead th {\n",
       "        text-align: right;\n",
       "    }\n",
       "</style>\n",
       "<table border=\"1\" class=\"dataframe\">\n",
       "  <thead>\n",
       "    <tr style=\"text-align: right;\">\n",
       "      <th></th>\n",
       "      <th>Company</th>\n",
       "      <th>Job Title</th>\n",
       "      <th>Location</th>\n",
       "      <th>Job Type</th>\n",
       "      <th>Experience level</th>\n",
       "      <th>Salary</th>\n",
       "      <th>Requirment of the company</th>\n",
       "      <th>Facilities</th>\n",
       "    </tr>\n",
       "  </thead>\n",
       "  <tbody>\n",
       "    <tr>\n",
       "      <th>59</th>\n",
       "      <td>Nielsen</td>\n",
       "      <td>Business Intelligence Developer</td>\n",
       "      <td>Oldsmar, FL</td>\n",
       "      <td>Full Time</td>\n",
       "      <td>Senior-level</td>\n",
       "      <td>67000</td>\n",
       "      <td>Agile,APIs,Architecture,Business Intelligence,...</td>\n",
       "      <td>401(k) matching,Health care,Salary bonus,Welln...</td>\n",
       "    </tr>\n",
       "  </tbody>\n",
       "</table>\n",
       "</div>"
      ],
      "text/plain": [
       "    Company                        Job Title     Location   Job Type   \n",
       "59  Nielsen  Business Intelligence Developer  Oldsmar, FL  Full Time  \\\n",
       "\n",
       "   Experience level  Salary   \n",
       "59     Senior-level   67000  \\\n",
       "\n",
       "                           Requirment of the company    \n",
       "59  Agile,APIs,Architecture,Business Intelligence,...  \\\n",
       "\n",
       "                                           Facilities  \n",
       "59  401(k) matching,Health care,Salary bonus,Welln...  "
      ]
     },
     "execution_count": 203,
     "metadata": {},
     "output_type": "execute_result"
    }
   ],
   "source": [
    "df.loc[df['Job Title'].index == 59]"
   ]
  },
  {
   "cell_type": "code",
   "execution_count": 202,
   "metadata": {},
   "outputs": [
    {
     "data": {
      "text/html": [
       "<div>\n",
       "<style scoped>\n",
       "    .dataframe tbody tr th:only-of-type {\n",
       "        vertical-align: middle;\n",
       "    }\n",
       "\n",
       "    .dataframe tbody tr th {\n",
       "        vertical-align: top;\n",
       "    }\n",
       "\n",
       "    .dataframe thead th {\n",
       "        text-align: right;\n",
       "    }\n",
       "</style>\n",
       "<table border=\"1\" class=\"dataframe\">\n",
       "  <thead>\n",
       "    <tr style=\"text-align: right;\">\n",
       "      <th></th>\n",
       "      <th>Company</th>\n",
       "      <th>Job Title</th>\n",
       "      <th>Location</th>\n",
       "      <th>Job Type</th>\n",
       "      <th>Experience level</th>\n",
       "      <th>Salary</th>\n",
       "      <th>Requirment of the company</th>\n",
       "      <th>Facilities</th>\n",
       "    </tr>\n",
       "  </thead>\n",
       "  <tbody>\n",
       "    <tr>\n",
       "      <th>77</th>\n",
       "      <td>KPMG Australia</td>\n",
       "      <td>Artificial Intelligence Lead | KPMG Futures</td>\n",
       "      <td>Sydney, Australia</td>\n",
       "      <td>Full Time</td>\n",
       "      <td>Executive-level</td>\n",
       "      <td>65000</td>\n",
       "      <td>Finance,Research,Testing,,,</td>\n",
       "      <td>Career development,Flex hours,Parental leave,,</td>\n",
       "    </tr>\n",
       "    <tr>\n",
       "      <th>81</th>\n",
       "      <td>Appen</td>\n",
       "      <td>Director, Artificial Intelligence (AI)</td>\n",
       "      <td>Toronto, Ontario</td>\n",
       "      <td>Full Time</td>\n",
       "      <td>Executive-level</td>\n",
       "      <td>81000</td>\n",
       "      <td>AWS,Azure,Computer Science,Finance,GANs,GCP</td>\n",
       "      <td>Career development,Startup environment,,,</td>\n",
       "    </tr>\n",
       "    <tr>\n",
       "      <th>104</th>\n",
       "      <td>TTEC Digital</td>\n",
       "      <td>Director, IVA and AI Solutions - Professional ...</td>\n",
       "      <td>US: Remote</td>\n",
       "      <td>Full Time</td>\n",
       "      <td>Executive-level</td>\n",
       "      <td>73000</td>\n",
       "      <td>Angular,APIs,Architecture,ASR,AWS,Azure</td>\n",
       "      <td>Career development,,,,</td>\n",
       "    </tr>\n",
       "    <tr>\n",
       "      <th>137</th>\n",
       "      <td>Databricks</td>\n",
       "      <td>Director, Spark Technical Solutions</td>\n",
       "      <td>Bengaluru, India</td>\n",
       "      <td>Full Time</td>\n",
       "      <td>Executive-level</td>\n",
       "      <td>65000</td>\n",
       "      <td>AWS,Azure,Big Data,Computer Science,Databricks...</td>\n",
       "      <td>Career development,Startup environment,,,</td>\n",
       "    </tr>\n",
       "    <tr>\n",
       "      <th>148</th>\n",
       "      <td>Publicis Groupe</td>\n",
       "      <td>Vice President Director, Data Scientist</td>\n",
       "      <td>Philadelphia, PA, United States</td>\n",
       "      <td>Full Time</td>\n",
       "      <td>Executive-level</td>\n",
       "      <td>92000</td>\n",
       "      <td>AWS,Big Data,Business Analytics,Hadoop,Machine...</td>\n",
       "      <td>Career development,,,,</td>\n",
       "    </tr>\n",
       "    <tr>\n",
       "      <th>...</th>\n",
       "      <td>...</td>\n",
       "      <td>...</td>\n",
       "      <td>...</td>\n",
       "      <td>...</td>\n",
       "      <td>...</td>\n",
       "      <td>...</td>\n",
       "      <td>...</td>\n",
       "      <td>...</td>\n",
       "    </tr>\n",
       "    <tr>\n",
       "      <th>3043</th>\n",
       "      <td>Stream Realty</td>\n",
       "      <td>Senior Research Analyst</td>\n",
       "      <td>Charlotte, NC, United States</td>\n",
       "      <td>Full Time</td>\n",
       "      <td>Executive-level</td>\n",
       "      <td>81000</td>\n",
       "      <td>Data visualization,Market research,Power BI,Py...</td>\n",
       "      <td>Career development,Team events,,,</td>\n",
       "    </tr>\n",
       "    <tr>\n",
       "      <th>3061</th>\n",
       "      <td>Visa</td>\n",
       "      <td>Senior Director - Head of Internal Data Scienc...</td>\n",
       "      <td>London, United Kingdom</td>\n",
       "      <td>Full Time</td>\n",
       "      <td>Executive-level</td>\n",
       "      <td>73000</td>\n",
       "      <td>Business Analytics,Computer Science,Economics,...</td>\n",
       "      <td>Career development,Flex hours,,,</td>\n",
       "    </tr>\n",
       "    <tr>\n",
       "      <th>3120</th>\n",
       "      <td>Visa</td>\n",
       "      <td>Manager, Business Insights &amp; Data Analytics</td>\n",
       "      <td>Toronto, CANADA, Canada</td>\n",
       "      <td>Full Time</td>\n",
       "      <td>Executive-level</td>\n",
       "      <td>81000</td>\n",
       "      <td>Computer Science,Data Analytics,Data strategy,...</td>\n",
       "      <td>Flex hours,,,,</td>\n",
       "    </tr>\n",
       "    <tr>\n",
       "      <th>3145</th>\n",
       "      <td>Standard Bank Group</td>\n",
       "      <td>80405862 - Data Engineer</td>\n",
       "      <td>Johannesburg, South Africa</td>\n",
       "      <td>Full Time</td>\n",
       "      <td>Executive-level</td>\n",
       "      <td>200000</td>\n",
       "      <td>Agile,APIs,Architecture,Azure,Data Analytics,D...</td>\n",
       "      <td>Career development,Startup environment,,,</td>\n",
       "    </tr>\n",
       "    <tr>\n",
       "      <th>3148</th>\n",
       "      <td>Publicis Groupe</td>\n",
       "      <td>Data Scientist</td>\n",
       "      <td>Singapore, Singapore</td>\n",
       "      <td>Full Time</td>\n",
       "      <td>Executive-level</td>\n",
       "      <td>90000</td>\n",
       "      <td>Computer Science,Deep Learning,Engineering,Fea...</td>\n",
       "      <td>Wellness,,,,</td>\n",
       "    </tr>\n",
       "  </tbody>\n",
       "</table>\n",
       "<p>122 rows × 8 columns</p>\n",
       "</div>"
      ],
      "text/plain": [
       "                  Company                                          Job Title   \n",
       "77         KPMG Australia        Artificial Intelligence Lead | KPMG Futures  \\\n",
       "81                  Appen             Director, Artificial Intelligence (AI)   \n",
       "104          TTEC Digital  Director, IVA and AI Solutions - Professional ...   \n",
       "137            Databricks                Director, Spark Technical Solutions   \n",
       "148       Publicis Groupe            Vice President Director, Data Scientist   \n",
       "...                   ...                                                ...   \n",
       "3043        Stream Realty                            Senior Research Analyst   \n",
       "3061                 Visa  Senior Director - Head of Internal Data Scienc...   \n",
       "3120                 Visa        Manager, Business Insights & Data Analytics   \n",
       "3145  Standard Bank Group                           80405862 - Data Engineer   \n",
       "3148      Publicis Groupe                                     Data Scientist   \n",
       "\n",
       "                             Location   Job Type Experience level  Salary   \n",
       "77                  Sydney, Australia  Full Time  Executive-level   65000  \\\n",
       "81                   Toronto, Ontario  Full Time  Executive-level   81000   \n",
       "104                        US: Remote  Full Time  Executive-level   73000   \n",
       "137                  Bengaluru, India  Full Time  Executive-level   65000   \n",
       "148   Philadelphia, PA, United States  Full Time  Executive-level   92000   \n",
       "...                               ...        ...              ...     ...   \n",
       "3043     Charlotte, NC, United States  Full Time  Executive-level   81000   \n",
       "3061           London, United Kingdom  Full Time  Executive-level   73000   \n",
       "3120          Toronto, CANADA, Canada  Full Time  Executive-level   81000   \n",
       "3145       Johannesburg, South Africa  Full Time  Executive-level  200000   \n",
       "3148             Singapore, Singapore  Full Time  Executive-level   90000   \n",
       "\n",
       "                             Requirment of the company    \n",
       "77                          Finance,Research,Testing,,,  \\\n",
       "81          AWS,Azure,Computer Science,Finance,GANs,GCP   \n",
       "104             Angular,APIs,Architecture,ASR,AWS,Azure   \n",
       "137   AWS,Azure,Big Data,Computer Science,Databricks...   \n",
       "148   AWS,Big Data,Business Analytics,Hadoop,Machine...   \n",
       "...                                                 ...   \n",
       "3043  Data visualization,Market research,Power BI,Py...   \n",
       "3061  Business Analytics,Computer Science,Economics,...   \n",
       "3120  Computer Science,Data Analytics,Data strategy,...   \n",
       "3145  Agile,APIs,Architecture,Azure,Data Analytics,D...   \n",
       "3148  Computer Science,Deep Learning,Engineering,Fea...   \n",
       "\n",
       "                                          Facilities  \n",
       "77    Career development,Flex hours,Parental leave,,  \n",
       "81         Career development,Startup environment,,,  \n",
       "104                           Career development,,,,  \n",
       "137        Career development,Startup environment,,,  \n",
       "148                           Career development,,,,  \n",
       "...                                              ...  \n",
       "3043               Career development,Team events,,,  \n",
       "3061                Career development,Flex hours,,,  \n",
       "3120                                  Flex hours,,,,  \n",
       "3145       Career development,Startup environment,,,  \n",
       "3148                                    Wellness,,,,  \n",
       "\n",
       "[122 rows x 8 columns]"
      ]
     },
     "execution_count": 202,
     "metadata": {},
     "output_type": "execute_result"
    }
   ],
   "source": [
    "df.loc[df['Experience level'] =='Executive-level']"
   ]
  }
 ],
 "metadata": {
  "kernelspec": {
   "display_name": "Python 3",
   "language": "python",
   "name": "python3"
  },
  "language_info": {
   "codemirror_mode": {
    "name": "ipython",
    "version": 3
   },
   "file_extension": ".py",
   "mimetype": "text/x-python",
   "name": "python",
   "nbconvert_exporter": "python",
   "pygments_lexer": "ipython3",
   "version": "3.11.3"
  },
  "orig_nbformat": 4
 },
 "nbformat": 4,
 "nbformat_minor": 2
}
