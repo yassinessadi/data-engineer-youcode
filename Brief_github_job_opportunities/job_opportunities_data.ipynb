{
 "cells": [
  {
   "cell_type": "code",
   "execution_count": 858,
   "metadata": {},
   "outputs": [
    {
     "data": {
      "text/html": [
       "<style>\n",
       "        .bk-notebook-logo {\n",
       "            display: block;\n",
       "            width: 20px;\n",
       "            height: 20px;\n",
       "            background-image: url(data:image/png;base64,iVBORw0KGgoAAAANSUhEUgAAABQAAAAUCAYAAACNiR0NAAAABHNCSVQICAgIfAhkiAAAAAlwSFlzAAALEgAACxIB0t1+/AAAABx0RVh0U29mdHdhcmUAQWRvYmUgRmlyZXdvcmtzIENTNui8sowAAAOkSURBVDiNjZRtaJVlGMd/1/08zzln5zjP1LWcU9N0NkN8m2CYjpgQYQXqSs0I84OLIC0hkEKoPtiH3gmKoiJDU7QpLgoLjLIQCpEsNJ1vqUOdO7ppbuec5+V+rj4ctwzd8IIbbi6u+8f1539dt3A78eXC7QizUF7gyV1fD1Yqg4JWz84yffhm0qkFqBogB9rM8tZdtwVsPUhWhGcFJngGeWrPzHm5oaMmkfEg1usvLFyc8jLRqDOMru7AyC8saQr7GG7f5fvDeH7Ej8CM66nIF+8yngt6HWaKh7k49Soy9nXurCi1o3qUbS3zWfrYeQDTB/Qj6kX6Ybhw4B+bOYoLKCC9H3Nu/leUTZ1JdRWkkn2ldcCamzrcf47KKXdAJllSlxAOkRgyHsGC/zRday5Qld9DyoM4/q/rUoy/CXh3jzOu3bHUVZeU+DEn8FInkPBFlu3+nW3Nw0mk6vCDiWg8CeJaxEwuHS3+z5RgY+YBR6V1Z1nxSOfoaPa4LASWxxdNp+VWTk7+4vzaou8v8PN+xo+KY2xsw6une2frhw05CTYOmQvsEhjhWjn0bmXPjpE1+kplmmkP3suftwTubK9Vq22qKmrBhpY4jvd5afdRA3wGjFAgcnTK2s4hY0/GPNIb0nErGMCRxWOOX64Z8RAC4oCXdklmEvcL8o0BfkNK4lUg9HTl+oPlQxdNo3Mg4Nv175e/1LDGzZen30MEjRUtmXSfiTVu1kK8W4txyV6BMKlbgk3lMwYCiusNy9fVfvvwMxv8Ynl6vxoByANLTWplvuj/nF9m2+PDtt1eiHPBr1oIfhCChQMBw6Aw0UulqTKZdfVvfG7VcfIqLG9bcldL/+pdWTLxLUy8Qq38heUIjh4XlzZxzQm19lLFlr8vdQ97rjZVOLf8nclzckbcD4wxXMidpX30sFd37Fv/GtwwhzhxGVAprjbg0gCAEeIgwCZyTV2Z1REEW8O4py0wsjeloKoMr6iCY6dP92H6Vw/oTyICIthibxjm/DfN9lVz8IqtqKYLUXfoKVMVQVVJOElGjrnnUt9T9wbgp8AyYKaGlqingHZU/uG2NTZSVqwHQTWkx9hxjkpWDaCg6Ckj5qebgBVbT3V3NNXMSiWSDdGV3hrtzla7J+duwPOToIg42ChPQOQjspnSlp1V+Gjdged7+8UN5CRAV7a5EdFNwCjEaBR27b3W890TE7g24NAP/mMDXRWrGoFPQI9ls/MWO2dWFAar/xcOIImbbpA3zgAAAABJRU5ErkJggg==);\n",
       "        }\n",
       "    </style>\n",
       "    <div>\n",
       "        <a href=\"https://bokeh.org\" target=\"_blank\" class=\"bk-notebook-logo\"></a>\n",
       "        <span id=\"c3842b12-84a8-400e-8bdf-d8aa48b96dd5\">Loading BokehJS ...</span>\n",
       "    </div>\n"
      ]
     },
     "metadata": {},
     "output_type": "display_data"
    },
    {
     "data": {
      "application/javascript": "(function(root) {\n  function now() {\n    return new Date();\n  }\n\n  const force = true;\n\n  if (typeof root._bokeh_onload_callbacks === \"undefined\" || force === true) {\n    root._bokeh_onload_callbacks = [];\n    root._bokeh_is_loading = undefined;\n  }\n\nconst JS_MIME_TYPE = 'application/javascript';\n  const HTML_MIME_TYPE = 'text/html';\n  const EXEC_MIME_TYPE = 'application/vnd.bokehjs_exec.v0+json';\n  const CLASS_NAME = 'output_bokeh rendered_html';\n\n  /**\n   * Render data to the DOM node\n   */\n  function render(props, node) {\n    const script = document.createElement(\"script\");\n    node.appendChild(script);\n  }\n\n  /**\n   * Handle when an output is cleared or removed\n   */\n  function handleClearOutput(event, handle) {\n    const cell = handle.cell;\n\n    const id = cell.output_area._bokeh_element_id;\n    const server_id = cell.output_area._bokeh_server_id;\n    // Clean up Bokeh references\n    if (id != null && id in Bokeh.index) {\n      Bokeh.index[id].model.document.clear();\n      delete Bokeh.index[id];\n    }\n\n    if (server_id !== undefined) {\n      // Clean up Bokeh references\n      const cmd_clean = \"from bokeh.io.state import curstate; print(curstate().uuid_to_server['\" + server_id + \"'].get_sessions()[0].document.roots[0]._id)\";\n      cell.notebook.kernel.execute(cmd_clean, {\n        iopub: {\n          output: function(msg) {\n            const id = msg.content.text.trim();\n            if (id in Bokeh.index) {\n              Bokeh.index[id].model.document.clear();\n              delete Bokeh.index[id];\n            }\n          }\n        }\n      });\n      // Destroy server and session\n      const cmd_destroy = \"import bokeh.io.notebook as ion; ion.destroy_server('\" + server_id + \"')\";\n      cell.notebook.kernel.execute(cmd_destroy);\n    }\n  }\n\n  /**\n   * Handle when a new output is added\n   */\n  function handleAddOutput(event, handle) {\n    const output_area = handle.output_area;\n    const output = handle.output;\n\n    // limit handleAddOutput to display_data with EXEC_MIME_TYPE content only\n    if ((output.output_type != \"display_data\") || (!Object.prototype.hasOwnProperty.call(output.data, EXEC_MIME_TYPE))) {\n      return\n    }\n\n    const toinsert = output_area.element.find(\".\" + CLASS_NAME.split(' ')[0]);\n\n    if (output.metadata[EXEC_MIME_TYPE][\"id\"] !== undefined) {\n      toinsert[toinsert.length - 1].firstChild.textContent = output.data[JS_MIME_TYPE];\n      // store reference to embed id on output_area\n      output_area._bokeh_element_id = output.metadata[EXEC_MIME_TYPE][\"id\"];\n    }\n    if (output.metadata[EXEC_MIME_TYPE][\"server_id\"] !== undefined) {\n      const bk_div = document.createElement(\"div\");\n      bk_div.innerHTML = output.data[HTML_MIME_TYPE];\n      const script_attrs = bk_div.children[0].attributes;\n      for (let i = 0; i < script_attrs.length; i++) {\n        toinsert[toinsert.length - 1].firstChild.setAttribute(script_attrs[i].name, script_attrs[i].value);\n        toinsert[toinsert.length - 1].firstChild.textContent = bk_div.children[0].textContent\n      }\n      // store reference to server id on output_area\n      output_area._bokeh_server_id = output.metadata[EXEC_MIME_TYPE][\"server_id\"];\n    }\n  }\n\n  function register_renderer(events, OutputArea) {\n\n    function append_mime(data, metadata, element) {\n      // create a DOM node to render to\n      const toinsert = this.create_output_subarea(\n        metadata,\n        CLASS_NAME,\n        EXEC_MIME_TYPE\n      );\n      this.keyboard_manager.register_events(toinsert);\n      // Render to node\n      const props = {data: data, metadata: metadata[EXEC_MIME_TYPE]};\n      render(props, toinsert[toinsert.length - 1]);\n      element.append(toinsert);\n      return toinsert\n    }\n\n    /* Handle when an output is cleared or removed */\n    events.on('clear_output.CodeCell', handleClearOutput);\n    events.on('delete.Cell', handleClearOutput);\n\n    /* Handle when a new output is added */\n    events.on('output_added.OutputArea', handleAddOutput);\n\n    /**\n     * Register the mime type and append_mime function with output_area\n     */\n    OutputArea.prototype.register_mime_type(EXEC_MIME_TYPE, append_mime, {\n      /* Is output safe? */\n      safe: true,\n      /* Index of renderer in `output_area.display_order` */\n      index: 0\n    });\n  }\n\n  // register the mime type if in Jupyter Notebook environment and previously unregistered\n  if (root.Jupyter !== undefined) {\n    const events = require('base/js/events');\n    const OutputArea = require('notebook/js/outputarea').OutputArea;\n\n    if (OutputArea.prototype.mime_types().indexOf(EXEC_MIME_TYPE) == -1) {\n      register_renderer(events, OutputArea);\n    }\n  }\n  if (typeof (root._bokeh_timeout) === \"undefined\" || force === true) {\n    root._bokeh_timeout = Date.now() + 5000;\n    root._bokeh_failed_load = false;\n  }\n\n  const NB_LOAD_WARNING = {'data': {'text/html':\n     \"<div style='background-color: #fdd'>\\n\"+\n     \"<p>\\n\"+\n     \"BokehJS does not appear to have successfully loaded. If loading BokehJS from CDN, this \\n\"+\n     \"may be due to a slow or bad network connection. Possible fixes:\\n\"+\n     \"</p>\\n\"+\n     \"<ul>\\n\"+\n     \"<li>re-rerun `output_notebook()` to attempt to load from CDN again, or</li>\\n\"+\n     \"<li>use INLINE resources instead, as so:</li>\\n\"+\n     \"</ul>\\n\"+\n     \"<code>\\n\"+\n     \"from bokeh.resources import INLINE\\n\"+\n     \"output_notebook(resources=INLINE)\\n\"+\n     \"</code>\\n\"+\n     \"</div>\"}};\n\n  function display_loaded() {\n    const el = document.getElementById(\"c3842b12-84a8-400e-8bdf-d8aa48b96dd5\");\n    if (el != null) {\n      el.textContent = \"BokehJS is loading...\";\n    }\n    if (root.Bokeh !== undefined) {\n      if (el != null) {\n        el.textContent = \"BokehJS \" + root.Bokeh.version + \" successfully loaded.\";\n      }\n    } else if (Date.now() < root._bokeh_timeout) {\n      setTimeout(display_loaded, 100)\n    }\n  }\n\n  function run_callbacks() {\n    try {\n      root._bokeh_onload_callbacks.forEach(function(callback) {\n        if (callback != null)\n          callback();\n      });\n    } finally {\n      delete root._bokeh_onload_callbacks\n    }\n    console.debug(\"Bokeh: all callbacks have finished\");\n  }\n\n  function load_libs(css_urls, js_urls, callback) {\n    if (css_urls == null) css_urls = [];\n    if (js_urls == null) js_urls = [];\n\n    root._bokeh_onload_callbacks.push(callback);\n    if (root._bokeh_is_loading > 0) {\n      console.debug(\"Bokeh: BokehJS is being loaded, scheduling callback at\", now());\n      return null;\n    }\n    if (js_urls == null || js_urls.length === 0) {\n      run_callbacks();\n      return null;\n    }\n    console.debug(\"Bokeh: BokehJS not loaded, scheduling load and callback at\", now());\n    root._bokeh_is_loading = css_urls.length + js_urls.length;\n\n    function on_load() {\n      root._bokeh_is_loading--;\n      if (root._bokeh_is_loading === 0) {\n        console.debug(\"Bokeh: all BokehJS libraries/stylesheets loaded\");\n        run_callbacks()\n      }\n    }\n\n    function on_error(url) {\n      console.error(\"failed to load \" + url);\n    }\n\n    for (let i = 0; i < css_urls.length; i++) {\n      const url = css_urls[i];\n      const element = document.createElement(\"link\");\n      element.onload = on_load;\n      element.onerror = on_error.bind(null, url);\n      element.rel = \"stylesheet\";\n      element.type = \"text/css\";\n      element.href = url;\n      console.debug(\"Bokeh: injecting link tag for BokehJS stylesheet: \", url);\n      document.body.appendChild(element);\n    }\n\n    for (let i = 0; i < js_urls.length; i++) {\n      const url = js_urls[i];\n      const element = document.createElement('script');\n      element.onload = on_load;\n      element.onerror = on_error.bind(null, url);\n      element.async = false;\n      element.src = url;\n      console.debug(\"Bokeh: injecting script tag for BokehJS library: \", url);\n      document.head.appendChild(element);\n    }\n  };\n\n  function inject_raw_css(css) {\n    const element = document.createElement(\"style\");\n    element.appendChild(document.createTextNode(css));\n    document.body.appendChild(element);\n  }\n\n  const js_urls = [\"https://cdn.bokeh.org/bokeh/release/bokeh-3.2.0.min.js\", \"https://cdn.bokeh.org/bokeh/release/bokeh-gl-3.2.0.min.js\", \"https://cdn.bokeh.org/bokeh/release/bokeh-widgets-3.2.0.min.js\", \"https://cdn.bokeh.org/bokeh/release/bokeh-tables-3.2.0.min.js\", \"https://cdn.bokeh.org/bokeh/release/bokeh-mathjax-3.2.0.min.js\"];\n  const css_urls = [];\n\n  const inline_js = [    function(Bokeh) {\n      Bokeh.set_log_level(\"info\");\n    },\nfunction(Bokeh) {\n    }\n  ];\n\n  function run_inline_js() {\n    if (root.Bokeh !== undefined || force === true) {\n          for (let i = 0; i < inline_js.length; i++) {\n      inline_js[i].call(root, root.Bokeh);\n    }\nif (force === true) {\n        display_loaded();\n      }} else if (Date.now() < root._bokeh_timeout) {\n      setTimeout(run_inline_js, 100);\n    } else if (!root._bokeh_failed_load) {\n      console.log(\"Bokeh: BokehJS failed to load within specified timeout.\");\n      root._bokeh_failed_load = true;\n    } else if (force !== true) {\n      const cell = $(document.getElementById(\"c3842b12-84a8-400e-8bdf-d8aa48b96dd5\")).parents('.cell').data().cell;\n      cell.output_area.append_execute_result(NB_LOAD_WARNING)\n    }\n  }\n\n  if (root._bokeh_is_loading === 0) {\n    console.debug(\"Bokeh: BokehJS loaded, going straight to plotting\");\n    run_inline_js();\n  } else {\n    load_libs(css_urls, js_urls, function() {\n      console.debug(\"Bokeh: BokehJS plotting callback run at\", now());\n      run_inline_js();\n    });\n  }\n}(window));",
      "application/vnd.bokehjs_load.v0+json": ""
     },
     "metadata": {},
     "output_type": "display_data"
    }
   ],
   "source": [
    "import pandas as pd\n",
    "import re\n",
    "import numpy as np\n",
    "import pycountry\n",
    "pd.set_option('display.max_rows', None)\n",
    "from fuzzywuzzy import fuzz\n",
    "import matplotlib.pyplot as plt\n",
    "from bokeh.io import output_notebook\n",
    "output_notebook()"
   ]
  },
  {
   "cell_type": "markdown",
   "metadata": {},
   "source": [
    "<hr style='color:white;'>\n",
    "<p style='color:orange;font-size:20px;text-align:center;'>Data Cleansing</p>\n",
    "<hr style='color:white;'>"
   ]
  },
  {
   "cell_type": "code",
   "execution_count": 829,
   "metadata": {},
   "outputs": [],
   "source": [
    "df = pd.read_csv('C:\\\\csv-data-collect\\\\job-data.csv',encoding='latin')"
   ]
  },
  {
   "cell_type": "markdown",
   "metadata": {},
   "source": [
    "<hr style='color:#BA704F;'>\n",
    "<p style='color:#6C3428;font-size:20px;text-align:center;'>DUPLICATES</p>\n",
    "<hr style='color:#BA704F;'>"
   ]
  },
  {
   "cell_type": "code",
   "execution_count": 830,
   "metadata": {},
   "outputs": [
    {
     "data": {
      "text/plain": [
       "202"
      ]
     },
     "execution_count": 830,
     "metadata": {},
     "output_type": "execute_result"
    }
   ],
   "source": [
    "df.duplicated().sum()"
   ]
  },
  {
   "cell_type": "code",
   "execution_count": 831,
   "metadata": {},
   "outputs": [],
   "source": [
    "df.drop_duplicates(inplace=True)"
   ]
  },
  {
   "cell_type": "markdown",
   "metadata": {},
   "source": [
    "<hr style='color:#BA704F;'>\n",
    "<p style='color:#6C3428;font-size:20px;text-align:center;'>Salary</p>\n",
    "<hr style='color:#BA704F;'>"
   ]
  },
  {
   "cell_type": "code",
   "execution_count": 832,
   "metadata": {},
   "outputs": [],
   "source": [
    "df['Salary'].replace(np.nan, \"0\",inplace=True)\n",
    "#df.loc[df['Salary'] == \"0\"]"
   ]
  },
  {
   "cell_type": "code",
   "execution_count": 833,
   "metadata": {},
   "outputs": [],
   "source": [
    "df.drop(df.loc[(df['Salary'] == 0) & (df['Job Type'] != 'Internship')].index,inplace=True)"
   ]
  },
  {
   "cell_type": "code",
   "execution_count": 834,
   "metadata": {},
   "outputs": [],
   "source": [
    "def ConvertToIntger(string):\n",
    "    Money_pattern = re.compile(\"[\"\n",
    "                           u\"GBP\"\n",
    "                           u\"EUR\"\n",
    "                           u\"K\"\n",
    "                           u\"+\"\n",
    "                           u\"*\"\n",
    "                           \"]+\"\n",
    "                           , flags=re.UNICODE)\n",
    "    return int(Money_pattern.sub(r'', string)) * 1000\n",
    "\n",
    "df['Salary'] = df['Salary'].apply(ConvertToIntger)"
   ]
  },
  {
   "cell_type": "markdown",
   "metadata": {},
   "source": [
    "<hr style='color:#BA704F;'>\n",
    "<p style='color:#6C3428;font-size:20px;text-align:center;'>Company</p>\n",
    "<hr style='color:#BA704F;'>"
   ]
  },
  {
   "cell_type": "code",
   "execution_count": 835,
   "metadata": {},
   "outputs": [],
   "source": [
    "df.drop(df.loc[df['Company'].isna()].index,inplace=True)"
   ]
  },
  {
   "cell_type": "code",
   "execution_count": 836,
   "metadata": {},
   "outputs": [
    {
     "data": {
      "text/html": [
       "<div>\n",
       "<style scoped>\n",
       "    .dataframe tbody tr th:only-of-type {\n",
       "        vertical-align: middle;\n",
       "    }\n",
       "\n",
       "    .dataframe tbody tr th {\n",
       "        vertical-align: top;\n",
       "    }\n",
       "\n",
       "    .dataframe thead th {\n",
       "        text-align: right;\n",
       "    }\n",
       "</style>\n",
       "<table border=\"1\" class=\"dataframe\">\n",
       "  <thead>\n",
       "    <tr style=\"text-align: right;\">\n",
       "      <th></th>\n",
       "      <th>Company</th>\n",
       "      <th>Job Title</th>\n",
       "      <th>Location</th>\n",
       "      <th>Job Type</th>\n",
       "      <th>Experience level</th>\n",
       "      <th>Salary</th>\n",
       "      <th>Requirment of the company</th>\n",
       "      <th>Facilities</th>\n",
       "    </tr>\n",
       "  </thead>\n",
       "  <tbody>\n",
       "  </tbody>\n",
       "</table>\n",
       "</div>"
      ],
      "text/plain": [
       "Empty DataFrame\n",
       "Columns: [Company, Job Title, Location, Job Type, Experience level, Salary, Requirment of the company , Facilities]\n",
       "Index: []"
      ]
     },
     "execution_count": 836,
     "metadata": {},
     "output_type": "execute_result"
    }
   ],
   "source": [
    "df.loc[df['Company'].isna()]"
   ]
  },
  {
   "cell_type": "markdown",
   "metadata": {},
   "source": [
    "<hr style='color:#BA704F;'>\n",
    "<p style='color:#6C3428;font-size:20px;text-align:center;'>Experience level</p>\n",
    "<hr style='color:#BA704F;'>"
   ]
  },
  {
   "cell_type": "code",
   "execution_count": 837,
   "metadata": {},
   "outputs": [
    {
     "data": {
      "text/plain": [
       "227"
      ]
     },
     "execution_count": 837,
     "metadata": {},
     "output_type": "execute_result"
    }
   ],
   "source": [
    "df['Experience level'].isna().sum()"
   ]
  },
  {
   "cell_type": "code",
   "execution_count": 838,
   "metadata": {},
   "outputs": [],
   "source": [
    "df['Experience level'].fillna('not specified',inplace=True)"
   ]
  },
  {
   "cell_type": "markdown",
   "metadata": {},
   "source": [
    "<hr style='color:#BA704F;'>\n",
    "<p style='color:#6C3428;font-size:20px;text-align:center;'>Requirment of the company</p>\n",
    "<hr style='color:#BA704F;'>"
   ]
  },
  {
   "cell_type": "code",
   "execution_count": 839,
   "metadata": {},
   "outputs": [
    {
     "data": {
      "text/plain": [
       "Requirment of the company\n",
       "Computer Science         1087\n",
       "Engineering              1013\n",
       "AWS                       815\n",
       "Architecture              728\n",
       "Agile                     562\n",
       "Big Data                  559\n",
       "Data analysis             553\n",
       "Azure                     505\n",
       "Machine Learning          488\n",
       "Business Intelligence     429\n",
       "Data Analytics            385\n",
       "APIs                      354\n",
       "Excel                     323\n",
       "Data pipelines            298\n",
       "Python                    283\n",
       "Consulting                283\n",
       "Airflow                   281\n",
       "Data visualization        280\n",
       "Deep Learning             273\n",
       "Data management           249\n",
       "Data quality              249\n",
       "Finance                   209\n",
       "BigQuery                  205\n",
       "CI/CD                     191\n",
       "ETL                       183\n",
       "Mathematics               182\n",
       "Data Mining               182\n",
       "Databricks                178\n",
       "Economics                 175\n",
       "Computer Vision           174\n",
       "Data governance           162\n",
       "Banking                   157\n",
       "Research                  151\n",
       "SQL                       141\n",
       "CX                        138\n",
       "Power BI                  138\n",
       "Classification            130\n",
       "A/B testing               117\n",
       "E-commerce                117\n",
       "Data warehouse            117\n",
       "Docker                    110\n",
       "GCP                       102\n",
       "DevOps                     98\n",
       "R                          97\n",
       "Genetics                   86\n",
       "Data Warehousing           86\n",
       "Git                        84\n",
       "Privacy                    84\n",
       "Clustering                 83\n",
       "ML models                  83\n",
       "Blockchain                 81\n",
       "PhD                        75\n",
       "Looker                     75\n",
       "Crypto                     71\n",
       "KPIs                       69\n",
       "Industrial                 67\n",
       "Business Analytics         66\n",
       "Linux                      65\n",
       "Testing                    61\n",
       "Security                   58\n",
       "DataOps                    56\n",
       "Distributed Systems        55\n",
       "Hadoop                     55\n",
       "FinTech                    55\n",
       "Statistics                 54\n",
       "LLMs                       53\n",
       "Athena                     53\n",
       "Biology                    51\n",
       "NLP                        50\n",
       "Data strategy              49\n",
       "JavaScript                 46\n",
       "ELT                        45\n",
       "Pipelines                  44\n",
       "Cassandra                  41\n",
       "Causal inference           41\n",
       "GitHub                     40\n",
       "Ansible                    39\n",
       "Data Studio                37\n",
       "Consulting firm            37\n",
       "Tableau                    36\n",
       "Chatbots                   36\n",
       "Robotics                   35\n",
       "Oracle                     33\n",
       "EDA                        33\n",
       "Elasticsearch              33\n",
       "Kubernetes                 32\n",
       "Jira                       32\n",
       "Bayesian                   31\n",
       "Market research            30\n",
       "Google Cloud               30\n",
       "Kafka                      26\n",
       "Angular                    26\n",
       "CUDA                       26\n",
       "Spark                      24\n",
       "Dataflow                   24\n",
       "Econometrics               22\n",
       "Autonomous Driving         21\n",
       "Feature engineering        20\n",
       "Physics                    20\n",
       "Chemistry                  20\n",
       "Keras                      20\n",
       "Matlab                     20\n",
       "GPT                        19\n",
       "Pandas                     19\n",
       "BERT                       19\n",
       "Amplitude                  19\n",
       "Bitbucket                  18\n",
       "R&D                        18\n",
       "Snowflake                  17\n",
       "NumPy                      17\n",
       "RDBMS                      15\n",
       "Avro                       15\n",
       "Content creation           15\n",
       "ChatGPT                    14\n",
       "GitLab                     13\n",
       "Drivers license           13\n",
       "MySQL                      13\n",
       "Credit risk                13\n",
       "MLOps                      13\n",
       "Jupyter                    12\n",
       "Flink                      12\n",
       "EC2                        12\n",
       "Drug discovery             12\n",
       "GPU                        12\n",
       "Lidar                      12\n",
       "Open Source                11\n",
       "Conversational AI          11\n",
       "API Development            11\n",
       "OOP                        11\n",
       "Qlik                       11\n",
       "ML infrastructure          11\n",
       "ASR                        11\n",
       "Generative modeling        11\n",
       "SAS                        10\n",
       "MongoDB                    10\n",
       "Kanban                     10\n",
       "Bigtable                   10\n",
       "JSON                       10\n",
       "Caffe                       9\n",
       "Predictive modeling         9\n",
       "D3                          9\n",
       "React                       9\n",
       "Prototyping                 9\n",
       "PostgreSQL                  8\n",
       "Dagster                     8\n",
       "Golang                      8\n",
       "JAX                         8\n",
       "Matplotlib                  8\n",
       "DynamoDB                    8\n",
       "Drones                      8\n",
       "Redshift                    8\n",
       "SLAM                        8\n",
       "Scala                       8\n",
       "Metabase                    8\n",
       "Scrum                       8\n",
       "QlikView                    8\n",
       "Kubeflow                    7\n",
       "DataRobot                   7\n",
       "Circuit Design              7\n",
       "PHP                         7\n",
       "CAD                         7\n",
       "Perl                        7\n",
       "ICML                        7\n",
       "Healthcare technology       7\n",
       "MS SQL                      7\n",
       "NoSQL                       7\n",
       "Julia                       7\n",
       "Cluster analysis            7\n",
       "OKR                         7\n",
       "AI strategy                 6\n",
       "AGI                         6\n",
       "OpenAI                      6\n",
       "Streaming                   6\n",
       "PySpark                     6\n",
       "ICLR                        6\n",
       "CSV                         6\n",
       "Cybernetics                 6\n",
       "PyTorch                     5\n",
       "Flask                       5\n",
       "EMNLP                       5\n",
       "ECS                         5\n",
       "FiveTran                    5\n",
       "Nonprofit                   5\n",
       "HuggingFace                 5\n",
       "Model training              5\n",
       "MLFlow                      5\n",
       "Diffusion models            5\n",
       "ANN                         4\n",
       "Teaching                    4\n",
       "3D graphics                 4\n",
       "CMake                       4\n",
       "Linear algebra              4\n",
       "Fraud risk                  4\n",
       "Dataproc                    4\n",
       "Core ML                     4\n",
       "Microservices               4\n",
       "Informatica                 4\n",
       "Model design                4\n",
       "Unstructured data           4\n",
       "SharePoint                  4\n",
       "Django                      4\n",
       "Grafana                     3\n",
       "XML                         3\n",
       "LookML                      3\n",
       "SDLC                        3\n",
       "Airtable                    3\n",
       "AI governance               3\n",
       "NLTK                        3\n",
       "fastai                      3\n",
       "MXNet                       3\n",
       "Elixir                      3\n",
       "3D Reconstruction           3\n",
       "Azkaban                     3\n",
       "LangChain                   3\n",
       "VR                          3\n",
       "TypeScript                  3\n",
       "Lambda                      3\n",
       "OpenCV                      3\n",
       "AIStats                     2\n",
       "Autoregressive models       2\n",
       "Clojure                     2\n",
       "LightGBM                    2\n",
       "HiveQL                      2\n",
       "SSIS                        2\n",
       "Horovod                     2\n",
       "NeurIPS                     2\n",
       "AI art                      2\n",
       "GANs                        2\n",
       "Travel                      2\n",
       ".NET                        2\n",
       "C++                         2\n",
       "Vue                         2\n",
       "HDFS                        2\n",
       "Biochemistry                2\n",
       "GPT-3                       2\n",
       "GPT-4                       2\n",
       "Haystack                    2\n",
       "Ruby                        2\n",
       "Machine intelligence        2\n",
       "HBase                       2\n",
       "OLAP                        2\n",
       "HPC                         2\n",
       "Plotly                      2\n",
       "STEM                        2\n",
       "TensorFlow                  2\n",
       "UX                          2\n",
       "ITIL                        2\n",
       "Periscope                   2\n",
       "Node.js                     2\n",
       "DALL-E                      2\n",
       "Pentaho                     2\n",
       "DICOM                       1\n",
       "Model deployment            1\n",
       "Recommender systems         1\n",
       "TDD                         1\n",
       "CoreML                      1\n",
       "Parquet                     1\n",
       "ISO 27001                   1\n",
       "Copywriting                 1\n",
       "Kinesis                     1\n",
       "ELK                         1\n",
       "Splunk                      1\n",
       "SIMD                        1\n",
       "Arrow                       1\n",
       "Fortran                     1\n",
       "Kibana                      1\n",
       "Teradata                    1\n",
       "Minitab                     1\n",
       "GloVe                       1\n",
       "Model inference             1\n",
       "XSD                         1\n",
       "cuDNN                       1\n",
       "Anaconda                    1\n",
       "OCR                         1\n",
       "Lua                         1\n",
       "SDL                         1\n",
       "DB2                         1\n",
       "AI content                  1\n",
       "REST API                    1\n",
       "KNIME                       1\n",
       "Alpaca                      1\n",
       "NLG                         1\n",
       "Transformers                1\n",
       "Clinical NLP                1\n",
       "Maven                       1\n",
       "Name: count, dtype: int64"
      ]
     },
     "execution_count": 839,
     "metadata": {},
     "output_type": "execute_result"
    }
   ],
   "source": [
    "def GetJobsName(text):\n",
    "    return text.split(',')\n",
    "Job_name_Ge_0 = []\n",
    "for x in df['Requirment of the company '].apply(GetJobsName):\n",
    "    for y in x:\n",
    "        Job_name_Ge_0.append(y)\n",
    "\n",
    "Job_name_df = pd.DataFrame(Job_name_Ge_0)\n",
    "Job_name_df.rename(columns={0:\"Requirment of the company\"},inplace=True)\n",
    "Indexies = Job_name_df.loc[Job_name_df['Requirment of the company'] ==''].index\n",
    "Job_name_df.drop(Indexies,inplace=True)\n",
    "\n",
    "Job_name_df['Requirment of the company'].value_counts()"
   ]
  },
  {
   "cell_type": "markdown",
   "metadata": {},
   "source": [
    "<hr style='color:#BA704F;'>\n",
    "<p style='color:#6C3428;font-size:20px;text-align:center;'>Job Title</p>\n",
    "<hr style='color:#BA704F;'>"
   ]
  },
  {
   "cell_type": "code",
   "execution_count": 840,
   "metadata": {},
   "outputs": [],
   "source": [
    "job__names = {\n",
    "    \"Data Science\":[\n",
    "        \"Research Scientist\",\n",
    "        \"Statistics and Probability\",\n",
    "        \"Applied Scientist\",\n",
    "        \"Decision Scientist\"\n",
    "    ],\n",
    "    \"Data engineer\":[\n",
    "        \"Data Engineer Scientist\",\n",
    "        \"Data Engineer\",\n",
    "        \"IT Data Engineer\",\n",
    "    ],\n",
    "    \"Data analysis\":[\n",
    "        \"Data Developer\",\n",
    "        \"Data analysis\",\n",
    "        \"Insight Analyst\",\n",
    "        \"Data Analyst\",\n",
    "        \"Marketing Analytics\",\n",
    "        \"DB/ETL Developer\",\n",
    "        \"Développeur ETL\", \n",
    "        \"Business Intelligence\",\n",
    "        \"BI Developer\",\n",
    "        \"BI Analyst\"\n",
    "    ],\n",
    "    \"AI\":[\n",
    "        \"AI Engineer\"\n",
    "        \"Principal Product Marketing Manager, AI & Mach\",\n",
    "        \"Lead Machine Learning Engineer\",\n",
    "        \"Machine Learning\",\n",
    "        \"AI/ML\",\n",
    "        \"ML Engineer\",\n",
    "        \"Natural Language Processing\",\n",
    "        \"MLOps Engineer\",\n",
    "        \"NLP Scientist\",\n",
    "        \"AI Product Owner\",\n",
    "        \"ChatGPT Consultant\",\n",
    "        \"AI Product Owner\",\n",
    "        \"Computer Vision\"\n",
    "    ],\n",
    "    \"Big Data\":[\n",
    "        \"Big Data Engineer\",\n",
    "        \"Big Data\",\n",
    "        \"Senior Big Data\",\n",
    "        \"PySpark\",\n",
    "        \"Cloud storage\",\n",
    "        \"Cloud Data\",\n",
    "        \"Cloud Engineer\",\n",
    "        \"DevOps Engineer\",\n",
    "        \"Technical Architect Databricks\",\n",
    "        \"Data Modeler\"\n",
    "    ],\n",
    "    \"Developer\":[\n",
    "        \"React Native\",\n",
    "        \"HTML Developer\"\n",
    "        \"HTML\"\n",
    "    ]\n",
    "}"
   ]
  },
  {
   "cell_type": "code",
   "execution_count": 841,
   "metadata": {},
   "outputs": [],
   "source": [
    "def find_job_title(text):\n",
    "    Best_matched = None\n",
    "    Best__Score = 0\n",
    "\n",
    "    for job__name in job__names:\n",
    "        for x in job__names[job__name]:\n",
    "            score = fuzz.WRatio(text,x)\n",
    "            if score > Best__Score:\n",
    "                Best__Score = score\n",
    "                Best_matched = job__name\n",
    "    if Best__Score >= 86:\n",
    "        return Best_matched\n",
    "    else:\n",
    "        return text\n",
    "\n",
    "\n",
    "df['Job Title'] = df['Job Title'].apply(find_job_title)"
   ]
  },
  {
   "cell_type": "markdown",
   "metadata": {},
   "source": [
    "<hr style='color:white;'>\n",
    "<p style='color:orange;font-size:20px;text-align:center;'> Data analysis & visualization</p>\n",
    "<hr style='color:white;'>"
   ]
  },
  {
   "cell_type": "markdown",
   "metadata": {},
   "source": [
    "<hr style='color:#BA704F;'>\n",
    "<u style='color:#6C3428;font-size:20px;text-decoration: none;'>\n",
    "  <li>identify the key trends in the job market for AI, DS, and Big Data?</li>\n",
    "  <li>the most demanded skills and the most common job titles in these fields?</li>\n",
    "  <li>How do you analyze the differences and similarities between job opportunities in AI, DS, and Big Data?</li>\n",
    "</u>\n",
    "<hr style='color:#BA704F;'>"
   ]
  },
  {
   "cell_type": "code",
   "execution_count": 842,
   "metadata": {},
   "outputs": [
    {
     "data": {
      "text/plain": [
       "<Axes: xlabel='Job Title'>"
      ]
     },
     "execution_count": 842,
     "metadata": {},
     "output_type": "execute_result"
    },
    {
     "data": {
      "image/png": "[encoded data removed]",
      "text/plain": [
       "<Figure size 640x480 with 1 Axes>"
      ]
     },
     "metadata": {},
     "output_type": "display_data"
    }
   ],
   "source": [
    "df['Job Title'].value_counts().sort_values(ascending=False).head().plot(kind = 'bar')"
   ]
  },
  {
   "cell_type": "markdown",
   "metadata": {},
   "source": [
    "<hr style='color:#BA704F;'>\n",
    "<p style='color:#6C3428;font-size:20px;text-align:center;'>The highest paid domains.</p>\n",
    "<hr style='color:#BA704F;'>"
   ]
  },
  {
   "cell_type": "code",
   "execution_count": 868,
   "metadata": {},
   "outputs": [
    {
     "data": {
      "text/plain": [
       "<Axes: >"
      ]
     },
     "execution_count": 868,
     "metadata": {},
     "output_type": "execute_result"
    },
    {
     "data": {
      "image/png": "[encoded data removed]",
      "text/plain": [
       "<Figure size 640x480 with 1 Axes>"
      ]
     },
     "metadata": {},
     "output_type": "display_data"
    }
   ],
   "source": [
    "df.groupby('Company').apply(lambda x:x['Salary'].max()).sort_values(ascending=False).head().plot.pie()\n",
    "# Check The Func working (Testing).\n",
    "# df.loc[df['Job Title'] == 'Data analysis']['Salary'].max()"
   ]
  },
  {
   "cell_type": "markdown",
   "metadata": {},
   "source": [
    "<hr style='color:#BA704F;'>\n",
    "<p style='color:#6C3428;font-size:20px;text-align:center;'>Job Type Graph</p>\n",
    "<hr style='color:#BA704F;'>"
   ]
  },
  {
   "cell_type": "code",
   "execution_count": 866,
   "metadata": {},
   "outputs": [
    {
     "data": {
      "text/plain": [
       "([<matplotlib.patches.Wedge at 0x24f5e764c10>,\n",
       "  <matplotlib.patches.Wedge at 0x24f68edbb90>,\n",
       "  <matplotlib.patches.Wedge at 0x24f68edb850>],\n",
       " [Text(-1.096320269461012, 0.08989920338320195, 'Full Time'),\n",
       "  Text(1.0957327614935846, -0.09679729019783234, 'Internship'),\n",
       "  Text(1.0999782140093104, -0.0069230560367338715, 'Part Time')])"
      ]
     },
     "execution_count": 866,
     "metadata": {},
     "output_type": "execute_result"
    },
    {
     "data": {
      "image/png": "[encoded data removed]",
      "text/plain": [
       "<Figure size 640x480 with 1 Axes>"
      ]
     },
     "metadata": {},
     "output_type": "display_data"
    }
   ],
   "source": [
    "labels = df['Job Type'].value_counts().reset_index()['Job Type']\n",
    "sizes = df['Job Type'].value_counts().reset_index()['count']\n",
    "fig, ax = plt.subplots()\n",
    "ax.pie(sizes, labels=labels)"
   ]
  },
  {
   "cell_type": "markdown",
   "metadata": {},
   "source": [
    "<hr style='color:white;'>\n",
    "<p style='color:orange;font-size:20px;text-align:center;'> Data <b><i>Modeling</i></b> & <b><i>Storage</i></b></p>\n",
    "<hr style='color:white;'>"
   ]
  },
  {
   "cell_type": "markdown",
   "metadata": {},
   "source": [
    "<hr style='color:#BA704F;'>\n",
    "<u style='color:crimson;font-size:20px;text-decoration: none;'>\n",
    "  <li>Entity-Relationship Model (ERM):</li>\n",
    "  <li>Entity-Relationship Diagram (ERD):</li>\n",
    "  <li>Insert into the database:</li>\n",
    "</u>\n",
    "<hr style='color:#BA704F;'>"
   ]
  }
 ],
 "metadata": {
  "kernelspec": {
   "display_name": "Python 3",
   "language": "python",
   "name": "python3"
  },
  "language_info": {
   "codemirror_mode": {
    "name": "ipython",
    "version": 3
   },
   "file_extension": ".py",
   "mimetype": "text/x-python",
   "name": "python",
   "nbconvert_exporter": "python",
   "pygments_lexer": "ipython3",
   "version": "3.11.3"
  },
  "orig_nbformat": 4
 },
 "nbformat": 4,
 "nbformat_minor": 2
}
