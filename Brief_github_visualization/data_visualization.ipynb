{
 "cells": [
  {
   "cell_type": "code",
   "execution_count": 339,
   "metadata": {},
   "outputs": [],
   "source": [
    "import pandas as pd\n",
    "from bokeh.plotting import figure, show\n",
    "import matplotlib.pyplot as plt\n",
    "from bokeh.plotting import figure, show\n",
    "from bokeh.io import output_notebook\n",
    "import numpy as np\n",
    "from bokeh.models import FactorRange\n",
    "import ipywidgets as widgets\n",
    "from bokeh.models import ColumnDataSource\n",
    "from bokeh.palettes import Spectral6\n",
    "from bokeh.transform import factor_cmap"
   ]
  },
  {
   "cell_type": "code",
   "execution_count": 340,
   "metadata": {},
   "outputs": [],
   "source": [
    "df_contributors = pd.read_csv('C:\\\\csv-data-collect\\\\github-2023_06_31_contributors.csv')\n",
    "df_contributors_top_20 = pd.read_csv('C:\\\\csv-data-collect\\\\github-2023_06_31_contributors_top_20_stars.csv')\n",
    "df_repos = pd.read_csv('C:\\\\csv-data-collect\\\\github-2023_06_31_main.csv',index_col=0)"
   ]
  },
  {
   "cell_type": "code",
   "execution_count": 338,
   "metadata": {},
   "outputs": [],
   "source": [
    "repo_name = df_repos.nlargest(3,columns=['stargazers_count'])['full_name']\n",
    "repos_filtred = []\n",
    "for x in repo_name:\n",
    "    df = df_contributors_top_20.loc[df_contributors_top_20['full_name'] == x]\n",
    "    for index,d in df.iterrows():\n",
    "        repos_filtred.append(dict(full_name = x,commit = d.commit,contributor = d.contributor))\n",
    "\n",
    "df_filtred = pd.DataFrame(repos_filtred)\n",
    "df_grouped = df_filtred.groupby(['full_name','contributor'])['commit'].apply(lambda x:x).reset_index()"
   ]
  },
  {
   "cell_type": "code",
   "execution_count": 337,
   "metadata": {},
   "outputs": [
    {
     "data": {
      "text/html": [
       "\n",
       "  <div id=\"d91668ea-a4e2-4a57-aa02-1f9af5d41e14\" data-root-id=\"p7914\" style=\"display: contents;\"></div>\n"
      ]
     },
     "metadata": {},
     "output_type": "display_data"
    },
    {
     "data": {
      "application/javascript": "(function(root) {\n  function embed_document(root) {\n  const docs_json = {\"14ee9743-1e3f-4249-b09b-cecc76651b96\":{\"version\":\"3.2.0\",\"title\":\"Bokeh Application\",\"roots\":[{\"type\":\"object\",\"name\":\"Figure\",\"id\":\"p7914\",\"attributes\":{\"width\":900,\"height\":400,\"x_range\":{\"type\":\"object\",\"name\":\"FactorRange\",\"id\":\"p7913\",\"attributes\":{\"factors\":[[\"0xpayne/gpt-migrate\",\"0xpayne\"],[\"0xpayne/gpt-migrate\",\"MkuuWaUjinga\"],[\"THUDM/ChatGLM2-6B\",\"Stanislas0\"],[\"THUDM/ChatGLM2-6B\",\"Yidadaa\"],[\"THUDM/ChatGLM2-6B\",\"duzx16\"],[\"THUDM/ChatGLM2-6B\",\"eltociear\"],[\"THUDM/ChatGLM2-6B\",\"hiyouga\"],[\"THUDM/ChatGLM2-6B\",\"li-plus\"],[\"THUDM/ChatGLM2-6B\",\"mougua\"],[\"THUDM/ChatGLM2-6B\",\"qinjx\"],[\"facebookresearch/audiocraft\",\"JonathanFly\"],[\"facebookresearch/audiocraft\",\"adefossez\"],[\"facebookresearch/audiocraft\",\"ashleykleynhans\"],[\"facebookresearch/audiocraft\",\"felixkreuk\"],[\"facebookresearch/audiocraft\",\"jamierpond\"],[\"facebookresearch/audiocraft\",\"mimbres\"],[\"facebookresearch/audiocraft\",\"patrickvonplaten\"],[\"facebookresearch/audiocraft\",\"radames\"],[\"facebookresearch/audiocraft\",\"sanchit-gandhi\"],[\"facebookresearch/audiocraft\",\"sungeuns\"],[\"facebookresearch/audiocraft\",\"syhw\"]],\"range_padding\":0.1}},\"y_range\":{\"type\":\"object\",\"name\":\"DataRange1d\",\"id\":\"p7916\",\"attributes\":{\"start\":0}},\"x_scale\":{\"type\":\"object\",\"name\":\"CategoricalScale\",\"id\":\"p7923\"},\"y_scale\":{\"type\":\"object\",\"name\":\"LinearScale\",\"id\":\"p7924\"},\"title\":{\"type\":\"object\",\"name\":\"Title\",\"id\":\"p7921\"},\"renderers\":[{\"type\":\"object\",\"name\":\"GlyphRenderer\",\"id\":\"p7946\",\"attributes\":{\"data_source\":{\"type\":\"object\",\"name\":\"ColumnDataSource\",\"id\":\"p7940\",\"attributes\":{\"selected\":{\"type\":\"object\",\"name\":\"Selection\",\"id\":\"p7941\",\"attributes\":{\"indices\":[],\"line_indices\":[]}},\"selection_policy\":{\"type\":\"object\",\"name\":\"UnionRenderers\",\"id\":\"p7942\"},\"data\":{\"type\":\"map\",\"entries\":[[\"x\",[[\"0xpayne/gpt-migrate\",\"0xpayne\"],[\"0xpayne/gpt-migrate\",\"MkuuWaUjinga\"],[\"THUDM/ChatGLM2-6B\",\"Stanislas0\"],[\"THUDM/ChatGLM2-6B\",\"Yidadaa\"],[\"THUDM/ChatGLM2-6B\",\"duzx16\"],[\"THUDM/ChatGLM2-6B\",\"eltociear\"],[\"THUDM/ChatGLM2-6B\",\"hiyouga\"],[\"THUDM/ChatGLM2-6B\",\"li-plus\"],[\"THUDM/ChatGLM2-6B\",\"mougua\"],[\"THUDM/ChatGLM2-6B\",\"qinjx\"],[\"facebookresearch/audiocraft\",\"JonathanFly\"],[\"facebookresearch/audiocraft\",\"adefossez\"],[\"facebookresearch/audiocraft\",\"ashleykleynhans\"],[\"facebookresearch/audiocraft\",\"felixkreuk\"],[\"facebookresearch/audiocraft\",\"jamierpond\"],[\"facebookresearch/audiocraft\",\"mimbres\"],[\"facebookresearch/audiocraft\",\"patrickvonplaten\"],[\"facebookresearch/audiocraft\",\"radames\"],[\"facebookresearch/audiocraft\",\"sanchit-gandhi\"],[\"facebookresearch/audiocraft\",\"sungeuns\"],[\"facebookresearch/audiocraft\",\"syhw\"]]],[\"top\",[51,2,2,1,34,1,3,1,1,6,1,66,1,1,1,1,1,1,1,1,3]]]}}},\"view\":{\"type\":\"object\",\"name\":\"CDSView\",\"id\":\"p7947\",\"attributes\":{\"filter\":{\"type\":\"object\",\"name\":\"AllIndices\",\"id\":\"p7948\"}}},\"glyph\":{\"type\":\"object\",\"name\":\"VBar\",\"id\":\"p7943\",\"attributes\":{\"x\":{\"type\":\"field\",\"field\":\"x\"},\"width\":{\"type\":\"value\",\"value\":0.9},\"top\":{\"type\":\"field\",\"field\":\"top\"},\"line_color\":{\"type\":\"value\",\"value\":\"#1f77b4\"},\"line_alpha\":{\"type\":\"value\",\"value\":0.5},\"fill_color\":{\"type\":\"value\",\"value\":\"#1f77b4\"},\"fill_alpha\":{\"type\":\"value\",\"value\":0.5},\"hatch_alpha\":{\"type\":\"value\",\"value\":0.5}}},\"nonselection_glyph\":{\"type\":\"object\",\"name\":\"VBar\",\"id\":\"p7944\",\"attributes\":{\"x\":{\"type\":\"field\",\"field\":\"x\"},\"width\":{\"type\":\"value\",\"value\":0.9},\"top\":{\"type\":\"field\",\"field\":\"top\"},\"line_color\":{\"type\":\"value\",\"value\":\"#1f77b4\"},\"line_alpha\":{\"type\":\"value\",\"value\":0.1},\"fill_color\":{\"type\":\"value\",\"value\":\"#1f77b4\"},\"fill_alpha\":{\"type\":\"value\",\"value\":0.1},\"hatch_alpha\":{\"type\":\"value\",\"value\":0.1}}},\"muted_glyph\":{\"type\":\"object\",\"name\":\"VBar\",\"id\":\"p7945\",\"attributes\":{\"x\":{\"type\":\"field\",\"field\":\"x\"},\"width\":{\"type\":\"value\",\"value\":0.9},\"top\":{\"type\":\"field\",\"field\":\"top\"},\"line_color\":{\"type\":\"value\",\"value\":\"#1f77b4\"},\"line_alpha\":{\"type\":\"value\",\"value\":0.2},\"fill_color\":{\"type\":\"value\",\"value\":\"#1f77b4\"},\"fill_alpha\":{\"type\":\"value\",\"value\":0.2},\"hatch_alpha\":{\"type\":\"value\",\"value\":0.2}}}}},{\"type\":\"object\",\"name\":\"GlyphRenderer\",\"id\":\"p7955\",\"attributes\":{\"data_source\":{\"type\":\"object\",\"name\":\"ColumnDataSource\",\"id\":\"p7949\",\"attributes\":{\"selected\":{\"type\":\"object\",\"name\":\"Selection\",\"id\":\"p7950\",\"attributes\":{\"indices\":[],\"line_indices\":[]}},\"selection_policy\":{\"type\":\"object\",\"name\":\"UnionRenderers\",\"id\":\"p7951\"},\"data\":{\"type\":\"map\",\"entries\":[[\"x\",[\"0xpayne/gpt-migrate\",\"0xpayne/gpt-migrate\",\"THUDM/ChatGLM2-6B\",\"THUDM/ChatGLM2-6B\",\"THUDM/ChatGLM2-6B\",\"THUDM/ChatGLM2-6B\",\"THUDM/ChatGLM2-6B\",\"THUDM/ChatGLM2-6B\",\"THUDM/ChatGLM2-6B\",\"THUDM/ChatGLM2-6B\",\"facebookresearch/audiocraft\",\"facebookresearch/audiocraft\",\"facebookresearch/audiocraft\",\"facebookresearch/audiocraft\",\"facebookresearch/audiocraft\",\"facebookresearch/audiocraft\",\"facebookresearch/audiocraft\",\"facebookresearch/audiocraft\",\"facebookresearch/audiocraft\",\"facebookresearch/audiocraft\",\"facebookresearch/audiocraft\"]],[\"y\",[51,2,2,1,34,1,3,1,1,6,1,66,1,1,1,1,1,1,1,1,3]]]}}},\"view\":{\"type\":\"object\",\"name\":\"CDSView\",\"id\":\"p7956\",\"attributes\":{\"filter\":{\"type\":\"object\",\"name\":\"AllIndices\",\"id\":\"p7957\"}}},\"glyph\":{\"type\":\"object\",\"name\":\"Line\",\"id\":\"p7952\",\"attributes\":{\"x\":{\"type\":\"field\",\"field\":\"x\"},\"y\":{\"type\":\"field\",\"field\":\"y\"},\"line_color\":\"lightblue\",\"line_width\":0}},\"nonselection_glyph\":{\"type\":\"object\",\"name\":\"Line\",\"id\":\"p7953\",\"attributes\":{\"x\":{\"type\":\"field\",\"field\":\"x\"},\"y\":{\"type\":\"field\",\"field\":\"y\"},\"line_color\":\"lightblue\",\"line_alpha\":0.1,\"line_width\":0}},\"muted_glyph\":{\"type\":\"object\",\"name\":\"Line\",\"id\":\"p7954\",\"attributes\":{\"x\":{\"type\":\"field\",\"field\":\"x\"},\"y\":{\"type\":\"field\",\"field\":\"y\"},\"line_color\":\"lightblue\",\"line_alpha\":0.2,\"line_width\":0}}}}],\"toolbar\":{\"type\":\"object\",\"name\":\"Toolbar\",\"id\":\"p7922\",\"attributes\":{\"tools\":[{\"type\":\"object\",\"name\":\"PanTool\",\"id\":\"p7935\"},{\"type\":\"object\",\"name\":\"WheelZoomTool\",\"id\":\"p7936\"},{\"type\":\"object\",\"name\":\"BoxZoomTool\",\"id\":\"p7937\",\"attributes\":{\"overlay\":{\"type\":\"object\",\"name\":\"BoxAnnotation\",\"id\":\"p7938\",\"attributes\":{\"syncable\":false,\"level\":\"overlay\",\"visible\":false,\"left_units\":\"canvas\",\"right_units\":\"canvas\",\"bottom_units\":\"canvas\",\"top_units\":\"canvas\",\"line_color\":\"black\",\"line_alpha\":1.0,\"line_width\":2,\"line_dash\":[4,4],\"fill_color\":\"lightgrey\",\"fill_alpha\":0.5}}}},{\"type\":\"object\",\"name\":\"ResetTool\",\"id\":\"p7939\"}]}},\"left\":[{\"type\":\"object\",\"name\":\"LinearAxis\",\"id\":\"p7930\",\"attributes\":{\"ticker\":{\"type\":\"object\",\"name\":\"BasicTicker\",\"id\":\"p7931\",\"attributes\":{\"mantissas\":[1,2,5]}},\"formatter\":{\"type\":\"object\",\"name\":\"BasicTickFormatter\",\"id\":\"p7932\"},\"major_label_policy\":{\"type\":\"object\",\"name\":\"AllLabels\",\"id\":\"p7933\"}}}],\"below\":[{\"type\":\"object\",\"name\":\"CategoricalAxis\",\"id\":\"p7925\",\"attributes\":{\"ticker\":{\"type\":\"object\",\"name\":\"CategoricalTicker\",\"id\":\"p7926\"},\"formatter\":{\"type\":\"object\",\"name\":\"CategoricalTickFormatter\",\"id\":\"p7927\"},\"major_label_orientation\":1,\"major_label_policy\":{\"type\":\"object\",\"name\":\"AllLabels\",\"id\":\"p7928\"}}}],\"center\":[{\"type\":\"object\",\"name\":\"Grid\",\"id\":\"p7929\",\"attributes\":{\"axis\":{\"id\":\"p7925\"},\"grid_line_color\":null}},{\"type\":\"object\",\"name\":\"Grid\",\"id\":\"p7934\",\"attributes\":{\"dimension\":1,\"axis\":{\"id\":\"p7930\"}}}]}}]}};\n  const render_items = [{\"docid\":\"14ee9743-1e3f-4249-b09b-cecc76651b96\",\"roots\":{\"p7914\":\"d91668ea-a4e2-4a57-aa02-1f9af5d41e14\"},\"root_ids\":[\"p7914\"]}];\n  root.Bokeh.embed.embed_items_notebook(docs_json, render_items);\n  }\n  if (root.Bokeh !== undefined) {\n    embed_document(root);\n  } else {\n    let attempts = 0;\n    const timer = setInterval(function(root) {\n      if (root.Bokeh !== undefined) {\n        clearInterval(timer);\n        embed_document(root);\n      } else {\n        attempts++;\n        if (attempts > 100) {\n          clearInterval(timer);\n          console.log(\"Bokeh: ERROR: Unable to run BokehJS code because BokehJS library is missing\");\n        }\n      }\n    }, 10, root)\n  }\n})(window);",
      "application/vnd.bokehjs_exec.v0+json": ""
     },
     "metadata": {
      "application/vnd.bokehjs_exec.v0+json": {
       "id": "p7914"
      }
     },
     "output_type": "display_data"
    }
   ],
   "source": [
    "factors = tuple(df_grouped[['full_name','contributor']].itertuples(index=False,name=None))\n",
    "\n",
    "p = figure(x_range=FactorRange(*factors), height=400,\n",
    "           toolbar_location='right', width = 900,tools=\"pan,wheel_zoom,box_zoom,reset\")\n",
    "\n",
    "x = df_grouped['commit'].to_list()\n",
    "p.vbar(x=factors, top=x, width=0.9, alpha=0.5)\n",
    "\n",
    "p.line(x=df_grouped['full_name'].to_list(), y=df_grouped['commit'].to_list(), color=\"lightblue\", line_width=0)\n",
    "\n",
    "p.y_range.start = 0\n",
    "p.x_range.range_padding = 0.1\n",
    "p.xaxis.major_label_orientation = 1\n",
    "p.xgrid.grid_line_color = None\n",
    "\n",
    "show(p)"
   ]
  },
  {
   "cell_type": "markdown",
   "metadata": {},
   "source": [
    "# <p style='color:red;font-szie=20px;text-align:center'>The Most Used Technology.</p>"
   ]
  },
  {
   "cell_type": "code",
   "execution_count": 341,
   "metadata": {},
   "outputs": [
    {
     "data": {
      "text/html": [
       "\n",
       "  <div id=\"fde3dfd9-b88f-492f-a1f7-ee662fd835ff\" data-root-id=\"p7961\" style=\"display: contents;\"></div>\n"
      ]
     },
     "metadata": {},
     "output_type": "display_data"
    },
    {
     "data": {
      "application/javascript": "(function(root) {\n  function embed_document(root) {\n  const docs_json = {\"c6bafeea-6a02-4bb7-8391-f7d1cfc61d15\":{\"version\":\"3.2.0\",\"title\":\"Bokeh Application\",\"roots\":[{\"type\":\"object\",\"name\":\"Figure\",\"id\":\"p7961\",\"attributes\":{\"width\":900,\"height\":350,\"x_range\":{\"type\":\"object\",\"name\":\"FactorRange\",\"id\":\"p7971\",\"attributes\":{\"factors\":[\"Python\",\"JavaScript\",\"TypeScript\",\"Java\",\"HTML\"]}},\"y_range\":{\"type\":\"object\",\"name\":\"DataRange1d\",\"id\":\"p7963\",\"attributes\":{\"start\":0,\"end\":4670}},\"x_scale\":{\"type\":\"object\",\"name\":\"CategoricalScale\",\"id\":\"p7972\"},\"y_scale\":{\"type\":\"object\",\"name\":\"LinearScale\",\"id\":\"p7973\"},\"title\":{\"type\":\"object\",\"name\":\"Title\",\"id\":\"p7964\",\"attributes\":{\"text\":\"Technology Counts\"}},\"renderers\":[{\"type\":\"object\",\"name\":\"GlyphRenderer\",\"id\":\"p7998\",\"attributes\":{\"data_source\":{\"type\":\"object\",\"name\":\"ColumnDataSource\",\"id\":\"p7958\",\"attributes\":{\"selected\":{\"type\":\"object\",\"name\":\"Selection\",\"id\":\"p7959\",\"attributes\":{\"indices\":[],\"line_indices\":[]}},\"selection_policy\":{\"type\":\"object\",\"name\":\"UnionRenderers\",\"id\":\"p7960\"},\"data\":{\"type\":\"map\",\"entries\":[[\"languages\",[\"Python\",\"JavaScript\",\"TypeScript\",\"Java\",\"HTML\"]],[\"counts\",[4270,3190,2065,1115,1106]]]}}},\"view\":{\"type\":\"object\",\"name\":\"CDSView\",\"id\":\"p7999\",\"attributes\":{\"filter\":{\"type\":\"object\",\"name\":\"AllIndices\",\"id\":\"p8000\"}}},\"glyph\":{\"type\":\"object\",\"name\":\"VBar\",\"id\":\"p7995\",\"attributes\":{\"x\":{\"type\":\"field\",\"field\":\"languages\"},\"width\":{\"type\":\"value\",\"value\":0.9},\"top\":{\"type\":\"field\",\"field\":\"counts\"},\"line_color\":{\"type\":\"value\",\"value\":\"white\"},\"fill_color\":{\"type\":\"field\",\"field\":\"languages\",\"transform\":{\"type\":\"object\",\"name\":\"CategoricalColorMapper\",\"id\":\"p7991\",\"attributes\":{\"palette\":[\"#3288bd\",\"#99d594\",\"#e6f598\",\"#fee08b\",\"#fc8d59\",\"#d53e4f\"],\"factors\":[\"Python\",\"JavaScript\",\"TypeScript\",\"Java\",\"HTML\"]}}}}},\"nonselection_glyph\":{\"type\":\"object\",\"name\":\"VBar\",\"id\":\"p7996\",\"attributes\":{\"x\":{\"type\":\"field\",\"field\":\"languages\"},\"width\":{\"type\":\"value\",\"value\":0.9},\"top\":{\"type\":\"field\",\"field\":\"counts\"},\"line_color\":{\"type\":\"value\",\"value\":\"white\"},\"line_alpha\":{\"type\":\"value\",\"value\":0.1},\"fill_color\":{\"type\":\"field\",\"field\":\"languages\",\"transform\":{\"id\":\"p7991\"}},\"fill_alpha\":{\"type\":\"value\",\"value\":0.1},\"hatch_alpha\":{\"type\":\"value\",\"value\":0.1}}},\"muted_glyph\":{\"type\":\"object\",\"name\":\"VBar\",\"id\":\"p7997\",\"attributes\":{\"x\":{\"type\":\"field\",\"field\":\"languages\"},\"width\":{\"type\":\"value\",\"value\":0.9},\"top\":{\"type\":\"field\",\"field\":\"counts\"},\"line_color\":{\"type\":\"value\",\"value\":\"white\"},\"line_alpha\":{\"type\":\"value\",\"value\":0.2},\"fill_color\":{\"type\":\"field\",\"field\":\"languages\",\"transform\":{\"id\":\"p7991\"}},\"fill_alpha\":{\"type\":\"value\",\"value\":0.2},\"hatch_alpha\":{\"type\":\"value\",\"value\":0.2}}}}}],\"toolbar\":{\"type\":\"object\",\"name\":\"Toolbar\",\"id\":\"p7970\",\"attributes\":{\"tools\":[{\"type\":\"object\",\"name\":\"PanTool\",\"id\":\"p7984\"},{\"type\":\"object\",\"name\":\"WheelZoomTool\",\"id\":\"p7985\"},{\"type\":\"object\",\"name\":\"BoxZoomTool\",\"id\":\"p7986\",\"attributes\":{\"overlay\":{\"type\":\"object\",\"name\":\"BoxAnnotation\",\"id\":\"p7987\",\"attributes\":{\"syncable\":false,\"level\":\"overlay\",\"visible\":false,\"left_units\":\"canvas\",\"right_units\":\"canvas\",\"bottom_units\":\"canvas\",\"top_units\":\"canvas\",\"line_color\":\"black\",\"line_alpha\":1.0,\"line_width\":2,\"line_dash\":[4,4],\"fill_color\":\"lightgrey\",\"fill_alpha\":0.5}}}},{\"type\":\"object\",\"name\":\"SaveTool\",\"id\":\"p7988\"},{\"type\":\"object\",\"name\":\"ResetTool\",\"id\":\"p7989\"},{\"type\":\"object\",\"name\":\"HelpTool\",\"id\":\"p7990\"}]}},\"left\":[{\"type\":\"object\",\"name\":\"LinearAxis\",\"id\":\"p7979\",\"attributes\":{\"ticker\":{\"type\":\"object\",\"name\":\"BasicTicker\",\"id\":\"p7980\",\"attributes\":{\"mantissas\":[1,2,5]}},\"formatter\":{\"type\":\"object\",\"name\":\"BasicTickFormatter\",\"id\":\"p7981\"},\"major_label_policy\":{\"type\":\"object\",\"name\":\"AllLabels\",\"id\":\"p7982\"}}}],\"below\":[{\"type\":\"object\",\"name\":\"CategoricalAxis\",\"id\":\"p7974\",\"attributes\":{\"ticker\":{\"type\":\"object\",\"name\":\"CategoricalTicker\",\"id\":\"p7975\"},\"formatter\":{\"type\":\"object\",\"name\":\"CategoricalTickFormatter\",\"id\":\"p7976\"},\"major_label_policy\":{\"type\":\"object\",\"name\":\"AllLabels\",\"id\":\"p7977\"}}}],\"center\":[{\"type\":\"object\",\"name\":\"Grid\",\"id\":\"p7978\",\"attributes\":{\"axis\":{\"id\":\"p7974\"},\"grid_line_color\":null}},{\"type\":\"object\",\"name\":\"Grid\",\"id\":\"p7983\",\"attributes\":{\"dimension\":1,\"axis\":{\"id\":\"p7979\"}}},{\"type\":\"object\",\"name\":\"Legend\",\"id\":\"p8001\",\"attributes\":{\"location\":\"top_center\",\"orientation\":\"horizontal\",\"items\":[{\"type\":\"object\",\"name\":\"LegendItem\",\"id\":\"p8002\",\"attributes\":{\"label\":{\"type\":\"field\",\"field\":\"languages\"},\"renderers\":[{\"id\":\"p7998\"}]}}]}}]}}]}};\n  const render_items = [{\"docid\":\"c6bafeea-6a02-4bb7-8391-f7d1cfc61d15\",\"roots\":{\"p7961\":\"fde3dfd9-b88f-492f-a1f7-ee662fd835ff\"},\"root_ids\":[\"p7961\"]}];\n  root.Bokeh.embed.embed_items_notebook(docs_json, render_items);\n  }\n  if (root.Bokeh !== undefined) {\n    embed_document(root);\n  } else {\n    let attempts = 0;\n    const timer = setInterval(function(root) {\n      if (root.Bokeh !== undefined) {\n        clearInterval(timer);\n        embed_document(root);\n      } else {\n        attempts++;\n        if (attempts > 100) {\n          clearInterval(timer);\n          console.log(\"Bokeh: ERROR: Unable to run BokehJS code because BokehJS library is missing\");\n        }\n      }\n    }, 10, root)\n  }\n})(window);",
      "application/vnd.bokehjs_exec.v0+json": ""
     },
     "metadata": {
      "application/vnd.bokehjs_exec.v0+json": {
       "id": "p7961"
      }
     },
     "output_type": "display_data"
    }
   ],
   "source": [
    "def GetTheMostUsedLanguge(Rows_number):\n",
    "    data = df_repos['language'].value_counts().head(Rows_number).to_dict()\n",
    "    group_data = list(data.values())\n",
    "    group_languagea_names = list(data.keys())\n",
    "    languages = group_languagea_names\n",
    "    counts = group_data\n",
    "\n",
    "    source = ColumnDataSource(data=dict(languages=languages, counts=counts))\n",
    "\n",
    "    p = figure(x_range=languages, height=350, toolbar_location=\"right\", title=\"Technology Counts\",width=900)\n",
    "    p.vbar(x='languages', top='counts', width=0.9, source=source, legend_field=\"languages\",\n",
    "        line_color='white', fill_color=factor_cmap('languages', palette=Spectral6, factors=languages))\n",
    "\n",
    "    p.xgrid.grid_line_color = None\n",
    "    p.y_range.start = 0\n",
    "    p.y_range.end = group_data[0] + 400\n",
    "    p.legend.orientation = \"horizontal\"\n",
    "    p.legend.location = \"top_center\"\n",
    "    show(p)\n",
    "\n",
    "GetTheMostUsedLanguge(5)"
   ]
  },
  {
   "cell_type": "markdown",
   "metadata": {},
   "source": [
    "# <p style='color:red;font-szie=20px;text-align:center'>The Most Used Technology.</p>"
   ]
  }
 ],
 "metadata": {
  "kernelspec": {
   "display_name": "Python 3",
   "language": "python",
   "name": "python3"
  },
  "language_info": {
   "codemirror_mode": {
    "name": "ipython",
    "version": 3
   },
   "file_extension": ".py",
   "mimetype": "text/x-python",
   "name": "python",
   "nbconvert_exporter": "python",
   "pygments_lexer": "ipython3",
   "version": "3.11.3"
  },
  "orig_nbformat": 4
 },
 "nbformat": 4,
 "nbformat_minor": 2
}
