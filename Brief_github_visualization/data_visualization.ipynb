{
 "cells": [
  {
   "cell_type": "code",
   "execution_count": 141,
   "metadata": {},
   "outputs": [
    {
     "data": {
      "text/html": [
       "<style>\n",
       "        .bk-notebook-logo {\n",
       "            display: block;\n",
       "            width: 20px;\n",
       "            height: 20px;\n",
       "            background-image: url(data:image/png;base64,iVBORw0KGgoAAAANSUhEUgAAABQAAAAUCAYAAACNiR0NAAAABHNCSVQICAgIfAhkiAAAAAlwSFlzAAALEgAACxIB0t1+/AAAABx0RVh0U29mdHdhcmUAQWRvYmUgRmlyZXdvcmtzIENTNui8sowAAAOkSURBVDiNjZRtaJVlGMd/1/08zzln5zjP1LWcU9N0NkN8m2CYjpgQYQXqSs0I84OLIC0hkEKoPtiH3gmKoiJDU7QpLgoLjLIQCpEsNJ1vqUOdO7ppbuec5+V+rj4ctwzd8IIbbi6u+8f1539dt3A78eXC7QizUF7gyV1fD1Yqg4JWz84yffhm0qkFqBogB9rM8tZdtwVsPUhWhGcFJngGeWrPzHm5oaMmkfEg1usvLFyc8jLRqDOMru7AyC8saQr7GG7f5fvDeH7Ej8CM66nIF+8yngt6HWaKh7k49Soy9nXurCi1o3qUbS3zWfrYeQDTB/Qj6kX6Ybhw4B+bOYoLKCC9H3Nu/leUTZ1JdRWkkn2ldcCamzrcf47KKXdAJllSlxAOkRgyHsGC/zRday5Qld9DyoM4/q/rUoy/CXh3jzOu3bHUVZeU+DEn8FInkPBFlu3+nW3Nw0mk6vCDiWg8CeJaxEwuHS3+z5RgY+YBR6V1Z1nxSOfoaPa4LASWxxdNp+VWTk7+4vzaou8v8PN+xo+KY2xsw6une2frhw05CTYOmQvsEhjhWjn0bmXPjpE1+kplmmkP3suftwTubK9Vq22qKmrBhpY4jvd5afdRA3wGjFAgcnTK2s4hY0/GPNIb0nErGMCRxWOOX64Z8RAC4oCXdklmEvcL8o0BfkNK4lUg9HTl+oPlQxdNo3Mg4Nv175e/1LDGzZen30MEjRUtmXSfiTVu1kK8W4txyV6BMKlbgk3lMwYCiusNy9fVfvvwMxv8Ynl6vxoByANLTWplvuj/nF9m2+PDtt1eiHPBr1oIfhCChQMBw6Aw0UulqTKZdfVvfG7VcfIqLG9bcldL/+pdWTLxLUy8Qq38heUIjh4XlzZxzQm19lLFlr8vdQ97rjZVOLf8nclzckbcD4wxXMidpX30sFd37Fv/GtwwhzhxGVAprjbg0gCAEeIgwCZyTV2Z1REEW8O4py0wsjeloKoMr6iCY6dP92H6Vw/oTyICIthibxjm/DfN9lVz8IqtqKYLUXfoKVMVQVVJOElGjrnnUt9T9wbgp8AyYKaGlqingHZU/uG2NTZSVqwHQTWkx9hxjkpWDaCg6Ckj5qebgBVbT3V3NNXMSiWSDdGV3hrtzla7J+duwPOToIg42ChPQOQjspnSlp1V+Gjdged7+8UN5CRAV7a5EdFNwCjEaBR27b3W890TE7g24NAP/mMDXRWrGoFPQI9ls/MWO2dWFAar/xcOIImbbpA3zgAAAABJRU5ErkJggg==);\n",
       "        }\n",
       "    </style>\n",
       "    <div>\n",
       "        <a href=\"https://bokeh.org\" target=\"_blank\" class=\"bk-notebook-logo\"></a>\n",
       "        <span id=\"ecbf0b52-f150-421b-b62e-ae07e816ec1c\">Loading BokehJS ...</span>\n",
       "    </div>\n"
      ]
     },
     "metadata": {},
     "output_type": "display_data"
    },
    {
     "data": {
      "application/javascript": "(function(root) {\n  function now() {\n    return new Date();\n  }\n\n  const force = true;\n\n  if (typeof root._bokeh_onload_callbacks === \"undefined\" || force === true) {\n    root._bokeh_onload_callbacks = [];\n    root._bokeh_is_loading = undefined;\n  }\n\nconst JS_MIME_TYPE = 'application/javascript';\n  const HTML_MIME_TYPE = 'text/html';\n  const EXEC_MIME_TYPE = 'application/vnd.bokehjs_exec.v0+json';\n  const CLASS_NAME = 'output_bokeh rendered_html';\n\n  /**\n   * Render data to the DOM node\n   */\n  function render(props, node) {\n    const script = document.createElement(\"script\");\n    node.appendChild(script);\n  }\n\n  /**\n   * Handle when an output is cleared or removed\n   */\n  function handleClearOutput(event, handle) {\n    const cell = handle.cell;\n\n    const id = cell.output_area._bokeh_element_id;\n    const server_id = cell.output_area._bokeh_server_id;\n    // Clean up Bokeh references\n    if (id != null && id in Bokeh.index) {\n      Bokeh.index[id].model.document.clear();\n      delete Bokeh.index[id];\n    }\n\n    if (server_id !== undefined) {\n      // Clean up Bokeh references\n      const cmd_clean = \"from bokeh.io.state import curstate; print(curstate().uuid_to_server['\" + server_id + \"'].get_sessions()[0].document.roots[0]._id)\";\n      cell.notebook.kernel.execute(cmd_clean, {\n        iopub: {\n          output: function(msg) {\n            const id = msg.content.text.trim();\n            if (id in Bokeh.index) {\n              Bokeh.index[id].model.document.clear();\n              delete Bokeh.index[id];\n            }\n          }\n        }\n      });\n      // Destroy server and session\n      const cmd_destroy = \"import bokeh.io.notebook as ion; ion.destroy_server('\" + server_id + \"')\";\n      cell.notebook.kernel.execute(cmd_destroy);\n    }\n  }\n\n  /**\n   * Handle when a new output is added\n   */\n  function handleAddOutput(event, handle) {\n    const output_area = handle.output_area;\n    const output = handle.output;\n\n    // limit handleAddOutput to display_data with EXEC_MIME_TYPE content only\n    if ((output.output_type != \"display_data\") || (!Object.prototype.hasOwnProperty.call(output.data, EXEC_MIME_TYPE))) {\n      return\n    }\n\n    const toinsert = output_area.element.find(\".\" + CLASS_NAME.split(' ')[0]);\n\n    if (output.metadata[EXEC_MIME_TYPE][\"id\"] !== undefined) {\n      toinsert[toinsert.length - 1].firstChild.textContent = output.data[JS_MIME_TYPE];\n      // store reference to embed id on output_area\n      output_area._bokeh_element_id = output.metadata[EXEC_MIME_TYPE][\"id\"];\n    }\n    if (output.metadata[EXEC_MIME_TYPE][\"server_id\"] !== undefined) {\n      const bk_div = document.createElement(\"div\");\n      bk_div.innerHTML = output.data[HTML_MIME_TYPE];\n      const script_attrs = bk_div.children[0].attributes;\n      for (let i = 0; i < script_attrs.length; i++) {\n        toinsert[toinsert.length - 1].firstChild.setAttribute(script_attrs[i].name, script_attrs[i].value);\n        toinsert[toinsert.length - 1].firstChild.textContent = bk_div.children[0].textContent\n      }\n      // store reference to server id on output_area\n      output_area._bokeh_server_id = output.metadata[EXEC_MIME_TYPE][\"server_id\"];\n    }\n  }\n\n  function register_renderer(events, OutputArea) {\n\n    function append_mime(data, metadata, element) {\n      // create a DOM node to render to\n      const toinsert = this.create_output_subarea(\n        metadata,\n        CLASS_NAME,\n        EXEC_MIME_TYPE\n      );\n      this.keyboard_manager.register_events(toinsert);\n      // Render to node\n      const props = {data: data, metadata: metadata[EXEC_MIME_TYPE]};\n      render(props, toinsert[toinsert.length - 1]);\n      element.append(toinsert);\n      return toinsert\n    }\n\n    /* Handle when an output is cleared or removed */\n    events.on('clear_output.CodeCell', handleClearOutput);\n    events.on('delete.Cell', handleClearOutput);\n\n    /* Handle when a new output is added */\n    events.on('output_added.OutputArea', handleAddOutput);\n\n    /**\n     * Register the mime type and append_mime function with output_area\n     */\n    OutputArea.prototype.register_mime_type(EXEC_MIME_TYPE, append_mime, {\n      /* Is output safe? */\n      safe: true,\n      /* Index of renderer in `output_area.display_order` */\n      index: 0\n    });\n  }\n\n  // register the mime type if in Jupyter Notebook environment and previously unregistered\n  if (root.Jupyter !== undefined) {\n    const events = require('base/js/events');\n    const OutputArea = require('notebook/js/outputarea').OutputArea;\n\n    if (OutputArea.prototype.mime_types().indexOf(EXEC_MIME_TYPE) == -1) {\n      register_renderer(events, OutputArea);\n    }\n  }\n  if (typeof (root._bokeh_timeout) === \"undefined\" || force === true) {\n    root._bokeh_timeout = Date.now() + 5000;\n    root._bokeh_failed_load = false;\n  }\n\n  const NB_LOAD_WARNING = {'data': {'text/html':\n     \"<div style='background-color: #fdd'>\\n\"+\n     \"<p>\\n\"+\n     \"BokehJS does not appear to have successfully loaded. If loading BokehJS from CDN, this \\n\"+\n     \"may be due to a slow or bad network connection. Possible fixes:\\n\"+\n     \"</p>\\n\"+\n     \"<ul>\\n\"+\n     \"<li>re-rerun `output_notebook()` to attempt to load from CDN again, or</li>\\n\"+\n     \"<li>use INLINE resources instead, as so:</li>\\n\"+\n     \"</ul>\\n\"+\n     \"<code>\\n\"+\n     \"from bokeh.resources import INLINE\\n\"+\n     \"output_notebook(resources=INLINE)\\n\"+\n     \"</code>\\n\"+\n     \"</div>\"}};\n\n  function display_loaded() {\n    const el = document.getElementById(\"ecbf0b52-f150-421b-b62e-ae07e816ec1c\");\n    if (el != null) {\n      el.textContent = \"BokehJS is loading...\";\n    }\n    if (root.Bokeh !== undefined) {\n      if (el != null) {\n        el.textContent = \"BokehJS \" + root.Bokeh.version + \" successfully loaded.\";\n      }\n    } else if (Date.now() < root._bokeh_timeout) {\n      setTimeout(display_loaded, 100)\n    }\n  }\n\n  function run_callbacks() {\n    try {\n      root._bokeh_onload_callbacks.forEach(function(callback) {\n        if (callback != null)\n          callback();\n      });\n    } finally {\n      delete root._bokeh_onload_callbacks\n    }\n    console.debug(\"Bokeh: all callbacks have finished\");\n  }\n\n  function load_libs(css_urls, js_urls, callback) {\n    if (css_urls == null) css_urls = [];\n    if (js_urls == null) js_urls = [];\n\n    root._bokeh_onload_callbacks.push(callback);\n    if (root._bokeh_is_loading > 0) {\n      console.debug(\"Bokeh: BokehJS is being loaded, scheduling callback at\", now());\n      return null;\n    }\n    if (js_urls == null || js_urls.length === 0) {\n      run_callbacks();\n      return null;\n    }\n    console.debug(\"Bokeh: BokehJS not loaded, scheduling load and callback at\", now());\n    root._bokeh_is_loading = css_urls.length + js_urls.length;\n\n    function on_load() {\n      root._bokeh_is_loading--;\n      if (root._bokeh_is_loading === 0) {\n        console.debug(\"Bokeh: all BokehJS libraries/stylesheets loaded\");\n        run_callbacks()\n      }\n    }\n\n    function on_error(url) {\n      console.error(\"failed to load \" + url);\n    }\n\n    for (let i = 0; i < css_urls.length; i++) {\n      const url = css_urls[i];\n      const element = document.createElement(\"link\");\n      element.onload = on_load;\n      element.onerror = on_error.bind(null, url);\n      element.rel = \"stylesheet\";\n      element.type = \"text/css\";\n      element.href = url;\n      console.debug(\"Bokeh: injecting link tag for BokehJS stylesheet: \", url);\n      document.body.appendChild(element);\n    }\n\n    for (let i = 0; i < js_urls.length; i++) {\n      const url = js_urls[i];\n      const element = document.createElement('script');\n      element.onload = on_load;\n      element.onerror = on_error.bind(null, url);\n      element.async = false;\n      element.src = url;\n      console.debug(\"Bokeh: injecting script tag for BokehJS library: \", url);\n      document.head.appendChild(element);\n    }\n  };\n\n  function inject_raw_css(css) {\n    const element = document.createElement(\"style\");\n    element.appendChild(document.createTextNode(css));\n    document.body.appendChild(element);\n  }\n\n  const js_urls = [\"https://cdn.bokeh.org/bokeh/release/bokeh-3.2.0.min.js\", \"https://cdn.bokeh.org/bokeh/release/bokeh-gl-3.2.0.min.js\", \"https://cdn.bokeh.org/bokeh/release/bokeh-widgets-3.2.0.min.js\", \"https://cdn.bokeh.org/bokeh/release/bokeh-tables-3.2.0.min.js\", \"https://cdn.bokeh.org/bokeh/release/bokeh-mathjax-3.2.0.min.js\"];\n  const css_urls = [];\n\n  const inline_js = [    function(Bokeh) {\n      Bokeh.set_log_level(\"info\");\n    },\nfunction(Bokeh) {\n    }\n  ];\n\n  function run_inline_js() {\n    if (root.Bokeh !== undefined || force === true) {\n          for (let i = 0; i < inline_js.length; i++) {\n      inline_js[i].call(root, root.Bokeh);\n    }\nif (force === true) {\n        display_loaded();\n      }} else if (Date.now() < root._bokeh_timeout) {\n      setTimeout(run_inline_js, 100);\n    } else if (!root._bokeh_failed_load) {\n      console.log(\"Bokeh: BokehJS failed to load within specified timeout.\");\n      root._bokeh_failed_load = true;\n    } else if (force !== true) {\n      const cell = $(document.getElementById(\"ecbf0b52-f150-421b-b62e-ae07e816ec1c\")).parents('.cell').data().cell;\n      cell.output_area.append_execute_result(NB_LOAD_WARNING)\n    }\n  }\n\n  if (root._bokeh_is_loading === 0) {\n    console.debug(\"Bokeh: BokehJS loaded, going straight to plotting\");\n    run_inline_js();\n  } else {\n    load_libs(css_urls, js_urls, function() {\n      console.debug(\"Bokeh: BokehJS plotting callback run at\", now());\n      run_inline_js();\n    });\n  }\n}(window));",
      "application/vnd.bokehjs_load.v0+json": ""
     },
     "metadata": {},
     "output_type": "display_data"
    }
   ],
   "source": [
    "import pandas as pd\n",
    "from bokeh.plotting import figure, show\n",
    "import matplotlib.pyplot as plt\n",
    "from bokeh.io import output_notebook\n",
    "from bokeh.palettes import Blues3,Blues9\n",
    "from IPython.display import clear_output\n",
    "import numpy as np\n",
    "from bokeh.models import FactorRange\n",
    "import ipywidgets as widgets\n",
    "from bokeh.models import ColumnDataSource\n",
    "from bokeh.palettes import Spectral6\n",
    "from bokeh.transform import factor_cmap\n",
    "output_notebook()"
   ]
  },
  {
   "cell_type": "code",
   "execution_count": 102,
   "metadata": {},
   "outputs": [],
   "source": [
    "df_contributors = pd.read_csv('C:\\\\csv-data-collect\\\\github-2023_06_31_contributors.csv')\n",
    "df_contributors_top_20 = pd.read_csv('C:\\\\csv-data-collect\\\\github-2023_06_31_contributors_top_20_stars.csv')\n",
    "df_repos = pd.read_csv('C:\\\\csv-data-collect\\\\github-2023_06_31_main.csv')"
   ]
  },
  {
   "cell_type": "markdown",
   "metadata": {},
   "source": [
    "# <p style='color:red;font-size:20px;text-align:center'>Users compare to organisations.</p>"
   ]
  },
  {
   "cell_type": "code",
   "execution_count": 138,
   "metadata": {},
   "outputs": [
    {
     "data": {
      "image/png": "[encoded data removed]",
      "text/plain": [
       "<Figure size 600x600 with 1 Axes>"
      ]
     },
     "metadata": {},
     "output_type": "display_data"
    }
   ],
   "source": [
    "d = df_repos.groupby(by=['owner'])['owner'].count()\n",
    "\n",
    "dd = pd.DataFrame(d,index=['Organization','User'])\n",
    "\n",
    "dd.plot.pie(y='owner',autopct=\"%.2f%%\", colors=Blues3,figsize=(6, 6))\n",
    "\n",
    "plt.show()"
   ]
  },
  {
   "cell_type": "markdown",
   "metadata": {},
   "source": [
    "# <p style='color:red;font-size:20px;text-align:center'>license and unlicensed project.</p>"
   ]
  },
  {
   "cell_type": "code",
   "execution_count": 139,
   "metadata": {},
   "outputs": [
    {
     "data": {
      "text/plain": [
       "0                            Apache License 2.0\n",
       "1        GNU Affero General Public License v3.0\n",
       "2                                   MIT License\n",
       "3                                   MIT License\n",
       "4                                   MIT License\n",
       "                          ...                  \n",
       "20254                              Not included\n",
       "20255                              Not included\n",
       "20256                              Not included\n",
       "20257                              Not included\n",
       "20258                              Not included\n",
       "Name: license, Length: 20259, dtype: object"
      ]
     },
     "execution_count": 139,
     "metadata": {},
     "output_type": "execute_result"
    }
   ],
   "source": [
    "df_repos['license']"
   ]
  },
  {
   "cell_type": "code",
   "execution_count": 142,
   "metadata": {},
   "outputs": [
    {
     "data": {
      "image/png": "[encoded data removed]",
      "text/plain": [
       "<Figure size 600x600 with 1 Axes>"
      ]
     },
     "metadata": {},
     "output_type": "display_data"
    }
   ],
   "source": [
    "licensed = len(df_repos.loc[df_repos['license'] != 'Not included'])\n",
    "unlicensed = len(df_repos.loc[df_repos['license'] == 'Not included'])\n",
    "\n",
    "dc = dict(licensed=licensed,unlicensed=unlicensed)\n",
    "\n",
    "data = pd.DataFrame.from_dict(dc.items()).rename(index={0:'Licensed',1:'Unlicensed'},columns={0:'license',1:'counts'})\n",
    "\n",
    "data.plot.pie(y='counts',autopct=\"%.2f%%\", colors=Blues9,figsize=(6, 6))\n",
    "\n",
    "plt.show()"
   ]
  },
  {
   "cell_type": "markdown",
   "metadata": {},
   "source": [
    "# <p style='color:red;font-size:20px;text-align:center'>top 3 repos with number of commit for each contributors </p>"
   ]
  },
  {
   "cell_type": "code",
   "execution_count": 103,
   "metadata": {},
   "outputs": [],
   "source": [
    "repo_name = df_repos.nlargest(3,columns=['stargazers_count'])['full_name']\n",
    "repos_filtred = []\n",
    "for x in repo_name:\n",
    "    df = df_contributors_top_20.loc[df_contributors_top_20['full_name'] == x]\n",
    "    for index,d in df.iterrows():\n",
    "        repos_filtred.append(dict(full_name = x,commit = d.commit,contributor = d.contributor))\n",
    "\n",
    "df_filtred = pd.DataFrame(repos_filtred)\n",
    "df_grouped = df_filtred.groupby(['full_name','contributor'])['commit'].apply(lambda x:x).reset_index()"
   ]
  },
  {
   "cell_type": "code",
   "execution_count": 108,
   "metadata": {},
   "outputs": [
    {
     "data": {
      "text/html": [
       "\n",
       "  <div id=\"e3009458-f17d-406a-a304-78d6fb47ccf9\" data-root-id=\"p3151\" style=\"display: contents;\"></div>\n"
      ]
     },
     "metadata": {},
     "output_type": "display_data"
    },
    {
     "data": {
      "application/javascript": "(function(root) {\n  function embed_document(root) {\n  const docs_json = {\"50633d7b-8827-4b61-bcda-cd66f26d1544\":{\"version\":\"3.2.0\",\"title\":\"Bokeh Application\",\"roots\":[{\"type\":\"object\",\"name\":\"Figure\",\"id\":\"p3151\",\"attributes\":{\"width\":900,\"height\":400,\"x_range\":{\"type\":\"object\",\"name\":\"FactorRange\",\"id\":\"p3150\",\"attributes\":{\"factors\":[[\"0xpayne/gpt-migrate\",\"0xpayne\"],[\"0xpayne/gpt-migrate\",\"MkuuWaUjinga\"],[\"THUDM/ChatGLM2-6B\",\"Stanislas0\"],[\"THUDM/ChatGLM2-6B\",\"Yidadaa\"],[\"THUDM/ChatGLM2-6B\",\"duzx16\"],[\"THUDM/ChatGLM2-6B\",\"eltociear\"],[\"THUDM/ChatGLM2-6B\",\"hiyouga\"],[\"THUDM/ChatGLM2-6B\",\"li-plus\"],[\"THUDM/ChatGLM2-6B\",\"mougua\"],[\"THUDM/ChatGLM2-6B\",\"qinjx\"],[\"facebookresearch/audiocraft\",\"JonathanFly\"],[\"facebookresearch/audiocraft\",\"adefossez\"],[\"facebookresearch/audiocraft\",\"ashleykleynhans\"],[\"facebookresearch/audiocraft\",\"felixkreuk\"],[\"facebookresearch/audiocraft\",\"jamierpond\"],[\"facebookresearch/audiocraft\",\"mimbres\"],[\"facebookresearch/audiocraft\",\"patrickvonplaten\"],[\"facebookresearch/audiocraft\",\"radames\"],[\"facebookresearch/audiocraft\",\"sanchit-gandhi\"],[\"facebookresearch/audiocraft\",\"sungeuns\"],[\"facebookresearch/audiocraft\",\"syhw\"]],\"range_padding\":0.1}},\"y_range\":{\"type\":\"object\",\"name\":\"DataRange1d\",\"id\":\"p3153\",\"attributes\":{\"start\":0}},\"x_scale\":{\"type\":\"object\",\"name\":\"CategoricalScale\",\"id\":\"p3160\"},\"y_scale\":{\"type\":\"object\",\"name\":\"LinearScale\",\"id\":\"p3161\"},\"title\":{\"type\":\"object\",\"name\":\"Title\",\"id\":\"p3158\"},\"renderers\":[{\"type\":\"object\",\"name\":\"GlyphRenderer\",\"id\":\"p3183\",\"attributes\":{\"data_source\":{\"type\":\"object\",\"name\":\"ColumnDataSource\",\"id\":\"p3177\",\"attributes\":{\"selected\":{\"type\":\"object\",\"name\":\"Selection\",\"id\":\"p3178\",\"attributes\":{\"indices\":[],\"line_indices\":[]}},\"selection_policy\":{\"type\":\"object\",\"name\":\"UnionRenderers\",\"id\":\"p3179\"},\"data\":{\"type\":\"map\",\"entries\":[[\"x\",[[\"0xpayne/gpt-migrate\",\"0xpayne\"],[\"0xpayne/gpt-migrate\",\"MkuuWaUjinga\"],[\"THUDM/ChatGLM2-6B\",\"Stanislas0\"],[\"THUDM/ChatGLM2-6B\",\"Yidadaa\"],[\"THUDM/ChatGLM2-6B\",\"duzx16\"],[\"THUDM/ChatGLM2-6B\",\"eltociear\"],[\"THUDM/ChatGLM2-6B\",\"hiyouga\"],[\"THUDM/ChatGLM2-6B\",\"li-plus\"],[\"THUDM/ChatGLM2-6B\",\"mougua\"],[\"THUDM/ChatGLM2-6B\",\"qinjx\"],[\"facebookresearch/audiocraft\",\"JonathanFly\"],[\"facebookresearch/audiocraft\",\"adefossez\"],[\"facebookresearch/audiocraft\",\"ashleykleynhans\"],[\"facebookresearch/audiocraft\",\"felixkreuk\"],[\"facebookresearch/audiocraft\",\"jamierpond\"],[\"facebookresearch/audiocraft\",\"mimbres\"],[\"facebookresearch/audiocraft\",\"patrickvonplaten\"],[\"facebookresearch/audiocraft\",\"radames\"],[\"facebookresearch/audiocraft\",\"sanchit-gandhi\"],[\"facebookresearch/audiocraft\",\"sungeuns\"],[\"facebookresearch/audiocraft\",\"syhw\"]]],[\"top\",[51,2,2,1,34,1,3,1,1,6,1,66,1,1,1,1,1,1,1,1,3]]]}}},\"view\":{\"type\":\"object\",\"name\":\"CDSView\",\"id\":\"p3184\",\"attributes\":{\"filter\":{\"type\":\"object\",\"name\":\"AllIndices\",\"id\":\"p3185\"}}},\"glyph\":{\"type\":\"object\",\"name\":\"VBar\",\"id\":\"p3180\",\"attributes\":{\"x\":{\"type\":\"field\",\"field\":\"x\"},\"width\":{\"type\":\"value\",\"value\":0.9},\"top\":{\"type\":\"field\",\"field\":\"top\"},\"line_color\":{\"type\":\"value\",\"value\":\"#1f77b4\"},\"line_alpha\":{\"type\":\"value\",\"value\":0.5},\"fill_color\":{\"type\":\"value\",\"value\":\"#1f77b4\"},\"fill_alpha\":{\"type\":\"value\",\"value\":0.5},\"hatch_alpha\":{\"type\":\"value\",\"value\":0.5}}},\"nonselection_glyph\":{\"type\":\"object\",\"name\":\"VBar\",\"id\":\"p3181\",\"attributes\":{\"x\":{\"type\":\"field\",\"field\":\"x\"},\"width\":{\"type\":\"value\",\"value\":0.9},\"top\":{\"type\":\"field\",\"field\":\"top\"},\"line_color\":{\"type\":\"value\",\"value\":\"#1f77b4\"},\"line_alpha\":{\"type\":\"value\",\"value\":0.1},\"fill_color\":{\"type\":\"value\",\"value\":\"#1f77b4\"},\"fill_alpha\":{\"type\":\"value\",\"value\":0.1},\"hatch_alpha\":{\"type\":\"value\",\"value\":0.1}}},\"muted_glyph\":{\"type\":\"object\",\"name\":\"VBar\",\"id\":\"p3182\",\"attributes\":{\"x\":{\"type\":\"field\",\"field\":\"x\"},\"width\":{\"type\":\"value\",\"value\":0.9},\"top\":{\"type\":\"field\",\"field\":\"top\"},\"line_color\":{\"type\":\"value\",\"value\":\"#1f77b4\"},\"line_alpha\":{\"type\":\"value\",\"value\":0.2},\"fill_color\":{\"type\":\"value\",\"value\":\"#1f77b4\"},\"fill_alpha\":{\"type\":\"value\",\"value\":0.2},\"hatch_alpha\":{\"type\":\"value\",\"value\":0.2}}}}}],\"toolbar\":{\"type\":\"object\",\"name\":\"Toolbar\",\"id\":\"p3159\",\"attributes\":{\"tools\":[{\"type\":\"object\",\"name\":\"PanTool\",\"id\":\"p3172\"},{\"type\":\"object\",\"name\":\"WheelZoomTool\",\"id\":\"p3173\"},{\"type\":\"object\",\"name\":\"BoxZoomTool\",\"id\":\"p3174\",\"attributes\":{\"overlay\":{\"type\":\"object\",\"name\":\"BoxAnnotation\",\"id\":\"p3175\",\"attributes\":{\"syncable\":false,\"level\":\"overlay\",\"visible\":false,\"left_units\":\"canvas\",\"right_units\":\"canvas\",\"bottom_units\":\"canvas\",\"top_units\":\"canvas\",\"line_color\":\"black\",\"line_alpha\":1.0,\"line_width\":2,\"line_dash\":[4,4],\"fill_color\":\"lightgrey\",\"fill_alpha\":0.5}}}},{\"type\":\"object\",\"name\":\"ResetTool\",\"id\":\"p3176\"}]}},\"left\":[{\"type\":\"object\",\"name\":\"LinearAxis\",\"id\":\"p3167\",\"attributes\":{\"ticker\":{\"type\":\"object\",\"name\":\"BasicTicker\",\"id\":\"p3168\",\"attributes\":{\"mantissas\":[1,2,5]}},\"formatter\":{\"type\":\"object\",\"name\":\"BasicTickFormatter\",\"id\":\"p3169\"},\"major_label_policy\":{\"type\":\"object\",\"name\":\"AllLabels\",\"id\":\"p3170\"}}}],\"below\":[{\"type\":\"object\",\"name\":\"CategoricalAxis\",\"id\":\"p3162\",\"attributes\":{\"ticker\":{\"type\":\"object\",\"name\":\"CategoricalTicker\",\"id\":\"p3163\"},\"formatter\":{\"type\":\"object\",\"name\":\"CategoricalTickFormatter\",\"id\":\"p3164\"},\"major_label_orientation\":1,\"major_label_policy\":{\"type\":\"object\",\"name\":\"AllLabels\",\"id\":\"p3165\"}}}],\"center\":[{\"type\":\"object\",\"name\":\"Grid\",\"id\":\"p3166\",\"attributes\":{\"axis\":{\"id\":\"p3162\"},\"grid_line_color\":null}},{\"type\":\"object\",\"name\":\"Grid\",\"id\":\"p3171\",\"attributes\":{\"dimension\":1,\"axis\":{\"id\":\"p3167\"}}},{\"type\":\"object\",\"name\":\"Legend\",\"id\":\"p3186\",\"attributes\":{\"items\":[{\"type\":\"object\",\"name\":\"LegendItem\",\"id\":\"p3187\",\"attributes\":{\"label\":{\"type\":\"value\",\"value\":\"Number of commit for contributor base on project\"},\"renderers\":[{\"id\":\"p3183\"}]}}]}}]}}]}};\n  const render_items = [{\"docid\":\"50633d7b-8827-4b61-bcda-cd66f26d1544\",\"roots\":{\"p3151\":\"e3009458-f17d-406a-a304-78d6fb47ccf9\"},\"root_ids\":[\"p3151\"]}];\n  root.Bokeh.embed.embed_items_notebook(docs_json, render_items);\n  }\n  if (root.Bokeh !== undefined) {\n    embed_document(root);\n  } else {\n    let attempts = 0;\n    const timer = setInterval(function(root) {\n      if (root.Bokeh !== undefined) {\n        clearInterval(timer);\n        embed_document(root);\n      } else {\n        attempts++;\n        if (attempts > 100) {\n          clearInterval(timer);\n          console.log(\"Bokeh: ERROR: Unable to run BokehJS code because BokehJS library is missing\");\n        }\n      }\n    }, 10, root)\n  }\n})(window);",
      "application/vnd.bokehjs_exec.v0+json": ""
     },
     "metadata": {
      "application/vnd.bokehjs_exec.v0+json": {
       "id": "p3151"
      }
     },
     "output_type": "display_data"
    }
   ],
   "source": [
    "factors = tuple(df_grouped[['full_name','contributor']].itertuples(index=False,name=None))\n",
    "\n",
    "p = figure(x_range=FactorRange(*factors), height=400,\n",
    "           toolbar_location='right', width = 900,tools=\"pan,wheel_zoom,box_zoom,reset\")\n",
    "\n",
    "x = df_grouped['commit'].to_list()\n",
    "p.vbar(x=factors, top=x, width=0.9, alpha=0.5,legend_label='Number of commit for contributor base on project')\n",
    "\n",
    "\n",
    "p.y_range.start = 0\n",
    "p.x_range.range_padding = 0.1\n",
    "p.xaxis.major_label_orientation = 1\n",
    "p.xgrid.grid_line_color = None\n",
    "\n",
    "show(p)"
   ]
  },
  {
   "cell_type": "code",
   "execution_count": 109,
   "metadata": {},
   "outputs": [
    {
     "data": {
      "text/plain": [
       "['Python',\n",
       " 'JavaScript',\n",
       " 'Jupyter Notebook',\n",
       " 'Rust',\n",
       " 'TypeScript',\n",
       " 'Lua',\n",
       " 'Java',\n",
       " 'Ruby',\n",
       " 'Go',\n",
       " 'C++',\n",
       " 'HTML',\n",
       " 'PHP',\n",
       " 'Vue',\n",
       " 'Dart',\n",
       " 'C',\n",
       " 'Assembly',\n",
       " 'C#',\n",
       " 'Shell',\n",
       " 'Logos',\n",
       " 'Common Lisp',\n",
       " 'Swift',\n",
       " 'Processing',\n",
       " 'ASL',\n",
       " 'CSS',\n",
       " 'Kotlin',\n",
       " 'Svelte',\n",
       " 'Nix',\n",
       " 'Lean',\n",
       " 'Objective-C',\n",
       " 'Blade',\n",
       " 'Solidity',\n",
       " 'Roff',\n",
       " 'Pascal',\n",
       " 'Makefile',\n",
       " 'hoon',\n",
       " 'Just',\n",
       " 'PLpgSQL',\n",
       " 'Coq',\n",
       " 'ASP.NET',\n",
       " 'ShaderLab',\n",
       " 'TeX',\n",
       " 'Vim Script',\n",
       " 'D',\n",
       " 'SCSS',\n",
       " 'GLSL',\n",
       " 'MATLAB',\n",
       " 'SuperCollider',\n",
       " 'Berry',\n",
       " 'PowerShell',\n",
       " 'R',\n",
       " 'AutoHotkey',\n",
       " 'Markdown',\n",
       " 'Julia',\n",
       " 'HCL',\n",
       " 'Haxe',\n",
       " 'VHDL',\n",
       " 'Hack',\n",
       " 'ImageJ Macro',\n",
       " 'CMake',\n",
       " 'Move',\n",
       " 'Astro',\n",
       " 'Emacs Lisp',\n",
       " 'Scala',\n",
       " 'Zig',\n",
       " 'GDScript',\n",
       " 'Max',\n",
       " 'Xojo',\n",
       " 'Nim',\n",
       " 'Cython',\n",
       " 'Cairo',\n",
       " 'Elixir',\n",
       " 'TSQL',\n",
       " 'Fortran',\n",
       " 'G-code',\n",
       " 'Racket',\n",
       " 'Smalltalk',\n",
       " 'VBScript',\n",
       " 'RobotFramework',\n",
       " 'Dockerfile',\n",
       " 'Cuda',\n",
       " 'Jinja',\n",
       " 'Verilog',\n",
       " 'F#',\n",
       " 'Monkey C',\n",
       " 'Batchfile',\n",
       " 'AMPL',\n",
       " 'YARA',\n",
       " 'Pug',\n",
       " 'Io',\n",
       " 'MDX',\n",
       " 'Gleam',\n",
       " 'RouterOS Script',\n",
       " 'Pawn',\n",
       " 'EJS',\n",
       " 'Game Maker Language',\n",
       " 'AppleScript',\n",
       " 'SourcePawn',\n",
       " 'Handlebars',\n",
       " 'Nu',\n",
       " 'Visual Basic .NET',\n",
       " 'Vala',\n",
       " 'Smarty',\n",
       " 'Scheme',\n",
       " 'GSC',\n",
       " 'Inno Setup',\n",
       " 'q',\n",
       " 'Crystal',\n",
       " 'Haskell',\n",
       " 'Mathematica',\n",
       " 'Papyrus',\n",
       " 'AL',\n",
       " 'Clojure',\n",
       " 'Elm',\n",
       " 'mcfunction',\n",
       " 'Perl',\n",
       " 'PostScript',\n",
       " 'ZenScript',\n",
       " 'Fluent',\n",
       " 'Reason',\n",
       " 'OCaml',\n",
       " 'Yacc',\n",
       " 'Bicep',\n",
       " 'Gherkin',\n",
       " 'Yul',\n",
       " 'ColdFusion',\n",
       " 'Metal',\n",
       " 'Apex',\n",
       " 'V',\n",
       " 'Erlang',\n",
       " 'OpenSCAD',\n",
       " 'Starlark',\n",
       " 'sed',\n",
       " 'HLSL',\n",
       " 'Rich Text Format',\n",
       " 'Circom',\n",
       " 'Open Policy Agent',\n",
       " 'AutoIt',\n",
       " 'Twig',\n",
       " 'Prolog',\n",
       " 'SWIG',\n",
       " 'BASIC',\n",
       " 'ABAP',\n",
       " 'Objective-C++',\n",
       " 'Brightscript',\n",
       " 'Sass',\n",
       " 'Gnuplot',\n",
       " 'KiCad Schematic',\n",
       " 'Agda',\n",
       " 'Tcl',\n",
       " '1C Enterprise',\n",
       " 'ActionScript',\n",
       " 'Liquid',\n",
       " 'LLVM',\n",
       " 'BitBake',\n",
       " 'COBOL',\n",
       " \"Ren'Py\",\n",
       " 'Classic ASP',\n",
       " 'SystemVerilog',\n",
       " 'QML',\n",
       " 'Stan',\n",
       " 'Janet',\n",
       " 'VBA',\n",
       " 'Nextflow',\n",
       " 'Cycript',\n",
       " 'Bluespec',\n",
       " 'Less',\n",
       " 'NSIS',\n",
       " 'XML',\n",
       " 'Mermaid',\n",
       " 'Odin',\n",
       " 'PureScript',\n",
       " 'Pyret',\n",
       " 'Stylus',\n",
       " 'CUE',\n",
       " 'M',\n",
       " 'HolyC',\n",
       " 'XSLT',\n",
       " 'M4',\n",
       " 'Meson',\n",
       " 'Red',\n",
       " 'Mustache',\n",
       " 'PLSQL']"
      ]
     },
     "execution_count": 109,
     "metadata": {},
     "output_type": "execute_result"
    }
   ],
   "source": [
    "df_repos['language'].unique().tolist()"
   ]
  },
  {
   "cell_type": "markdown",
   "metadata": {},
   "source": [
    "# <p style='color:red;font-size:20px;text-align:center'>The Most Used Technology.</p>"
   ]
  },
  {
   "cell_type": "code",
   "execution_count": 59,
   "metadata": {},
   "outputs": [
    {
     "data": {
      "text/html": [
       "\n",
       "  <div id=\"b335b0fb-d851-4db4-94af-d2c6480d1663\" data-root-id=\"p2760\" style=\"display: contents;\"></div>\n"
      ]
     },
     "metadata": {},
     "output_type": "display_data"
    },
    {
     "data": {
      "application/javascript": "(function(root) {\n  function embed_document(root) {\n  const docs_json = {\"7e7e35a5-d949-432a-b135-bb71a307056e\":{\"version\":\"3.2.0\",\"title\":\"Bokeh Application\",\"roots\":[{\"type\":\"object\",\"name\":\"Figure\",\"id\":\"p2760\",\"attributes\":{\"width\":900,\"height\":350,\"x_range\":{\"type\":\"object\",\"name\":\"FactorRange\",\"id\":\"p2770\",\"attributes\":{\"factors\":[\"Python\",\"JavaScript\",\"TypeScript\",\"Java\",\"HTML\"]}},\"y_range\":{\"type\":\"object\",\"name\":\"DataRange1d\",\"id\":\"p2762\",\"attributes\":{\"start\":0,\"end\":4670}},\"x_scale\":{\"type\":\"object\",\"name\":\"CategoricalScale\",\"id\":\"p2771\"},\"y_scale\":{\"type\":\"object\",\"name\":\"LinearScale\",\"id\":\"p2772\"},\"title\":{\"type\":\"object\",\"name\":\"Title\",\"id\":\"p2763\",\"attributes\":{\"text\":\"Technology Counts\"}},\"renderers\":[{\"type\":\"object\",\"name\":\"GlyphRenderer\",\"id\":\"p2797\",\"attributes\":{\"data_source\":{\"type\":\"object\",\"name\":\"ColumnDataSource\",\"id\":\"p2757\",\"attributes\":{\"selected\":{\"type\":\"object\",\"name\":\"Selection\",\"id\":\"p2758\",\"attributes\":{\"indices\":[],\"line_indices\":[]}},\"selection_policy\":{\"type\":\"object\",\"name\":\"UnionRenderers\",\"id\":\"p2759\"},\"data\":{\"type\":\"map\",\"entries\":[[\"languages\",[\"Python\",\"JavaScript\",\"TypeScript\",\"Java\",\"HTML\"]],[\"counts\",[4270,3190,2065,1115,1106]]]}}},\"view\":{\"type\":\"object\",\"name\":\"CDSView\",\"id\":\"p2798\",\"attributes\":{\"filter\":{\"type\":\"object\",\"name\":\"AllIndices\",\"id\":\"p2799\"}}},\"glyph\":{\"type\":\"object\",\"name\":\"VBar\",\"id\":\"p2794\",\"attributes\":{\"x\":{\"type\":\"field\",\"field\":\"languages\"},\"width\":{\"type\":\"value\",\"value\":0.9},\"top\":{\"type\":\"field\",\"field\":\"counts\"},\"line_color\":{\"type\":\"value\",\"value\":\"white\"},\"fill_color\":{\"type\":\"field\",\"field\":\"languages\",\"transform\":{\"type\":\"object\",\"name\":\"CategoricalColorMapper\",\"id\":\"p2790\",\"attributes\":{\"palette\":[\"#3288bd\",\"#99d594\",\"#e6f598\",\"#fee08b\",\"#fc8d59\",\"#d53e4f\"],\"factors\":[\"Python\",\"JavaScript\",\"TypeScript\",\"Java\",\"HTML\"]}}}}},\"nonselection_glyph\":{\"type\":\"object\",\"name\":\"VBar\",\"id\":\"p2795\",\"attributes\":{\"x\":{\"type\":\"field\",\"field\":\"languages\"},\"width\":{\"type\":\"value\",\"value\":0.9},\"top\":{\"type\":\"field\",\"field\":\"counts\"},\"line_color\":{\"type\":\"value\",\"value\":\"white\"},\"line_alpha\":{\"type\":\"value\",\"value\":0.1},\"fill_color\":{\"type\":\"field\",\"field\":\"languages\",\"transform\":{\"id\":\"p2790\"}},\"fill_alpha\":{\"type\":\"value\",\"value\":0.1},\"hatch_alpha\":{\"type\":\"value\",\"value\":0.1}}},\"muted_glyph\":{\"type\":\"object\",\"name\":\"VBar\",\"id\":\"p2796\",\"attributes\":{\"x\":{\"type\":\"field\",\"field\":\"languages\"},\"width\":{\"type\":\"value\",\"value\":0.9},\"top\":{\"type\":\"field\",\"field\":\"counts\"},\"line_color\":{\"type\":\"value\",\"value\":\"white\"},\"line_alpha\":{\"type\":\"value\",\"value\":0.2},\"fill_color\":{\"type\":\"field\",\"field\":\"languages\",\"transform\":{\"id\":\"p2790\"}},\"fill_alpha\":{\"type\":\"value\",\"value\":0.2},\"hatch_alpha\":{\"type\":\"value\",\"value\":0.2}}}}}],\"toolbar\":{\"type\":\"object\",\"name\":\"Toolbar\",\"id\":\"p2769\",\"attributes\":{\"tools\":[{\"type\":\"object\",\"name\":\"PanTool\",\"id\":\"p2783\"},{\"type\":\"object\",\"name\":\"WheelZoomTool\",\"id\":\"p2784\"},{\"type\":\"object\",\"name\":\"BoxZoomTool\",\"id\":\"p2785\",\"attributes\":{\"overlay\":{\"type\":\"object\",\"name\":\"BoxAnnotation\",\"id\":\"p2786\",\"attributes\":{\"syncable\":false,\"level\":\"overlay\",\"visible\":false,\"left_units\":\"canvas\",\"right_units\":\"canvas\",\"bottom_units\":\"canvas\",\"top_units\":\"canvas\",\"line_color\":\"black\",\"line_alpha\":1.0,\"line_width\":2,\"line_dash\":[4,4],\"fill_color\":\"lightgrey\",\"fill_alpha\":0.5}}}},{\"type\":\"object\",\"name\":\"SaveTool\",\"id\":\"p2787\"},{\"type\":\"object\",\"name\":\"ResetTool\",\"id\":\"p2788\"},{\"type\":\"object\",\"name\":\"HelpTool\",\"id\":\"p2789\"}]}},\"left\":[{\"type\":\"object\",\"name\":\"LinearAxis\",\"id\":\"p2778\",\"attributes\":{\"ticker\":{\"type\":\"object\",\"name\":\"BasicTicker\",\"id\":\"p2779\",\"attributes\":{\"mantissas\":[1,2,5]}},\"formatter\":{\"type\":\"object\",\"name\":\"BasicTickFormatter\",\"id\":\"p2780\"},\"major_label_policy\":{\"type\":\"object\",\"name\":\"AllLabels\",\"id\":\"p2781\"}}}],\"below\":[{\"type\":\"object\",\"name\":\"CategoricalAxis\",\"id\":\"p2773\",\"attributes\":{\"ticker\":{\"type\":\"object\",\"name\":\"CategoricalTicker\",\"id\":\"p2774\"},\"formatter\":{\"type\":\"object\",\"name\":\"CategoricalTickFormatter\",\"id\":\"p2775\"},\"major_label_policy\":{\"type\":\"object\",\"name\":\"AllLabels\",\"id\":\"p2776\"}}}],\"center\":[{\"type\":\"object\",\"name\":\"Grid\",\"id\":\"p2777\",\"attributes\":{\"axis\":{\"id\":\"p2773\"},\"grid_line_color\":null}},{\"type\":\"object\",\"name\":\"Grid\",\"id\":\"p2782\",\"attributes\":{\"dimension\":1,\"axis\":{\"id\":\"p2778\"}}},{\"type\":\"object\",\"name\":\"Legend\",\"id\":\"p2800\",\"attributes\":{\"location\":\"top_center\",\"orientation\":\"horizontal\",\"items\":[{\"type\":\"object\",\"name\":\"LegendItem\",\"id\":\"p2801\",\"attributes\":{\"label\":{\"type\":\"field\",\"field\":\"languages\"},\"renderers\":[{\"id\":\"p2797\"}]}}]}}]}}]}};\n  const render_items = [{\"docid\":\"7e7e35a5-d949-432a-b135-bb71a307056e\",\"roots\":{\"p2760\":\"b335b0fb-d851-4db4-94af-d2c6480d1663\"},\"root_ids\":[\"p2760\"]}];\n  root.Bokeh.embed.embed_items_notebook(docs_json, render_items);\n  }\n  if (root.Bokeh !== undefined) {\n    embed_document(root);\n  } else {\n    let attempts = 0;\n    const timer = setInterval(function(root) {\n      if (root.Bokeh !== undefined) {\n        clearInterval(timer);\n        embed_document(root);\n      } else {\n        attempts++;\n        if (attempts > 100) {\n          clearInterval(timer);\n          console.log(\"Bokeh: ERROR: Unable to run BokehJS code because BokehJS library is missing\");\n        }\n      }\n    }, 10, root)\n  }\n})(window);",
      "application/vnd.bokehjs_exec.v0+json": ""
     },
     "metadata": {
      "application/vnd.bokehjs_exec.v0+json": {
       "id": "p2760"
      }
     },
     "output_type": "display_data"
    }
   ],
   "source": [
    "def GetTheMostUsedLanguge(Rows_number):\n",
    "    data = df_repos['language'].value_counts().head(Rows_number).to_dict()\n",
    "    group_data = list(data.values())\n",
    "    group_languagea_names = list(data.keys())\n",
    "    languages = group_languagea_names\n",
    "    counts = group_data\n",
    "\n",
    "    source = ColumnDataSource(data=dict(languages=languages, counts=counts))\n",
    "\n",
    "    p = figure(x_range=languages, height=350, toolbar_location=\"right\", title=\"Technology Counts\",width=900)\n",
    "    p.vbar(x='languages', top='counts', width=0.9, source=source, legend_field=\"languages\",\n",
    "        line_color='white', fill_color=factor_cmap('languages', palette=Spectral6, factors=languages))\n",
    "\n",
    "    p.xgrid.grid_line_color = None\n",
    "    p.y_range.start = 0\n",
    "    p.y_range.end = group_data[0] + 400\n",
    "    p.legend.orientation = \"horizontal\"\n",
    "    p.legend.location = \"top_center\"\n",
    "    show(p)\n",
    "\n",
    "GetTheMostUsedLanguge(5)"
   ]
  },
  {
   "cell_type": "markdown",
   "metadata": {},
   "source": [
    "# <p style='color:red;font-size:20px;text-align:center'>The Most Widely Used Technology By The Time.</p>"
   ]
  },
  {
   "cell_type": "code",
   "execution_count": 60,
   "metadata": {},
   "outputs": [],
   "source": [
    "df_by_date = df_repos.groupby('created_at')[['language','full_name']].apply(lambda x:x)"
   ]
  },
  {
   "cell_type": "code",
   "execution_count": 76,
   "metadata": {},
   "outputs": [],
   "source": [
    "data = df_by_date.groupby(['created_at','language'])['full_name'].count().reset_index(name='counts')\n"
   ]
  },
  {
   "cell_type": "code",
   "execution_count": 77,
   "metadata": {},
   "outputs": [
    {
     "data": {
      "application/vnd.jupyter.widget-view+json": {
       "model_id": "46401b4da05b491fa9ef1e8a9d591660",
       "version_major": 2,
       "version_minor": 0
      },
      "text/plain": [
       "Dropdown(description='Temps :', index=3, options=('2023-06-01', '2023-06-02', '2023-06-03', '2023-06-04', '202…"
      ]
     },
     "metadata": {},
     "output_type": "display_data"
    },
    {
     "data": {
      "text/html": [
       "\n",
       "  <div id=\"c36deb7f-eefb-402a-bf0a-1e32687e6940\" data-root-id=\"p2955\" style=\"display: contents;\"></div>\n"
      ]
     },
     "metadata": {},
     "output_type": "display_data"
    },
    {
     "data": {
      "application/javascript": "(function(root) {\n  function embed_document(root) {\n  const docs_json = {\"b7fabf21-3776-4da6-90e0-9d950a0db974\":{\"version\":\"3.2.0\",\"title\":\"Bokeh Application\",\"roots\":[{\"type\":\"object\",\"name\":\"Figure\",\"id\":\"p2955\",\"attributes\":{\"width\":900,\"height\":400,\"x_range\":{\"type\":\"object\",\"name\":\"FactorRange\",\"id\":\"p2954\",\"attributes\":{\"factors\":[[\"2023-06-04\",\"ASL\"],[\"2023-06-04\",\"Assembly\"],[\"2023-06-04\",\"Astro\"],[\"2023-06-04\",\"Batchfile\"],[\"2023-06-04\",\"C\"],[\"2023-06-04\",\"C#\"],[\"2023-06-04\",\"C++\"],[\"2023-06-04\",\"CMake\"],[\"2023-06-04\",\"CSS\"],[\"2023-06-04\",\"Crystal\"],[\"2023-06-04\",\"Dart\"],[\"2023-06-04\",\"Dockerfile\"],[\"2023-06-04\",\"EJS\"],[\"2023-06-04\",\"Elixir\"],[\"2023-06-04\",\"F#\"],[\"2023-06-04\",\"Fortran\"],[\"2023-06-04\",\"GDScript\"],[\"2023-06-04\",\"GSC\"],[\"2023-06-04\",\"Go\"],[\"2023-06-04\",\"HCL\"],[\"2023-06-04\",\"HTML\"],[\"2023-06-04\",\"Haskell\"],[\"2023-06-04\",\"Inno Setup\"],[\"2023-06-04\",\"Java\"],[\"2023-06-04\",\"JavaScript\"],[\"2023-06-04\",\"Julia\"],[\"2023-06-04\",\"Jupyter Notebook\"],[\"2023-06-04\",\"Kotlin\"],[\"2023-06-04\",\"Lean\"],[\"2023-06-04\",\"Lua\"],[\"2023-06-04\",\"MATLAB\"],[\"2023-06-04\",\"Markdown\"],[\"2023-06-04\",\"Mathematica\"],[\"2023-06-04\",\"PHP\"],[\"2023-06-04\",\"PLpgSQL\"],[\"2023-06-04\",\"Papyrus\"],[\"2023-06-04\",\"PowerShell\"],[\"2023-06-04\",\"Python\"],[\"2023-06-04\",\"R\"],[\"2023-06-04\",\"Ruby\"],[\"2023-06-04\",\"Rust\"],[\"2023-06-04\",\"SCSS\"],[\"2023-06-04\",\"Scheme\"],[\"2023-06-04\",\"ShaderLab\"],[\"2023-06-04\",\"Shell\"],[\"2023-06-04\",\"Smarty\"],[\"2023-06-04\",\"Solidity\"],[\"2023-06-04\",\"Svelte\"],[\"2023-06-04\",\"Swift\"],[\"2023-06-04\",\"TeX\"],[\"2023-06-04\",\"TypeScript\"],[\"2023-06-04\",\"Vala\"],[\"2023-06-04\",\"Visual Basic .NET\"],[\"2023-06-04\",\"Vue\"],[\"2023-06-04\",\"q\"]],\"range_padding\":0.1}},\"y_range\":{\"type\":\"object\",\"name\":\"DataRange1d\",\"id\":\"p2957\",\"attributes\":{\"start\":0}},\"x_scale\":{\"type\":\"object\",\"name\":\"CategoricalScale\",\"id\":\"p2964\"},\"y_scale\":{\"type\":\"object\",\"name\":\"LinearScale\",\"id\":\"p2965\"},\"title\":{\"type\":\"object\",\"name\":\"Title\",\"id\":\"p2962\"},\"renderers\":[{\"type\":\"object\",\"name\":\"GlyphRenderer\",\"id\":\"p2987\",\"attributes\":{\"data_source\":{\"type\":\"object\",\"name\":\"ColumnDataSource\",\"id\":\"p2981\",\"attributes\":{\"selected\":{\"type\":\"object\",\"name\":\"Selection\",\"id\":\"p2982\",\"attributes\":{\"indices\":[],\"line_indices\":[]}},\"selection_policy\":{\"type\":\"object\",\"name\":\"UnionRenderers\",\"id\":\"p2983\"},\"data\":{\"type\":\"map\",\"entries\":[[\"x\",[[\"2023-06-04\",\"ASL\"],[\"2023-06-04\",\"Assembly\"],[\"2023-06-04\",\"Astro\"],[\"2023-06-04\",\"Batchfile\"],[\"2023-06-04\",\"C\"],[\"2023-06-04\",\"C#\"],[\"2023-06-04\",\"C++\"],[\"2023-06-04\",\"CMake\"],[\"2023-06-04\",\"CSS\"],[\"2023-06-04\",\"Crystal\"],[\"2023-06-04\",\"Dart\"],[\"2023-06-04\",\"Dockerfile\"],[\"2023-06-04\",\"EJS\"],[\"2023-06-04\",\"Elixir\"],[\"2023-06-04\",\"F#\"],[\"2023-06-04\",\"Fortran\"],[\"2023-06-04\",\"GDScript\"],[\"2023-06-04\",\"GSC\"],[\"2023-06-04\",\"Go\"],[\"2023-06-04\",\"HCL\"],[\"2023-06-04\",\"HTML\"],[\"2023-06-04\",\"Haskell\"],[\"2023-06-04\",\"Inno Setup\"],[\"2023-06-04\",\"Java\"],[\"2023-06-04\",\"JavaScript\"],[\"2023-06-04\",\"Julia\"],[\"2023-06-04\",\"Jupyter Notebook\"],[\"2023-06-04\",\"Kotlin\"],[\"2023-06-04\",\"Lean\"],[\"2023-06-04\",\"Lua\"],[\"2023-06-04\",\"MATLAB\"],[\"2023-06-04\",\"Markdown\"],[\"2023-06-04\",\"Mathematica\"],[\"2023-06-04\",\"PHP\"],[\"2023-06-04\",\"PLpgSQL\"],[\"2023-06-04\",\"Papyrus\"],[\"2023-06-04\",\"PowerShell\"],[\"2023-06-04\",\"Python\"],[\"2023-06-04\",\"R\"],[\"2023-06-04\",\"Ruby\"],[\"2023-06-04\",\"Rust\"],[\"2023-06-04\",\"SCSS\"],[\"2023-06-04\",\"Scheme\"],[\"2023-06-04\",\"ShaderLab\"],[\"2023-06-04\",\"Shell\"],[\"2023-06-04\",\"Smarty\"],[\"2023-06-04\",\"Solidity\"],[\"2023-06-04\",\"Svelte\"],[\"2023-06-04\",\"Swift\"],[\"2023-06-04\",\"TeX\"],[\"2023-06-04\",\"TypeScript\"],[\"2023-06-04\",\"Vala\"],[\"2023-06-04\",\"Visual Basic .NET\"],[\"2023-06-04\",\"Vue\"],[\"2023-06-04\",\"q\"]]],[\"top\",[1,3,1,2,14,27,40,3,21,1,11,1,2,2,1,1,2,1,28,3,57,1,1,56,134,1,40,17,1,15,3,1,1,26,1,1,1,186,2,4,22,2,1,1,18,1,2,5,11,4,73,1,1,9,1]]]}}},\"view\":{\"type\":\"object\",\"name\":\"CDSView\",\"id\":\"p2988\",\"attributes\":{\"filter\":{\"type\":\"object\",\"name\":\"AllIndices\",\"id\":\"p2989\"}}},\"glyph\":{\"type\":\"object\",\"name\":\"VBar\",\"id\":\"p2984\",\"attributes\":{\"x\":{\"type\":\"field\",\"field\":\"x\"},\"width\":{\"type\":\"value\",\"value\":0.9},\"top\":{\"type\":\"field\",\"field\":\"top\"},\"line_color\":{\"type\":\"value\",\"value\":\"#1f77b4\"},\"line_alpha\":{\"type\":\"value\",\"value\":0.5},\"fill_color\":{\"type\":\"value\",\"value\":\"#1f77b4\"},\"fill_alpha\":{\"type\":\"value\",\"value\":0.5},\"hatch_alpha\":{\"type\":\"value\",\"value\":0.5}}},\"nonselection_glyph\":{\"type\":\"object\",\"name\":\"VBar\",\"id\":\"p2985\",\"attributes\":{\"x\":{\"type\":\"field\",\"field\":\"x\"},\"width\":{\"type\":\"value\",\"value\":0.9},\"top\":{\"type\":\"field\",\"field\":\"top\"},\"line_color\":{\"type\":\"value\",\"value\":\"#1f77b4\"},\"line_alpha\":{\"type\":\"value\",\"value\":0.1},\"fill_color\":{\"type\":\"value\",\"value\":\"#1f77b4\"},\"fill_alpha\":{\"type\":\"value\",\"value\":0.1},\"hatch_alpha\":{\"type\":\"value\",\"value\":0.1}}},\"muted_glyph\":{\"type\":\"object\",\"name\":\"VBar\",\"id\":\"p2986\",\"attributes\":{\"x\":{\"type\":\"field\",\"field\":\"x\"},\"width\":{\"type\":\"value\",\"value\":0.9},\"top\":{\"type\":\"field\",\"field\":\"top\"},\"line_color\":{\"type\":\"value\",\"value\":\"#1f77b4\"},\"line_alpha\":{\"type\":\"value\",\"value\":0.2},\"fill_color\":{\"type\":\"value\",\"value\":\"#1f77b4\"},\"fill_alpha\":{\"type\":\"value\",\"value\":0.2},\"hatch_alpha\":{\"type\":\"value\",\"value\":0.2}}}}}],\"toolbar\":{\"type\":\"object\",\"name\":\"Toolbar\",\"id\":\"p2963\",\"attributes\":{\"tools\":[{\"type\":\"object\",\"name\":\"PanTool\",\"id\":\"p2976\"},{\"type\":\"object\",\"name\":\"WheelZoomTool\",\"id\":\"p2977\"},{\"type\":\"object\",\"name\":\"BoxZoomTool\",\"id\":\"p2978\",\"attributes\":{\"overlay\":{\"type\":\"object\",\"name\":\"BoxAnnotation\",\"id\":\"p2979\",\"attributes\":{\"syncable\":false,\"level\":\"overlay\",\"visible\":false,\"left_units\":\"canvas\",\"right_units\":\"canvas\",\"bottom_units\":\"canvas\",\"top_units\":\"canvas\",\"line_color\":\"black\",\"line_alpha\":1.0,\"line_width\":2,\"line_dash\":[4,4],\"fill_color\":\"lightgrey\",\"fill_alpha\":0.5}}}},{\"type\":\"object\",\"name\":\"ResetTool\",\"id\":\"p2980\"}]}},\"left\":[{\"type\":\"object\",\"name\":\"LinearAxis\",\"id\":\"p2971\",\"attributes\":{\"ticker\":{\"type\":\"object\",\"name\":\"BasicTicker\",\"id\":\"p2972\",\"attributes\":{\"mantissas\":[1,2,5]}},\"formatter\":{\"type\":\"object\",\"name\":\"BasicTickFormatter\",\"id\":\"p2973\"},\"major_label_policy\":{\"type\":\"object\",\"name\":\"AllLabels\",\"id\":\"p2974\"}}}],\"below\":[{\"type\":\"object\",\"name\":\"CategoricalAxis\",\"id\":\"p2966\",\"attributes\":{\"ticker\":{\"type\":\"object\",\"name\":\"CategoricalTicker\",\"id\":\"p2967\"},\"formatter\":{\"type\":\"object\",\"name\":\"CategoricalTickFormatter\",\"id\":\"p2968\"},\"major_label_orientation\":1,\"major_label_policy\":{\"type\":\"object\",\"name\":\"AllLabels\",\"id\":\"p2969\"}}}],\"center\":[{\"type\":\"object\",\"name\":\"Grid\",\"id\":\"p2970\",\"attributes\":{\"axis\":{\"id\":\"p2966\"},\"grid_line_color\":null}},{\"type\":\"object\",\"name\":\"Grid\",\"id\":\"p2975\",\"attributes\":{\"dimension\":1,\"axis\":{\"id\":\"p2971\"}}},{\"type\":\"object\",\"name\":\"Legend\",\"id\":\"p2990\",\"attributes\":{\"items\":[{\"type\":\"object\",\"name\":\"LegendItem\",\"id\":\"p2991\",\"attributes\":{\"label\":{\"type\":\"value\",\"value\":\"Number of repos\"},\"renderers\":[{\"id\":\"p2987\"}]}}]}}]}}]}};\n  const render_items = [{\"docid\":\"b7fabf21-3776-4da6-90e0-9d950a0db974\",\"roots\":{\"p2955\":\"c36deb7f-eefb-402a-bf0a-1e32687e6940\"},\"root_ids\":[\"p2955\"]}];\n  root.Bokeh.embed.embed_items_notebook(docs_json, render_items);\n  }\n  if (root.Bokeh !== undefined) {\n    embed_document(root);\n  } else {\n    let attempts = 0;\n    const timer = setInterval(function(root) {\n      if (root.Bokeh !== undefined) {\n        clearInterval(timer);\n        embed_document(root);\n      } else {\n        attempts++;\n        if (attempts > 100) {\n          clearInterval(timer);\n          console.log(\"Bokeh: ERROR: Unable to run BokehJS code because BokehJS library is missing\");\n        }\n      }\n    }, 10, root)\n  }\n})(window);",
      "application/vnd.bokehjs_exec.v0+json": ""
     },
     "metadata": {
      "application/vnd.bokehjs_exec.v0+json": {
       "id": "p2955"
      }
     },
     "output_type": "display_data"
    }
   ],
   "source": [
    "def GetNumberOfReposPerEachDay(date):\n",
    "    clear_output(wait=True)\n",
    "    display(wd)\n",
    "    data_for_each_day = data.loc[data['created_at'] == date][['created_at','language','counts']]\n",
    "    factors =  tuple(data_for_each_day[['created_at','language']].itertuples(index=False,name=None))\n",
    "\n",
    "    p = figure(x_range=FactorRange(*factors), height=400,\n",
    "            toolbar_location='right', width = 900,tools=\"pan,wheel_zoom,box_zoom,reset\")\n",
    "\n",
    "    x = data_for_each_day['counts'].to_list()\n",
    "    p.vbar(x=factors, top=x, width=0.9, alpha=0.5,legend_label='Number of repos')\n",
    "\n",
    "    p.y_range.start = 0\n",
    "    p.x_range.range_padding = 0.1\n",
    "    p.xaxis.major_label_orientation = 1\n",
    "    p.xgrid.grid_line_color = None\n",
    "\n",
    "    show(p)\n",
    "\n",
    "\n",
    "wd = widgets.Dropdown(\n",
    "    options=data['created_at'].unique().tolist(),\n",
    "    value=data['created_at'].unique().tolist()[0],\n",
    "    description='Temps :',\n",
    "    disabled=False,\n",
    ")\n",
    "\n",
    "wd.observe(lambda x:GetNumberOfReposPerEachDay(x['new']),names='value')\n",
    "\n",
    "display(wd)"
   ]
  },
  {
   "cell_type": "markdown",
   "metadata": {},
   "source": [
    "# <p style=\"text-align:center;font-size:20px;color:red;\">Top Technology used in 2023-06</p>"
   ]
  }
 ],
 "metadata": {
  "kernelspec": {
   "display_name": "Python 3",
   "language": "python",
   "name": "python3"
  },
  "language_info": {
   "codemirror_mode": {
    "name": "ipython",
    "version": 3
   },
   "file_extension": ".py",
   "mimetype": "text/x-python",
   "name": "python",
   "nbconvert_exporter": "python",
   "pygments_lexer": "ipython3",
   "version": "3.11.3"
  },
  "orig_nbformat": 4
 },
 "nbformat": 4,
 "nbformat_minor": 2
}
