{
 "cells": [
  {
   "cell_type": "code",
   "execution_count": 1,
   "metadata": {},
   "outputs": [],
   "source": [
    "import pandas as pd"
   ]
  },
  {
   "cell_type": "code",
   "execution_count": 2,
   "metadata": {},
   "outputs": [],
   "source": [
    "df_contributors = pd.read_csv('C:\\\\csv-data-collect\\\\github-2023_06_31_contributors.csv')\n",
    "df_contributors_top_20 = pd.read_csv('C:\\\\csv-data-collect\\\\github-2023_06_31_contributors_top_20_stars.csv')\n",
    "df_repos = pd.read_csv('C:\\\\csv-data-collect\\\\github-2023_06_31_main.csv')"
   ]
  },
  {
   "cell_type": "markdown",
   "metadata": {},
   "source": [
    "# <p style=\"color:red;text-align:center;font-size:20px\">Concat two data frames in one<p>"
   ]
  },
  {
   "cell_type": "code",
   "execution_count": 3,
   "metadata": {},
   "outputs": [
    {
     "data": {
      "text/html": [
       "<div>\n",
       "<style scoped>\n",
       "    .dataframe tbody tr th:only-of-type {\n",
       "        vertical-align: middle;\n",
       "    }\n",
       "\n",
       "    .dataframe tbody tr th {\n",
       "        vertical-align: top;\n",
       "    }\n",
       "\n",
       "    .dataframe thead th {\n",
       "        text-align: right;\n",
       "    }\n",
       "</style>\n",
       "<table border=\"1\" class=\"dataframe\">\n",
       "  <thead>\n",
       "    <tr style=\"text-align: right;\">\n",
       "      <th></th>\n",
       "      <th>full_name</th>\n",
       "      <th>contributor</th>\n",
       "      <th>commit</th>\n",
       "    </tr>\n",
       "  </thead>\n",
       "  <tbody>\n",
       "    <tr>\n",
       "      <th>0</th>\n",
       "      <td>facebookresearch/audiocraft</td>\n",
       "      <td>adefossez</td>\n",
       "      <td>66</td>\n",
       "    </tr>\n",
       "    <tr>\n",
       "      <th>1</th>\n",
       "      <td>facebookresearch/audiocraft</td>\n",
       "      <td>syhw</td>\n",
       "      <td>3</td>\n",
       "    </tr>\n",
       "    <tr>\n",
       "      <th>2</th>\n",
       "      <td>facebookresearch/audiocraft</td>\n",
       "      <td>ashleykleynhans</td>\n",
       "      <td>1</td>\n",
       "    </tr>\n",
       "    <tr>\n",
       "      <th>3</th>\n",
       "      <td>facebookresearch/audiocraft</td>\n",
       "      <td>felixkreuk</td>\n",
       "      <td>1</td>\n",
       "    </tr>\n",
       "    <tr>\n",
       "      <th>4</th>\n",
       "      <td>facebookresearch/audiocraft</td>\n",
       "      <td>jamierpond</td>\n",
       "      <td>1</td>\n",
       "    </tr>\n",
       "    <tr>\n",
       "      <th>...</th>\n",
       "      <td>...</td>\n",
       "      <td>...</td>\n",
       "      <td>...</td>\n",
       "    </tr>\n",
       "    <tr>\n",
       "      <th>10759</th>\n",
       "      <td>OpposedDeception/Firmware-Research</td>\n",
       "      <td>OpposedDeception</td>\n",
       "      <td>8</td>\n",
       "    </tr>\n",
       "    <tr>\n",
       "      <th>10760</th>\n",
       "      <td>Aarti-02/DevRev</td>\n",
       "      <td>Aarti-02</td>\n",
       "      <td>1</td>\n",
       "    </tr>\n",
       "    <tr>\n",
       "      <th>10761</th>\n",
       "      <td>luizfmarques/clone-tabnews</td>\n",
       "      <td>luizfmarques</td>\n",
       "      <td>10</td>\n",
       "    </tr>\n",
       "    <tr>\n",
       "      <th>10762</th>\n",
       "      <td>BAN-43-32532/FasterWhisperPytool</td>\n",
       "      <td>BAN-43-32532</td>\n",
       "      <td>19</td>\n",
       "    </tr>\n",
       "    <tr>\n",
       "      <th>10763</th>\n",
       "      <td>TheodShi/ai_ytv_summary</td>\n",
       "      <td>TheodShi</td>\n",
       "      <td>5</td>\n",
       "    </tr>\n",
       "  </tbody>\n",
       "</table>\n",
       "<p>10914 rows × 3 columns</p>\n",
       "</div>"
      ],
      "text/plain": [
       "                                full_name       contributor  commit\n",
       "0             facebookresearch/audiocraft         adefossez      66\n",
       "1             facebookresearch/audiocraft              syhw       3\n",
       "2             facebookresearch/audiocraft   ashleykleynhans       1\n",
       "3             facebookresearch/audiocraft        felixkreuk       1\n",
       "4             facebookresearch/audiocraft        jamierpond       1\n",
       "...                                   ...               ...     ...\n",
       "10759  OpposedDeception/Firmware-Research  OpposedDeception       8\n",
       "10760                     Aarti-02/DevRev          Aarti-02       1\n",
       "10761          luizfmarques/clone-tabnews      luizfmarques      10\n",
       "10762    BAN-43-32532/FasterWhisperPytool      BAN-43-32532      19\n",
       "10763             TheodShi/ai_ytv_summary          TheodShi       5\n",
       "\n",
       "[10914 rows x 3 columns]"
      ]
     },
     "execution_count": 3,
     "metadata": {},
     "output_type": "execute_result"
    }
   ],
   "source": [
    "frames = [df_contributors_top_20, df_contributors]\n",
    "pd.concat(frames)"
   ]
  },
  {
   "cell_type": "markdown",
   "metadata": {},
   "source": [
    "# <p style=\"color:red;text-align:center;font-size:20px\">Language Object<p>"
   ]
  },
  {
   "cell_type": "code",
   "execution_count": 4,
   "metadata": {},
   "outputs": [],
   "source": [
    "language_Object = pd.DataFrame(df_repos['language'].unique().tolist()).rename(columns={0:\"Languages\"})\n",
    "for index,x in language_Object.iterrows():\n",
    "    #print(index + 1,x.Languages)\n",
    "    pass"
   ]
  },
  {
   "cell_type": "markdown",
   "metadata": {},
   "source": [
    "# <p style=\"color:red;text-align:center;font-size:20px\">Owner Object<p>"
   ]
  },
  {
   "cell_type": "code",
   "execution_count": 5,
   "metadata": {},
   "outputs": [
    {
     "name": "stdout",
     "output_type": "stream",
     "text": [
      "1 Organization\n",
      "2 User\n"
     ]
    }
   ],
   "source": [
    "Owner_Object = pd.DataFrame(df_repos['owner'].unique().tolist()).rename(columns={0:\"Owners\"})\n",
    "for index,x in Owner_Object.iterrows():\n",
    "    print(index + 1,x.Owners)\n",
    "    pass"
   ]
  },
  {
   "cell_type": "markdown",
   "metadata": {},
   "source": [
    "# <p style=\"color:red;text-align:center;font-size:20px\">License Object<p>"
   ]
  },
  {
   "cell_type": "code",
   "execution_count": null,
   "metadata": {},
   "outputs": [],
   "source": [
    "Licenses_Object = pd.DataFrame(df_repos['license'].unique().tolist()).rename(columns={0:\"Licenses\"})\n",
    "for index,x in Licenses_Object.iterrows():\n",
    "    print(index + 1,x.Licenses)\n",
    "    pass"
   ]
  }
 ],
 "metadata": {
  "kernelspec": {
   "display_name": "Python 3",
   "language": "python",
   "name": "python3"
  },
  "language_info": {
   "codemirror_mode": {
    "name": "ipython",
    "version": 3
   },
   "file_extension": ".py",
   "mimetype": "text/x-python",
   "name": "python",
   "nbconvert_exporter": "python",
   "pygments_lexer": "ipython3",
   "version": "3.11.3"
  },
  "orig_nbformat": 4
 },
 "nbformat": 4,
 "nbformat_minor": 2
}
